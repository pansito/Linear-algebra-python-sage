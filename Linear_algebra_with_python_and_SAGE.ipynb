{
  "nbformat": 4,
  "nbformat_minor": 0,
  "metadata": {
    "colab": {
      "provenance": [],
      "authorship_tag": "ABX9TyOOYAx/jxOWRGbAwKIHiBVT",
      "include_colab_link": true
    },
    "kernelspec": {
      "name": "python3",
      "display_name": "Python 3"
    },
    "language_info": {
      "name": "python"
    }
  },
  "cells": [
    {
      "cell_type": "markdown",
      "metadata": {
        "id": "view-in-github",
        "colab_type": "text"
      },
      "source": [
        "<a href=\"https://colab.research.google.com/github/pansito/MCA/blob/main/Linear_algebra_with_python_and_SAGE.ipynb\" target=\"_parent\"><img src=\"https://colab.research.google.com/assets/colab-badge.svg\" alt=\"Open In Colab\"/></a>"
      ]
    },
    {
      "cell_type": "markdown",
      "source": [
        "## Vector\n"
      ],
      "metadata": {
        "id": "gjRBuG_X7DhX"
      }
    },
    {
      "cell_type": "markdown",
      "source": [
        "### Punto en el espacio\n",
        "\n",
        "Para los propósitos de desarrollo de este curo, se asume la definición de punto, centraremos su descripción en sus propiedad de definirlo según la dimensión, i.e. Asumimos que la dimensión de la línea es 1, por lo que un punto A en la linea sería $A=(x_1)$, para el caso del espacio $A=(x_1,x_2)$; en general para un espacio de dimensión n, que por restricción de este curso denotaremos $R^n$ se tiene que un punto $A \\in R^n$ es de la forma: $A=(x_1,x_2,...,x_n)$"
      ],
      "metadata": {
        "id": "MJw61vuP7K1T"
      }
    },
    {
      "cell_type": "markdown",
      "source": [
        "Una pregunta, que puede surgir es: ¿Cómo se pueden representar entonces dichos puntos en python?\n",
        "\n",
        "\n",
        "Por convencionalidad y similaridad representativa se pueden utilizar tuplas, sin embargo de manera similar pueden usarse listas, que por facilidad de uso en sus propiedades serán las utilizadas.\n",
        "\n",
        "Además, por el objetivo introductorio de este curso, resumiremos las repreentaciones a elementos en $R^2 y R^3$.\n"
      ],
      "metadata": {
        "id": "CqaovawZ9GzK"
      }
    },
    {
      "cell_type": "code",
      "source": [
        "#Representación en tupla\n",
        "A = (1,2) # Para el punto (1,2) en el espacio R^2\n",
        "B = (1,2,3) # Para el punto (1,2,3) en el espacio R^3\n",
        "#Representación en Lista\n",
        "A = (1,2) # Para el punto (1,2) en el espacio R^2\n",
        "B = (1,2,3) # Para el punto (1,2,3) en el espacio R^3\n"
      ],
      "metadata": {
        "id": "3Q24WoYN7GXw"
      },
      "execution_count": null,
      "outputs": []
    },
    {
      "cell_type": "markdown",
      "source": [
        "De aquí, es posible proceder con la definción de adición de vectores.\n",
        "### Suma de vectores\n",
        "Dados 2 vectores, que para ejemplificar estarán en un espacio 3 dimensional, $A=(x_1,x_2x_3), B=(y_1, y_2,y_3)$ la suma de estos vectores es, a su vez, un vetor $C$ dado por la suma componente a componente del vector como sigue:\n",
        "\n",
        "$$ C= (x_1 + y_1, x_2 + y_2, x_3 + y_3) $$\n",
        "\n",
        "De donde se tiene la primera restricción y es que para sumar vectores ambos deben pertecer al mismo espacio, que en otras palabras es tener la misma dimensión.\n",
        "\n",
        "En general:\n",
        "\n",
        "Sean $A = (x_1,x_2,...,x_n),B=(y_1,y_2,...,y_n)  \\in R^n$ el vector  $C = A+B = $ se define como: $C=(x_1+y_1,x_2+y_2,...,x_n+y_n)$\n"
      ],
      "metadata": {
        "id": "8_wc_G76ERZ2"
      }
    },
    {
      "cell_type": "markdown",
      "source": [
        "Dado por construcción de la estructura de datos en listas o tuplas, no pes posible utilizar el símbolo suma (+) directamente sobre loos eementos pues python asume que se trata de la operación de concatenar\n"
      ],
      "metadata": {
        "id": "zwFIQHw6IkHf"
      }
    },
    {
      "cell_type": "code",
      "execution_count": null,
      "metadata": {
        "id": "Kn3cLIRlqpVi",
        "colab": {
          "base_uri": "https://localhost:8080/"
        },
        "outputId": "a727e456-6694-466e-f54b-3c9517d1b770"
      },
      "outputs": [
        {
          "output_type": "stream",
          "name": "stdout",
          "text": [
            "(1, 2, 3, 4, 5, 6)\n",
            "[1, 2, 3, 4, 5, 6]\n"
          ]
        }
      ],
      "source": [
        "A = (1,2,3)\n",
        "B = (4,5,6)\n",
        "print(A+B)\n",
        "\n",
        "#Es similar para el caso de listas:\n",
        "A = [1,2,3]\n",
        "B = [4,5,6]\n",
        "print(A+B)"
      ]
    },
    {
      "cell_type": "markdown",
      "source": [
        "Como alternativa, aunque no es computacionalmente lo más óptimo, se puede utilizar un ciclo para iterar sobre las listas y hacer la suma componente a componente como en la definición y agregarla a una nueva lista."
      ],
      "metadata": {
        "id": "MkHTm7PkL0mS"
      }
    },
    {
      "cell_type": "code",
      "source": [
        "C =[] #lista vacía donde se agregaran los elementos sumados.\n",
        "A = [1,2,3]\n",
        "B = [4,5,6]\n",
        "\n",
        "#se utilizará un ciclo for.\n",
        "for i in range(3): #Para este caso particular pues el vector tiene 3 elementos\n",
        "  C.append(A[i]+B[i]) #Append permite agregar elementos a una lista.\n",
        "print(C)"
      ],
      "metadata": {
        "colab": {
          "base_uri": "https://localhost:8080/"
        },
        "id": "Y0msr08aFkRM",
        "outputId": "2fd0b4cf-a79b-4486-dd5e-09f79410f926"
      },
      "execution_count": null,
      "outputs": [
        {
          "output_type": "stream",
          "name": "stdout",
          "text": [
            "[5, 7, 9]\n"
          ]
        }
      ]
    },
    {
      "cell_type": "markdown",
      "source": [
        "Ahora, De mner similar y, para generalizar es posible definir una función de python que reciba un par de vectores (lista) y retorne un vector (lista) con la suma:\n"
      ],
      "metadata": {
        "id": "LJUA5p7WM2Wz"
      }
    },
    {
      "cell_type": "code",
      "source": [
        "def SumVectores(A,B):\n",
        "  C=[]\n",
        "  for i in range(len(A)): #Puede usarse A o B indistintivamnte pues usamos la medida de dimensión y para este caso deben ser iguales\n",
        "    C.append(A[i]+B[i])\n",
        "  return C\n",
        "\n"
      ],
      "metadata": {
        "id": "H5KXnmuJM1wQ"
      },
      "execution_count": null,
      "outputs": []
    },
    {
      "cell_type": "code",
      "source": [
        "# Usando los puntos A,B basta con llamar la función:\n",
        "C = SumVectores(A,B)\n",
        "print(C)\n",
        "# De manera análoga se pueden entregar directamente los vectores (no variables que los contienen) en la función:\n",
        "C= SumVectores([2,5,8],[3,1,4])\n",
        "print(C)\n"
      ],
      "metadata": {
        "colab": {
          "base_uri": "https://localhost:8080/"
        },
        "id": "E1lOhY38Nh3j",
        "outputId": "1b5b1214-77fd-4ecf-fa6d-e7eeb07140a6"
      },
      "execution_count": null,
      "outputs": [
        {
          "output_type": "stream",
          "name": "stdout",
          "text": [
            "[5, 7, 9]\n",
            "[5, 6, 12]\n"
          ]
        }
      ]
    },
    {
      "cell_type": "markdown",
      "source": [
        "Se deja como ejercicio al lector revisar y presentar ejemplos en python que las siguientes propiedades se cumplen:\n",
        "1. $(A + B) + C == A + (B + C)$\n",
        "2. $A + B == B + A$\n",
        "3. Si $O = (0,0,...,0), A+O==O+A==A $\n",
        "4. Si $A=(x_1,x_2...,x_n)$ y $-A = (-x_1,-x_2,...,-x_n)$ se sumple que $A+(-A) == O$\n",
        "\n",
        "para los casos $R^2 y R^3$ ."
      ],
      "metadata": {
        "id": "ZaxOIIkuQUrx"
      }
    },
    {
      "cell_type": "code",
      "source": [
        "#Insert code here."
      ],
      "metadata": {
        "id": "M36iqmL_ZiiL"
      },
      "execution_count": null,
      "outputs": []
    },
    {
      "cell_type": "markdown",
      "source": [
        "Antes de definir la multiplicación escalar entre puntos del espacio, definimos la multiplicación entre un escalar y punto.\n",
        "Sea $α \\in R$ un escalar y  un vector $ω \\in R^n$ el producto escalar se define como:\n",
        "\n",
        "$$ α ⋅ ω = (α ⋅ ω_1,α ⋅ ω_2,...,α ⋅ ω_n) $$\n",
        "\n",
        "Es decir, es la distribución de componente a componente, se cumoe que el resultado de dicho producto es otro punto en el espacio"
      ],
      "metadata": {
        "id": "B0C87MQ2ZhUD"
      }
    },
    {
      "cell_type": "code",
      "source": [
        "#Ejemplo:\n",
        "w = [1,3,4]\n",
        "a=2\n",
        "aw = []\n",
        "for i in w:\n",
        "  aw.append(i*a)\n",
        "\n",
        "print(aw)"
      ],
      "metadata": {
        "colab": {
          "base_uri": "https://localhost:8080/"
        },
        "id": "2w7XAdKgeJsm",
        "outputId": "a3b11201-ee6f-418d-d194-21d56cd4b7c0"
      },
      "execution_count": null,
      "outputs": [
        {
          "output_type": "stream",
          "name": "stdout",
          "text": [
            "[2, 6, 8]\n"
          ]
        }
      ]
    },
    {
      "cell_type": "markdown",
      "source": [
        "#### Ejercicios:\n",
        "Encuentre $A + B, A - B, 3A, - 2B$ para los elementos:\n",
        "\n",
        "1. $A = (2, -1,5), B = (-1,1,1) $\n",
        "2. $A = ( -1, 3), B = (0, 4) $"
      ],
      "metadata": {
        "id": "UcFYAjBBZlKH"
      }
    },
    {
      "cell_type": "code",
      "source": [
        "\n"
      ],
      "metadata": {
        "id": "CmOcJ-w9GG5u"
      },
      "execution_count": null,
      "outputs": []
    },
    {
      "cell_type": "markdown",
      "source": [
        "### Vector\n",
        "Se dará una definición general pero, como se mencionó anteriormente por cuestiones de enfoque y ayuda (en interpretaciones visuales) se restringiran a 2 y 3 dimensiones.\n",
        "\n",
        "Dados 2 puntos $A,B \\in R^n$ se dice que el $\\vec{AB} = (y_1 - x_1, y_2 - x_2,..., y_n - x_n)$ donde $x_i,y_i, i \\in {1,... ,n}$ son las componentes de los puntos $A,B$ respectivamente; decimos que $\\vec{AB}$ es el vector (o vertor dirección) correspondinte a dichos puntos.\n",
        "\n",
        "Para notación futura se utilizará sólo un símbolo de variable (sin la flecha superior) y se asumirá que es un punto salvo execiones explícitas.  "
      ],
      "metadata": {
        "id": "uMqubkW5GHj4"
      }
    },
    {
      "cell_type": "markdown",
      "source": [
        "#### Paralelismo de vectores\n",
        "\n",
        "Dados 2 vectores $ω, ν \\in R^n$ se dice que son paralelos si existe un $α \\in R^n . tq: α ω = \\nu$, es decir, si un vector es múltiplo escalar de el otro vector."
      ],
      "metadata": {
        "id": "MImvgvnZJDiQ"
      }
    },
    {
      "cell_type": "markdown",
      "source": [
        "#### Producto escalar"
      ],
      "metadata": {
        "id": "vHoieg60ExNM"
      }
    },
    {
      "cell_type": "markdown",
      "source": [
        "Dados 2 vectores $ω, ν \\in R^n$ se define el producto escalar\n",
        "\n",
        " $$ ω ⋅ ν := \\omega_1 \\cdot \\nu_1 + \\omega_2 \\cdot \\nu_2 + ⋯ + \\omega_n \\cdot \\nu_n  = \\sum_1 ^n \\nu_i \\cdot \\omega_i $$ $$_{i \\in \\{1,2,...,n\\}}$$\n",
        "\n",
        "Cabe denotar que el resultado de dicho producto no es otro vector, si no un escalar (un elemento del espacio que, en este caso es un número real)."
      ],
      "metadata": {
        "id": "gp-40UJrKoqX"
      }
    },
    {
      "cell_type": "code",
      "source": [
        "w = [1, 2, 3]\n",
        "v = [3, 4, 5]\n",
        "vw=0\n",
        "for i in range(len(w)):\n",
        "  vw+= w[i]*v[i]\n",
        "print(vw)"
      ],
      "metadata": {
        "colab": {
          "base_uri": "https://localhost:8080/"
        },
        "id": "go1Fxca9cPaa",
        "outputId": "784f7755-f67b-44d7-bad7-41cd5991d917"
      },
      "execution_count": null,
      "outputs": [
        {
          "output_type": "stream",
          "name": "stdout",
          "text": [
            "26\n"
          ]
        }
      ]
    },
    {
      "cell_type": "markdown",
      "source": [
        "Para el producto escalar se cumplen las siguientes propiedades:\n",
        "1. $A \\cdot B = B \\cdot A$\n",
        "\n",
        "2. $A,B,C \\in R^n ⇒ A \\cdot (B+C) = A \\cdot B + A ⋅ C =(B+C) \\cdot A$\n",
        "\n",
        "2. Si $x \\in R$ y $A,B \\in R^n ⇒ xA \\cdot B = x(A⋅B) = A \\cdot xB$\n",
        "\n",
        "4. Si A=0 (el vector nulo $(0,0,..,0)) ⇒ A \\cdot A = 0$\n"
      ],
      "metadata": {
        "id": "vRgih-hZ3ErK"
      }
    },
    {
      "cell_type": "code",
      "source": [
        "#Se propone como ejercicio para el lector la comprobación mediante ejemplos para el espacio R2 y R3"
      ],
      "metadata": {
        "id": "RgcNrdq33C_X"
      },
      "execution_count": null,
      "outputs": []
    },
    {
      "cell_type": "markdown",
      "source": [
        "#### Norma de un vector\n",
        "\n",
        "Dado, lo que podemos entender como un vector, reduciedo al espacio de trabajo de este curso, un segmento de recta en el plano, es natural preguntarse si es posible conocer la medida o longitud de dicho vector.\n",
        "Suponiendo un vector 2 dimensional $(a,b)4 utilizando el teorema de pitágoras:\n",
        "\n",
        "\n",
        "![image.png](data:image/png;base64,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)\n",
        "\n",
        "\n",
        "\n",
        "Es posible ver que coindide, justamente con la la raíz cuadrada de el vector con sí mismo, el cual denotaremos $||A||$.\n",
        "Es decir:\n",
        "sea $A = (a,b) \\in R^2$ se tiene:\n",
        "$$ ||A|| = \\sqrt{A \\cdot A} = \\sqrt{a \\cdot a + b \\cdot b} = \\sqrt{a^2 + b^2}$$\n",
        "\n",
        "Es análogo para casos de dimensiones superiores, por lo que se pude extender para el caso $R^n$.\n",
        "\n",
        "\n",
        "Sea $ω \\in R^n, ||ω|| = \\sqrt{\\sum_{i=1} ^n ω_i^2}$  t.q. $ _{i \\in \\{1,2,...,n\\}}$\n"
      ],
      "metadata": {
        "id": "JwvI4eyJ67Uu"
      }
    },
    {
      "cell_type": "code",
      "source": [
        "# Sea el vector\n",
        "v = (13,2,5)\n",
        "# Para el cálculo de su norma y, aunque en el paquete de symbolic math pythom (Sympy) existe una función para raíz cuadrada\n",
        "# Para simplificar y evitar la inclusión de paquetes se usará su equivalente que es potencia (1/2 = 0.5)\n",
        "# Por lo que la norma del vector ve sería:\n",
        "norma = (13**2 + 2**2 + 5**2)**(0.5)\n",
        "print(norma)"
      ],
      "metadata": {
        "colab": {
          "base_uri": "https://localhost:8080/"
        },
        "id": "1S872exC8Dr5",
        "outputId": "05f4451b-5e0c-4601-8eb3-aa6a4a838254"
      },
      "execution_count": null,
      "outputs": [
        {
          "output_type": "stream",
          "name": "stdout",
          "text": [
            "14.071247279470288\n"
          ]
        }
      ]
    },
    {
      "cell_type": "markdown",
      "source": [
        "Para el caso de la norma es trivial que se cumple que:\n",
        "\n",
        "$$ ||A|| = ||-A||$$"
      ],
      "metadata": {
        "id": "rIeA_OjlA9qs"
      }
    },
    {
      "cell_type": "code",
      "source": [],
      "metadata": {
        "id": "6LanW3DtAlg1"
      },
      "execution_count": null,
      "outputs": []
    },
    {
      "cell_type": "markdown",
      "source": [
        "A partir de este punto se tomará un cambio leve respecto a la orientación anterior.\n",
        "\n",
        "\n",
        "Dado que el álgebra lineal, lleva en su nombre la palabra lineal por la relación (y extensión) con las propiedades de las funciones lineales las cuales, desde un perspectiva geométrica dibujan una línea recta, junto con otros elementos de la aritmética como la solución a ecuaciones (lineales).\n",
        "\n",
        "Se puede extender el concepto anteriomente mencionado de vector, como un segmento de una recta, y, con ello estudiar cómo estos pueden afectar rectas en el espacio."
      ],
      "metadata": {
        "id": "F5NkK6bzHPu7"
      }
    },
    {
      "cell_type": "markdown",
      "source": [
        "## La Recta\n",
        "\n",
        "Se asume que el lector tiene relación con el concepto visual de una recta, por lo que se abordará desde la perspectiva de formulación matemática.\n",
        "\n",
        "### Ecuación de la recta\n",
        "Una recta es un conjunto de puntos (infinito) que soluciona la siguiente ecuación (la ecuación de la recta)\n",
        "\n",
        "$$ y = m \\cdot x +b$$\n",
        "\n",
        "donde $x,y$ son valores variables donde $y$ depende de los valores aleatrios que tome la variable $x$ y $b,m$ son valores fijos, en particular $m$ es llamado pendiente, y simboliza la orientación e inclinación de la recta."
      ],
      "metadata": {
        "id": "7sRRNRhzLkxV"
      }
    },
    {
      "cell_type": "code",
      "source": [
        "# The following code gives a graph using matplotlib for the function y= 2x+4\n",
        "\n",
        "import matplotlib.pyplot as plt\n",
        "\n",
        "x = range(-10, 11)\n",
        "y = [2*i + 4 for i in x]\n",
        "\n",
        "plt.plot(x, y)\n",
        "\n",
        "plt.axhline(0, color='grey', alpha=0.4)\n",
        "plt.axvline(0, color='grey', alpha=0.4)\n",
        "\n",
        "plt.xlabel('x')\n",
        "plt.ylabel('y')\n",
        "\n",
        "plt.show()"
      ],
      "metadata": {
        "colab": {
          "base_uri": "https://localhost:8080/",
          "height": 239
        },
        "id": "zqIk3xg8ZqSt",
        "outputId": "abe5eecf-2cdd-4a0f-c237-3e406af035bb"
      },
      "execution_count": null,
      "outputs": [
        {
          "output_type": "display_data",
          "data": {
            "text/plain": [
              "<Figure size 640x480 with 1 Axes>"
            ],
            "image/png": "[encoded data removed]"
          },
          "metadata": {}
        }
      ]
    },
    {
      "cell_type": "markdown",
      "source": [
        "la recta, representación de funciones lineales, lleva consigo un conjunto de propiedades que serán abarcadas posteriormente.\n",
        "\n",
        "\n",
        "Para generar una introducción más amena a uno de los objetos de estudio del álgebra lineal el cual son los sistemas de ecuaciones lineales y sus soluciones."
      ],
      "metadata": {
        "id": "58fsHcb2rnM1"
      }
    },
    {
      "cell_type": "markdown",
      "source": [
        "## Sistemas de ecuaciones\n",
        "\n",
        "\n",
        "Entenderemos un sistema de ecuaciones lineales como un conjunto de ecuaciones lineales con una interacción entre cada ecuación que lo compone.\n",
        "\n",
        "### Caracterización de sistemas de ecuaciones\n",
        "\n",
        "Los sistemas de ecuaciones lineas se caracterizan o nombran de la forma $nxm$ basado en la cantidad de ecuaciones ($n$) y la cantidad de incognitas ($m$). A este \"producto\" $nxm$ nos referiremos como la dimensión del sistema de ecuaciones; dicha dimensión con llevan a propiedades sobre el tipo de sistema de ecuaciones, aunque no son exclusivas (presentan un indicio pero no son determinadoras) dichos tipos son separados por su solución (formalmente su conjunto solución) y serán ejemplificados posteriormente.\n",
        "\n",
        "### Tipos de sistemas de ecuaciones\n",
        "  Los tipos de sistemas de ecuaciones son:\n",
        "\n",
        "\n",
        "*   Sistema con solución única.\n",
        "*   Sistema con infinitas soluciones.\n",
        "*   Sistema sin solución.\n",
        "\n",
        "\n",
        "\n",
        "\n",
        "\n",
        "\n"
      ],
      "metadata": {
        "id": "PichwrhgWLOx"
      }
    },
    {
      "cell_type": "markdown",
      "source": [
        "### Sistemas de ecuaciones lineales de 2 incognitas (y 2 ecuaciones)\n",
        "\n",
        "Un de los sistemas más elementales en el estudio del álgebra lineal son los sistemas de ecuaciones de $2x2$, que en términos generales se presenta:\n",
        "\n",
        "\n",
        "$$\n",
        "\\begin{matrix}\n",
        "a_{11}x + a_{21}y &= b_{1}\\\\\n",
        "a_{21}x + a_{22}y &= b_{2}\\\\\n",
        "\\end{matrix} $$\n",
        "\n",
        "\n",
        "Donde $a_{ii},b_{i} \\in \\mathbb{R}$ y $x,y$ son, también números reales\n",
        "\n",
        "En el entendimiento de sistemas de ecuaciones lineales, la búsqueda de sus soluciones en una pieza fundamental por lo que, a continuación se presentarán ejemplos que ayudarán a presentar los tipos de sistemas de ecuaciones mencionados anteriormente\n",
        "\n",
        "#### Ejemplos:\n",
        "\n",
        "\n",
        "\n",
        "\n",
        "\n",
        "1.   Sistema con solución única.\n",
        "2.   Sistema con infinitas soluciones.\n",
        "3.   Sistema sin solución.\n",
        "\n",
        "\n",
        "\n",
        "\n",
        "\n",
        "\n",
        "\n",
        "\n"
      ],
      "metadata": {
        "id": "5i2VnVaRxEv9"
      }
    },
    {
      "cell_type": "code",
      "source": [],
      "metadata": {
        "id": "McKWj8Wo4ion"
      },
      "execution_count": null,
      "outputs": []
    }
  ]
}