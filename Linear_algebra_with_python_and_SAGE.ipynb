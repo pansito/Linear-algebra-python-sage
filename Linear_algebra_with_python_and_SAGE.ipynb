{
  "cells": [
    {
      "cell_type": "markdown",
      "metadata": {
        "colab_type": "text",
        "id": "view-in-github"
      },
      "source": [
        "<a href=\"https://colab.research.google.com/github/pansito/MCA/blob/main/Linear_algebra_with_python_and_SAGE.ipynb\" target=\"_parent\"><img src=\"https://colab.research.google.com/assets/colab-badge.svg\" alt=\"Open In Colab\"/></a>"
      ]
    },
    {
      "cell_type": "markdown",
      "metadata": {},
      "source": [
        "# Introducción a python"
      ]
    },
    {
      "cell_type": "markdown",
      "metadata": {},
      "source": [
        "Antes de proceder con el uso de python en álgebra lineal y la teoría perteneciente al curso, es importante una introducción a python, el cual será el lenguaje a utilizar dentro de el curso. "
      ]
    },
    {
      "cell_type": "markdown",
      "metadata": {},
      "source": [
        "## ¿Qué es python? "
      ]
    },
    {
      "cell_type": "markdown",
      "metadata": {},
      "source": [
        "Python es un lenguaje de progración orientado a objetos, es escgido dentro de este curso por la facilidad en su sintaxis, por lo que la introducción a su uso tiene una simbología más amigable. \n"
      ]
    },
    {
      "cell_type": "markdown",
      "metadata": {},
      "source": [
        "## Tipos de datos"
      ]
    },
    {
      "cell_type": "markdown",
      "metadata": {},
      "source": [
        "En python, como en cualquier otro lenguaje de progamación, para poder mantener y trabajar con la información deseada existen variables las cuales pueden ser demúltiples tipos"
      ]
    },
    {
      "cell_type": "markdown",
      "metadata": {},
      "source": [
        "### De datos únicos."
      ]
    },
    {
      "cell_type": "markdown",
      "metadata": {},
      "source": [
        "Dentro de los tipos de que pueden almacenar solo una información a la vez se encuentran: \n",
        "1. Númericos:\n",
        "\n",
        "    a. Integer: Almacena números de tipo entero, es decir sin cifracas decimales.\n",
        "\n",
        "    b. Float: almacena números con parte decimal.\n",
        "2. Boolean: Tipo de dato que solo toma 2 valores posibles: True (verdadero), False (Falso).\n",
        "3. Strings: almacena datos alfanumericos (numeros y letras) en forma de texto. se simbolizan con '', o \"\"\n"
      ]
    },
    {
      "cell_type": "code",
      "execution_count": 86,
      "metadata": {},
      "outputs": [],
      "source": [
        "#Para asignar valores a las variables se utiliza el síbolo alfanumérico dtrás del simbolo igual = y el valor deseado: \n",
        "#Númerico:\n",
        "#Entero \n",
        "a=2\n",
        "#Float:\n",
        "b=1.2\n",
        "#Boolean\n",
        "c=True \n",
        "#String\n",
        "palabra=\"empanada\""
      ]
    },
    {
      "cell_type": "markdown",
      "metadata": {},
      "source": [
        "Python posee algunas funciones predeterminadas o integradas, que permiten trabajar entre las variables.  En este caso, con fines de explicar los tipos de datos se utilizaran 2 funciones: \n",
        "\n",
        "**Función Print**\n",
        "\n",
        "Permite mostrar el dato en una variable.\n",
        "\n",
        "**Función Type**\n",
        " Muestra el tipo de dato que posee una variable.\n"
      ]
    },
    {
      "cell_type": "code",
      "execution_count": 87,
      "metadata": {},
      "outputs": [
        {
          "name": "stdout",
          "output_type": "stream",
          "text": [
            "Variable a:  2 tipo de la variable:  <class 'int'>\n",
            "Variable b:  1.2 tipo de la variable:  <class 'float'>\n",
            "Variable c:  True tipo de la variable:  <class 'bool'>\n",
            "Variable palabra:  empanada Tipo de la variable <class 'str'>\n"
          ]
        }
      ],
      "source": [
        "#Para mostrar el dato en cada una de las variablse:\n",
        "\n",
        "print(\"Variable a: \",a, \"tipo de la variable: \",type(a))\n",
        "print(\"Variable b: \",b, \"tipo de la variable: \",type(b))\n",
        "print(\"Variable c: \",c, \"tipo de la variable: \",type(c))\n",
        "print(\"Variable palabra: \", palabra, \"Tipo de la variable\", type(palabra))\n"
      ]
    },
    {
      "cell_type": "markdown",
      "metadata": {},
      "source": [
        "### De múltiples datos"
      ]
    },
    {
      "cell_type": "markdown",
      "metadata": {},
      "source": [
        "Dentro de este tipo de dato se puede almacenar varios elementos, que pueden, o no, ser de diferente tipo. \n",
        "\n",
        "1. Tuplas: Permite almacenar multiples tipos de datos ordenados por posición, sin embargo es inmutable (no se pueden modificar las variables almacenadas). Se simboliza con paréntesis \"()\"\n",
        "2. Conjuntos: Permite almacenar variables sin ordén y sin repetición, es decir si se agrega el mismo dato 2 vece automaticamente se eliminarán los duplicados. se simboliza con \"\\{\\}\"\n",
        "3. Listas: Permite almacenar variables de diferentestipos de datos, de forma ordenada y son mutables. se simboliza con \"[]\"\n",
        "4. Diccionarios: Permite alamacenar varios tipos de variables, sin orden, similar al conjunto, pero los valores se encuentran señalados por una llave, la cual debe ser alfanumérica y única, se simbolizan como los conjuntos pero se diferencian en su escritura: \"\\{'a':valor\\}\""
      ]
    },
    {
      "cell_type": "code",
      "execution_count": 88,
      "metadata": {},
      "outputs": [
        {
          "name": "stdout",
          "output_type": "stream",
          "text": [
            "Variable tupla:  (1, 2, 3, 'texto') tipo de la variable:  <class 'tuple'>\n",
            "Variable conjunto:  {4, 5, 6, 7, 8} tipo de la variable:  <class 'set'>\n",
            "Variable Lista:  [1, 2, 3, 4, 4] tipo de la variable:  <class 'list'>\n",
            "Variable diccionario:  {'primero': 1, 'segundo': 'string', 'lista': [1, 2, 3]} Tipo de la variable <class 'dict'>\n",
            "Elemento en la posición 3 3\n",
            "Elemento en la posición 1 1\n",
            "Valor con la llave segundo string\n",
            "Valor con la llave lista [1, 2, 3]\n"
          ]
        }
      ],
      "source": [
        "#Tupla:\n",
        "tupla=(1,2,3,'texto')\n",
        "\n",
        "conjunto={4,5,6,7,8,8,8}\n",
        "\n",
        "Lista=[1,2,3,4,4]\n",
        "\n",
        "diccionario={'primero':1,'segundo':\"string\",\"lista\":[1,2,3]}\n",
        "\n",
        "#Los elementos repetidos en la lista y el conjunto son a propósito para mostrar que una permite el almacenamiento de datos repetidos y otra no.\n",
        "print(\"Variable tupla: \",tupla, \"tipo de la variable: \",type(tupla))\n",
        "print(\"Variable conjunto: \",conjunto, \"tipo de la variable: \",type(conjunto))\n",
        "print(\"Variable Lista: \",Lista, \"tipo de la variable: \",type(Lista))\n",
        "print(\"Variable diccionario: \", diccionario, \"Tipo de la variable\", type(diccionario))\n",
        "\n",
        "#Adicional, la ventaja de estos datos es que se puede acceder a las variables almacenadas. presentaremos solo el caso de lista y diccionario que son de interés:\n",
        "\n",
        "#Acceder al elemento en la posición 3 de la lista.\n",
        "#Los elementos s enumeran por posición a partir del cero, es decir el primer elemento está en la posición 0:\n",
        "print(\"Elemento en la posición 3\", Lista[2])\n",
        "print(\"Elemento en la posición 1\", Lista[0])\n",
        "\n",
        "#Para acceder a los valores del diccionario se hace de manera similar pero dando el valor de la llave:\n",
        "print(\"Valor con la llave segundo\", diccionario[\"segundo\"])\n",
        "print(\"Valor con la llave lista\", diccionario[\"lista\"])"
      ]
    },
    {
      "cell_type": "markdown",
      "metadata": {},
      "source": [
        "## Operaciones"
      ]
    },
    {
      "cell_type": "markdown",
      "metadata": {},
      "source": [
        "Python posee por definición, las operaciones básicas de matemática. para los fines de este cuso nos centraremos en las operaciones entre variables de tipo numérico. \n"
      ]
    },
    {
      "cell_type": "markdown",
      "metadata": {},
      "source": [
        "#### Suma"
      ]
    },
    {
      "cell_type": "markdown",
      "metadata": {},
      "source": [
        "Se simboliza con + y permite sumar los valores de 2 variables."
      ]
    },
    {
      "cell_type": "code",
      "execution_count": 89,
      "metadata": {},
      "outputs": [
        {
          "name": "stdout",
          "output_type": "stream",
          "text": [
            "resultado 3+5  8\n",
            "Resultado de a+b  10\n",
            "Resultado de positivo+negativo  -3\n"
          ]
        }
      ],
      "source": [
        "# Puede ser de manera directa brindando 2 números:\n",
        "\n",
        "print(\"resultado 3+5 \", 3+5)\n",
        "\n",
        "# Sumando los valores asignados a variables:\n",
        "\n",
        "a=2\n",
        "b=8\n",
        "print(\"Resultado de a+b \", a+b)\n",
        "#No te que también permite sumar número negativos: \n",
        "\n",
        "positivo=2\n",
        "negativo=-5\n",
        "print(\"Resultado de positivo+negativo \", positivo+negativo)\n",
        "\n"
      ]
    },
    {
      "cell_type": "markdown",
      "metadata": {},
      "source": [
        "#### Resta"
      ]
    },
    {
      "cell_type": "markdown",
      "metadata": {},
      "source": [
        "Se simboliza con - y resta los valores de las variables dadas:"
      ]
    },
    {
      "cell_type": "code",
      "execution_count": 90,
      "metadata": {},
      "outputs": [
        {
          "name": "stdout",
          "output_type": "stream",
          "text": [
            "resultado 3-5  -2\n",
            "Resultado de a-b  -6\n",
            "Resultado de positivo-negativo  7\n"
          ]
        }
      ],
      "source": [
        "# Puede ser de manera directa brindando 2 números:\n",
        "\n",
        "print(\"resultado 3-5 \", 3-5)\n",
        "\n",
        "# Sumando los valores asignados a variables:\n",
        "\n",
        "a=2\n",
        "b=8\n",
        "print(\"Resultado de a-b \", a-b)\n",
        "#No te que también permite sumar número negativos: \n",
        "\n",
        "positivo=2\n",
        "negativo=-5\n",
        "print(\"Resultado de positivo-negativo \", positivo-negativo)\n",
        "\n"
      ]
    },
    {
      "cell_type": "markdown",
      "metadata": {},
      "source": [
        "#### Multiplicación"
      ]
    },
    {
      "cell_type": "markdown",
      "metadata": {},
      "source": [
        "Se simboliza con *"
      ]
    },
    {
      "cell_type": "code",
      "execution_count": 92,
      "metadata": {},
      "outputs": [
        {
          "name": "stdout",
          "output_type": "stream",
          "text": [
            "resultado 3*5  15\n",
            "Resultado de a*b  16\n",
            "Resultado de positivo+negativo  -10\n"
          ]
        }
      ],
      "source": [
        "# Puede ser de manera directa brindando 2 números:\n",
        "\n",
        "print(\"resultado 3*5 \", 3*5)\n",
        "\n",
        "# Sumando los valores asignados a variables:\n",
        "\n",
        "a=2\n",
        "b=8\n",
        "print(\"Resultado de a*b \", a*b)\n",
        "#No te que también permite sumar número negativos: \n",
        "\n",
        "positivo=2\n",
        "negativo=-5\n",
        "print(\"Resultado de positivo+negativo \", positivo*negativo)\n",
        "\n"
      ]
    },
    {
      "cell_type": "markdown",
      "metadata": {},
      "source": [
        "#### División"
      ]
    },
    {
      "cell_type": "markdown",
      "metadata": {},
      "source": [
        "Se simboliza con /"
      ]
    },
    {
      "cell_type": "code",
      "execution_count": 50,
      "metadata": {},
      "outputs": [
        {
          "name": "stdout",
          "output_type": "stream",
          "text": [
            "resultado 3/5  0.6\n",
            "Resultado de b/a  4.0\n",
            "Resultado de positivo+negativo  -0.5\n"
          ]
        }
      ],
      "source": [
        "# Puede ser de manera directa brindando 2 números:\n",
        "\n",
        "print(\"resultado 3/5 \", 3/5)\n",
        "\n",
        "# Sumando los valores asignados a variables:\n",
        "\n",
        "a=2\n",
        "b=8\n",
        "print(\"Resultado de b/a \", b/a)\n",
        "#No te que también permite sumar número negativos: \n",
        "\n",
        "positivo=2\n",
        "negativo=-4\n",
        "print(\"Resultado de positivo+negativo \", positivo/negativo)\n",
        "\n"
      ]
    },
    {
      "cell_type": "markdown",
      "metadata": {},
      "source": [
        "#### Exponenciación"
      ]
    },
    {
      "cell_type": "markdown",
      "metadata": {},
      "source": [
        "Se simboliza con **"
      ]
    },
    {
      "cell_type": "code",
      "execution_count": 51,
      "metadata": {},
      "outputs": [
        {
          "name": "stdout",
          "output_type": "stream",
          "text": [
            "resultado 3**5  243\n",
            "Resultado de a**b  256\n"
          ]
        }
      ],
      "source": [
        "# Puede ser de manera directa brindando 2 números:\n",
        "\n",
        "print(\"resultado 3**5 \", 3**5)\n",
        "\n",
        "# Sumando los valores asignados a variables:\n",
        "\n",
        "a=2\n",
        "b=8\n",
        "print(\"Resultado de a**b \", a**b)\n",
        "#No te que también permite sumar número negativos: \n",
        "\n"
      ]
    },
    {
      "cell_type": "markdown",
      "metadata": {},
      "source": [
        "Para el caso de la radicación, no hay un símbolo directo que permita obtener dicha operación, sin embargo puede hacerse a tráves de la exponenciación utilizando el 1/raizdeseada es decir:"
      ]
    },
    {
      "cell_type": "code",
      "execution_count": 52,
      "metadata": {},
      "outputs": [
        {
          "name": "stdout",
          "output_type": "stream",
          "text": [
            "4.0\n",
            "3.0\n"
          ]
        }
      ],
      "source": [
        "\n",
        "#Para obtener la raíz cuadrada de un número se usa:\n",
        "\n",
        "print(16**(1/2))\n",
        "\n",
        "#Raíz cúbica\n",
        "print(27**(1/3))"
      ]
    },
    {
      "cell_type": "markdown",
      "metadata": {},
      "source": [
        "## Funciones: "
      ]
    },
    {
      "cell_type": "markdown",
      "metadata": {},
      "source": [
        "Dentro de python existe la posibilidad de crear y definir funcioens peronalizadas, además de las funciones pdeterminadas que se presentaron anteriormente,e stas pueden recibir uno o más valores y tienen la cualidad de que permiten automatizar un proceso.\n",
        "\n",
        "Para definir una función se utiliza la siguiente sintaxis:\n",
        "\n",
        "**def** *nombrefuncion* (variable1,variable2,...):\n",
        "    return valor\n",
        "\n",
        "Otra cosa a denotar es que python, a diferencia de otros lenguajes funciona mediante indentaciones o espacidado, es  se ejemplificará en la muestra de la función:"
      ]
    },
    {
      "cell_type": "code",
      "execution_count": 93,
      "metadata": {},
      "outputs": [
        {
          "name": "stdout",
          "output_type": "stream",
          "text": [
            "numero 100 : 200\n",
            "Para el caso variable : 76\n",
            "Caso var2: 50\n"
          ]
        }
      ],
      "source": [
        "#Definir una función que entre el doble de un número.\n",
        "\n",
        "def dobledeunnumero(numero):\n",
        "    return 2*numero\n",
        "\n",
        "#Dado que la función recive una variable se debe entregar un número y estaa retornará el doble de su valor:\n",
        "#Para el caso del número 100: \n",
        "\n",
        "print(\"numero 100 :\", dobledeunnumero(100))\n",
        "\n",
        "#Las funciones también pueden recibir variables:\n",
        "variable=38\n",
        "print(\"Para el caso variable :\", dobledeunnumero(variable))\n",
        "\n",
        "\n",
        "# Dado que la funci´n retorna un valor este puede ser asignado también a una variable: \n",
        "var2 = dobledeunnumero(25)\n",
        "print(\"Caso var2:\",var2)\n"
      ]
    },
    {
      "cell_type": "markdown",
      "metadata": {},
      "source": [
        "## Ciclos\n"
      ]
    },
    {
      "cell_type": "markdown",
      "metadata": {},
      "source": [
        "Dentro del desarrollo y soluciones de problemas a veces se quieren repetrir acciones determinadas una cantidad de veces.\n",
        "\n",
        "Como ejemplo, suponga que se quiere ver cómo aumenta el valor de un monto arroado que tiene un rendimiento anual del 14% a lo largo de los años, para hacer esto se tendría que imprimir el valor por cada año, en caso de un número pequeño de años es posible usar la función print varias veces, pero qué pasaría si, por ejemplo el plazo son 10 o más años; se convertiría en un proceso tedioso y poco eficiente de escribir, pues tendríamos muchas lineas similares que hacen la misma acción. "
      ]
    },
    {
      "cell_type": "markdown",
      "metadata": {},
      "source": [
        "### Ciclo For"
      ]
    },
    {
      "cell_type": "markdown",
      "metadata": {},
      "source": [
        "El ciclo for tiene una característica particular, y es que itera de manera consecutiva en un rango de valores. \n",
        "Su sintaxis es: for (variable que recibe los valores) in (rango de valores):\n",
        "\n",
        "\n",
        "Antes de ejemplificar el for, se utilizará una función llamada **range** esta es una función predeterminada de python que puede recibir hasta 3 valores, su sintaxis es la siguiente: \n",
        "\n",
        "range(valor inicial,valor final, paso) \n",
        "El valor inicial es desde donde se va contar, en caso de no entregarse será 0\n",
        "el valor final es la posición posterior a donde termina el rango, es decir que si el valor final es 15, el ultimo valor que tomará el rango es 14. Es obligatorio entregar.\n",
        "El paso es el aumento del cambio, en la variable, es decir si el paso es, por ejemplo 2, tomará valores de 2 en 2. Es uno en cao de no entregarse.\n",
        "\n",
        "Suponga que se desea imprimir los números del 1 al 15 de manera consecutiva."
      ]
    },
    {
      "cell_type": "code",
      "execution_count": 54,
      "metadata": {},
      "outputs": [
        {
          "name": "stdout",
          "output_type": "stream",
          "text": [
            "1\n",
            "2\n",
            "3\n",
            "4\n",
            "5\n",
            "6\n",
            "7\n",
            "8\n",
            "9\n",
            "10\n",
            "11\n",
            "12\n",
            "13\n",
            "14\n",
            "15\n"
          ]
        }
      ],
      "source": [
        "# dado que se quiere imprimir del 1 al 15, se debe inicializar la variable en 1.\n",
        "# Como se desea imprimir el número 15, se lleva el rango al valor sigt.\n",
        "# No es necesario dar el valor del paso:\n",
        "for i in range(1,16):\n",
        "    print(i)"
      ]
    },
    {
      "cell_type": "code",
      "execution_count": 55,
      "metadata": {},
      "outputs": [
        {
          "name": "stdout",
          "output_type": "stream",
          "text": [
            "2\n",
            "4\n",
            "6\n",
            "8\n",
            "10\n",
            "12\n",
            "14\n",
            "16\n",
            "18\n",
            "20\n",
            "2\n",
            "4\n",
            "6\n",
            "8\n",
            "10\n",
            "12\n",
            "14\n",
            "16\n",
            "18\n",
            "20\n"
          ]
        }
      ],
      "source": [
        "#Ahora suponga que quiere imprimir los primeros 10 números pares: \n",
        "#este ejercicio se puede hacer de 2 maneras:\n",
        "#Primera es sabiendo que el 10mo número par es 20 y corriendo el paso de 2 en 2:\n",
        "for i in range(2,21,2):\n",
        "    print(i)\n",
        "#segunda forma tomando los valores de 1 a 10 y multiplicando por 2:\n",
        "for i in range(1,11):\n",
        "    print(i*2)"
      ]
    },
    {
      "cell_type": "markdown",
      "metadata": {},
      "source": [
        "El ciclo for tiene otra particularidad y es que este permite iterar sobre una lista, si enregamos una lista en vez de un range.\n",
        "Antes de aclarar la función de este uso introduciremos la función len. \n",
        "\n",
        "\n",
        "Dicha función es otra función predefinida de python y que retorna la cantidad de elementos de el objto entregado, en este casod e una lista. \n",
        "\n",
        "\n"
      ]
    },
    {
      "cell_type": "code",
      "execution_count": 56,
      "metadata": {},
      "outputs": [
        {
          "name": "stdout",
          "output_type": "stream",
          "text": [
            "6\n"
          ]
        }
      ],
      "source": [
        "#Suponga que tiene la lista:\n",
        "l = [2,3,4,5,6,7]\n",
        "\n",
        "#para saber su longitud:\n",
        "print(len(l))\n"
      ]
    },
    {
      "cell_type": "code",
      "execution_count": 57,
      "metadata": {},
      "outputs": [
        {
          "name": "stdout",
          "output_type": "stream",
          "text": [
            "2\n",
            "3\n",
            "4\n",
            "5\n",
            "6\n",
            "7\n",
            "\n",
            "2\n",
            "3\n",
            "4\n",
            "5\n",
            "6\n",
            "7\n"
          ]
        }
      ],
      "source": [
        "#suponga que se desea imprimir los elementos de la lista uno por uno\n",
        "\n",
        "#La primera opción es recorrer la lista utilizando los indices con la longitud de la lista:\n",
        "for i in range(len(l)):\n",
        "    print(l[i])\n",
        "\n",
        "print(\"\")\n",
        "# si embargo es una función más compleja de escribir, para ello podemos iterar sobre cada uno de los ementos de la lista:\n",
        "for i in l:\n",
        "    print(i)"
      ]
    },
    {
      "cell_type": "markdown",
      "metadata": {},
      "source": [
        "En ambos casos se obtiene el mismo resultado, pero la segunda forma simplica mucho la escritura. \n"
      ]
    },
    {
      "cell_type": "markdown",
      "metadata": {},
      "source": [
        "### Ciclo While"
      ]
    },
    {
      "cell_type": "markdown",
      "metadata": {},
      "source": [
        "El ciclo while se caracteriza por ejecutarse de manera indefinida mientras se satisfaga una condición. \n",
        "Su sintaxis es: While (condición lógica):\n",
        "\n"
      ]
    },
    {
      "cell_type": "code",
      "execution_count": null,
      "metadata": {},
      "outputs": [],
      "source": []
    },
    {
      "cell_type": "code",
      "execution_count": null,
      "metadata": {},
      "outputs": [],
      "source": []
    },
    {
      "cell_type": "markdown",
      "metadata": {},
      "source": [
        "## Sympy"
      ]
    },
    {
      "cell_type": "markdown",
      "metadata": {},
      "source": [
        "Sympy es una paquetería o librería de python cuyo nombre se refiere a symbolic mathematical python, o matemática símbolica en python. \n",
        "\n",
        "Su función principal es permitir la realización de operación utilizando simbolos (variables) dentro de python, también permite la realización de soluciónes de ecuaciones (despejar variables etc). \n",
        "\n",
        "Para los fines de este curso se utilizará el paquete de sympy para la solución de sistemas de ecuaciones y matrices por lo que la introducción de este paquete está orientada a ello."
      ]
    },
    {
      "cell_type": "markdown",
      "metadata": {},
      "source": [
        "### Symbols:"
      ]
    },
    {
      "cell_type": "markdown",
      "metadata": {},
      "source": [
        "\n",
        "Dentro de sympy y las múltiples funciones predefinidas que trae, el paquete **symbols** entregar una lista en forma de string o cadena separadas por espacio con las variables a utilizar y su tipo con la siguiente sintaxis:\n",
        "variable = symbols(\"x\",real=True)\n",
        "\n",
        "En esta sistaxis se da a entender que el elemento variable va a tener el valor de x en las ecuaciones a solucionar, por otro lado el segundo valor entregado \"real=True\" se utiliza para que el paquete solo asigne valores en el espacio de numeros reales, porque pueden existir casos en que las soluciones no sean números reales. \n"
      ]
    },
    {
      "cell_type": "markdown",
      "metadata": {},
      "source": [
        "#### Eq"
      ]
    },
    {
      "cell_type": "markdown",
      "metadata": {},
      "source": [
        "El paquete Eq se utiliza, de la mano con el paquete symbols, para crear ecuaciones que sean compreensibles para ser solucionadas por el paquete sympy.\n",
        "\n",
        "Suponga que se tiene la ecuación: $ 2x +1 =0$\n",
        "\n",
        "Para escribirla en forma de ecuación se utiliza la siguiente sintaxis:\n",
        "\n",
        "eq = Eq(2*x+1,0)\n",
        "\n",
        "Donde x es una variable definida anteriormente por symbols\n"
      ]
    },
    {
      "cell_type": "markdown",
      "metadata": {},
      "source": [
        "#### Solve"
      ]
    },
    {
      "cell_type": "markdown",
      "metadata": {},
      "source": [
        "Esta función de sympy es muy importante, pues se utiliza para dar solución a una ecuación (o más) del paquete sympy. \n",
        "suponga que tiene las ecuaciones y variables definidas anteriormente se utiliza la siguiente sintaxis: \n",
        "\n",
        "resultado=Solve((eq),(x))\n",
        "\n",
        "Es decir se le entrega la(s) ecuacion(es) a solucionar con las variables respectivas, pueden ser en listas, la variable resultado va a tener un diccionario con las solucines que provea la función.\n",
        "\n",
        "En caso de no tenerlas, como se verá más adelante, el resultado será una lista vacía."
      ]
    },
    {
      "cell_type": "code",
      "execution_count": 58,
      "metadata": {},
      "outputs": [
        {
          "name": "stdout",
          "output_type": "stream",
          "text": [
            "El resultado a la ecuación: 2x+1=0 es:  [-1/2]\n"
          ]
        }
      ],
      "source": [
        "#Ahora se presentará un ejemplo para el uso de esta función.\n",
        "#Primero se deben importar las funciones a utilizar:\n",
        "from sympy import symbols, Eq, solve \n",
        "\n",
        "#Definimos el simbolo:\n",
        "\n",
        "x = symbols('x',real=True)\n",
        "\n",
        "# Se define la ecuación: \n",
        "\n",
        "eq = Eq(2*x+1,0)\n",
        "\n",
        "#Solucionamos e imprmimos el resultado> \n",
        "\n",
        "resultado = solve((eq),(x))\n",
        "print('El resultado a la ecuación: 2x+1=0 es: ',resultado)"
      ]
    },
    {
      "cell_type": "markdown",
      "metadata": {},
      "source": [
        "Los usos más extenso de este paquete se presntarán más adelante"
      ]
    },
    {
      "cell_type": "code",
      "execution_count": null,
      "metadata": {},
      "outputs": [],
      "source": []
    },
    {
      "cell_type": "markdown",
      "metadata": {},
      "source": [
        "# Algebra\n"
      ]
    },
    {
      "cell_type": "markdown",
      "metadata": {
        "id": "gjRBuG_X7DhX"
      },
      "source": [
        "## Vector\n"
      ]
    },
    {
      "cell_type": "markdown",
      "metadata": {
        "id": "MJw61vuP7K1T"
      },
      "source": [
        "### Punto en el espacio\n",
        "\n",
        "Para los propósitos de desarrollo de este curo, se asume la definición de punto, centraremos su descripción en sus propiedad de definirlo según la dimensión, i.e. Asumimos que la dimensión de la línea es 1, por lo que un punto A en la linea sería $A=(x_1)$, para el caso del espacio $A=(x_1,x_2)$; en general para un espacio de dimensión n, que por restricción de este curso denotaremos $R^n$ se tiene que un punto $A \\in R^n$ es de la forma: $A=(x_1,x_2,...,x_n)$"
      ]
    },
    {
      "cell_type": "markdown",
      "metadata": {
        "id": "CqaovawZ9GzK"
      },
      "source": [
        "Una pregunta, que puede surgir es: ¿Cómo se pueden representar entonces dichos puntos en python?\n",
        "\n",
        "\n",
        "Por convencionalidad y similaridad representativa se pueden utilizar tuplas, sin embargo de manera similar pueden usarse listas, que por facilidad de uso en sus propiedades serán las utilizadas.\n",
        "\n",
        "Además, por el objetivo introductorio de este curso, resumiremos las repreentaciones a elementos en $R^2 y R^3$.\n"
      ]
    },
    {
      "cell_type": "code",
      "execution_count": 59,
      "metadata": {
        "id": "3Q24WoYN7GXw"
      },
      "outputs": [],
      "source": [
        "#Representación en tupla\n",
        "A = (1,2) # Para el punto (1,2) en el espacio R^2\n",
        "B = (1,2,3) # Para el punto (1,2,3) en el espacio R^3\n",
        "#Representación en Lista\n",
        "A = (1,2) # Para el punto (1,2) en el espacio R^2\n",
        "B = (1,2,3) # Para el punto (1,2,3) en el espacio R^3\n"
      ]
    },
    {
      "cell_type": "markdown",
      "metadata": {
        "id": "8_wc_G76ERZ2"
      },
      "source": [
        "De aquí, es posible proceder con la definción de adición de vectores.\n",
        "### Suma de vectores\n",
        "Dados 2 vectores, que para ejemplificar estarán en un espacio 3 dimensional, $A=(x_1,x_2x_3), B=(y_1, y_2,y_3)$ la suma de estos vectores es, a su vez, un vetor $C$ dado por la suma componente a componente del vector como sigue:\n",
        "\n",
        "$$ C= (x_1 + y_1, x_2 + y_2, x_3 + y_3) $$\n",
        "\n",
        "De donde se tiene la primera restricción y es que para sumar vectores ambos deben pertecer al mismo espacio, que en otras palabras es tener la misma dimensión.\n",
        "\n",
        "En general:\n",
        "\n",
        "Sean $A = (x_1,x_2,...,x_n),B=(y_1,y_2,...,y_n)  \\in R^n$ el vector  $C = A+B = $ se define como: $C=(x_1+y_1,x_2+y_2,...,x_n+y_n)$\n"
      ]
    },
    {
      "cell_type": "markdown",
      "metadata": {
        "id": "zwFIQHw6IkHf"
      },
      "source": [
        "Dado por construcción de la estructura de datos en listas o tuplas, no pes posible utilizar el símbolo suma (+) directamente sobre loos eementos pues python asume que se trata de la operación de concatenar\n"
      ]
    },
    {
      "cell_type": "code",
      "execution_count": 60,
      "metadata": {
        "colab": {
          "base_uri": "https://localhost:8080/"
        },
        "id": "Kn3cLIRlqpVi",
        "outputId": "a727e456-6694-466e-f54b-3c9517d1b770"
      },
      "outputs": [
        {
          "name": "stdout",
          "output_type": "stream",
          "text": [
            "(1, 2, 3, 4, 5, 6)\n",
            "[1, 2, 3, 4, 5, 6]\n"
          ]
        }
      ],
      "source": [
        "A = (1,2,3)\n",
        "B = (4,5,6)\n",
        "print(A+B)\n",
        "\n",
        "#Es similar para el caso de listas:\n",
        "A = [1,2,3]\n",
        "B = [4,5,6]\n",
        "print(A+B)"
      ]
    },
    {
      "cell_type": "markdown",
      "metadata": {
        "id": "MkHTm7PkL0mS"
      },
      "source": [
        "Como alternativa, aunque no es computacionalmente lo más óptimo, se puede utilizar un ciclo para iterar sobre las listas y hacer la suma componente a componente como en la definición y agregarla a una nueva lista."
      ]
    },
    {
      "cell_type": "code",
      "execution_count": 61,
      "metadata": {
        "colab": {
          "base_uri": "https://localhost:8080/"
        },
        "id": "Y0msr08aFkRM",
        "outputId": "2fd0b4cf-a79b-4486-dd5e-09f79410f926"
      },
      "outputs": [
        {
          "name": "stdout",
          "output_type": "stream",
          "text": [
            "[5, 7, 9]\n"
          ]
        }
      ],
      "source": [
        "C =[] #lista vacía donde se agregaran los elementos sumados.\n",
        "A = [1,2,3]\n",
        "B = [4,5,6]\n",
        "\n",
        "#se utilizará un ciclo for.\n",
        "for i in range(3): #Para este caso particular pues el vector tiene 3 elementos\n",
        "  C.append(A[i]+B[i]) #Append permite agregar elementos a una lista.\n",
        "print(C)"
      ]
    },
    {
      "cell_type": "markdown",
      "metadata": {
        "id": "LJUA5p7WM2Wz"
      },
      "source": [
        "Ahora, De mner similar y, para generalizar es posible definir una función de python que reciba un par de vectores (lista) y retorne un vector (lista) con la suma:\n"
      ]
    },
    {
      "cell_type": "code",
      "execution_count": 62,
      "metadata": {
        "id": "H5KXnmuJM1wQ"
      },
      "outputs": [],
      "source": [
        "def SumVectores(A,B):\n",
        "  C=[]\n",
        "  for i in range(len(A)): #Puede usarse A o B indistintivamnte pues usamos la medida de dimensión y para este caso deben ser iguales\n",
        "    C.append(A[i]+B[i])\n",
        "  return C\n",
        "\n"
      ]
    },
    {
      "cell_type": "code",
      "execution_count": 63,
      "metadata": {
        "colab": {
          "base_uri": "https://localhost:8080/"
        },
        "id": "E1lOhY38Nh3j",
        "outputId": "1b5b1214-77fd-4ecf-fa6d-e7eeb07140a6"
      },
      "outputs": [
        {
          "name": "stdout",
          "output_type": "stream",
          "text": [
            "[5, 7, 9]\n",
            "[5, 6, 12]\n"
          ]
        }
      ],
      "source": [
        "# Usando los puntos A,B basta con llamar la función:\n",
        "C = SumVectores(A,B)\n",
        "print(C)\n",
        "# De manera análoga se pueden entregar directamente los vectores (no variables que los contienen) en la función:\n",
        "C= SumVectores([2,5,8],[3,1,4])\n",
        "print(C)\n"
      ]
    },
    {
      "cell_type": "markdown",
      "metadata": {
        "id": "ZaxOIIkuQUrx"
      },
      "source": [
        "Se deja como ejercicio al lector revisar y presentar ejemplos en python que las siguientes propiedades se cumplen:\n",
        "1. $(A + B) + C == A + (B + C)$\n",
        "2. $A + B == B + A$\n",
        "3. Si $O = (0,0,...,0), A+O==O+A==A $\n",
        "4. Si $A=(x_1,x_2...,x_n)$ y $-A = (-x_1,-x_2,...,-x_n)$ se sumple que $A+(-A) == O$\n",
        "\n",
        "para los casos $R^2 y R^3$ ."
      ]
    },
    {
      "cell_type": "code",
      "execution_count": 64,
      "metadata": {
        "id": "M36iqmL_ZiiL"
      },
      "outputs": [],
      "source": [
        "#Insert code here."
      ]
    },
    {
      "cell_type": "markdown",
      "metadata": {
        "id": "B0C87MQ2ZhUD"
      },
      "source": [
        "Antes de definir la multiplicación escalar entre puntos del espacio, definimos la multiplicación entre un escalar y punto.\n",
        "Sea $α \\in R$ un escalar y  un vector $ω \\in R^n$ el producto escalar se define como:\n",
        "\n",
        "$$ α ⋅ ω = (α ⋅ ω_1,α ⋅ ω_2,...,α ⋅ ω_n) $$\n",
        "\n",
        "Es decir, es la distribución de componente a componente, se cumoe que el resultado de dicho producto es otro punto en el espacio"
      ]
    },
    {
      "cell_type": "code",
      "execution_count": 65,
      "metadata": {
        "colab": {
          "base_uri": "https://localhost:8080/"
        },
        "id": "2w7XAdKgeJsm",
        "outputId": "a3b11201-ee6f-418d-d194-21d56cd4b7c0"
      },
      "outputs": [
        {
          "name": "stdout",
          "output_type": "stream",
          "text": [
            "[2, 6, 8]\n"
          ]
        }
      ],
      "source": [
        "#Ejemplo:\n",
        "w = [1,3,4]\n",
        "a=2\n",
        "aw = []\n",
        "for i in w:\n",
        "  aw.append(i*a)\n",
        "\n",
        "print(aw)"
      ]
    },
    {
      "cell_type": "markdown",
      "metadata": {
        "id": "UcFYAjBBZlKH"
      },
      "source": [
        "#### Ejercicios:\n",
        "Encuentre $A + B, A - B, 3A, - 2B$ para los elementos:\n",
        "\n",
        "1. $A = (2, -1,5), B = (-1,1,1) $\n",
        "2. $A = ( -1, 3), B = (0, 4) $"
      ]
    },
    {
      "cell_type": "code",
      "execution_count": null,
      "metadata": {
        "id": "CmOcJ-w9GG5u"
      },
      "outputs": [],
      "source": [
        "\n"
      ]
    },
    {
      "cell_type": "markdown",
      "metadata": {
        "id": "uMqubkW5GHj4"
      },
      "source": [
        "### Vector\n",
        "Se dará una definición general pero, como se mencionó anteriormente por cuestiones de enfoque y ayuda (en interpretaciones visuales) se restringiran a 2 y 3 dimensiones.\n",
        "\n",
        "Dados 2 puntos $A,B \\in R^n$ se dice que el $\\vec{AB} = (y_1 - x_1, y_2 - x_2,..., y_n - x_n)$ donde $x_i,y_i, i \\in {1,... ,n}$ son las componentes de los puntos $A,B$ respectivamente; decimos que $\\vec{AB}$ es el vector (o vertor dirección) correspondinte a dichos puntos.\n",
        "\n",
        "Para notación futura se utilizará sólo un símbolo de variable (sin la flecha superior) y se asumirá que es un punto salvo execiones explícitas.  "
      ]
    },
    {
      "cell_type": "markdown",
      "metadata": {
        "id": "MImvgvnZJDiQ"
      },
      "source": [
        "#### Paralelismo de vectores\n",
        "\n",
        "Dados 2 vectores $ω, ν \\in R^n$ se dice que son paralelos si existe un $α \\in R^n . tq: α ω = \\nu$, es decir, si un vector es múltiplo escalar de el otro vector."
      ]
    },
    {
      "cell_type": "markdown",
      "metadata": {
        "id": "vHoieg60ExNM"
      },
      "source": [
        "#### Producto escalar"
      ]
    },
    {
      "cell_type": "markdown",
      "metadata": {
        "id": "gp-40UJrKoqX"
      },
      "source": [
        "Dados 2 vectores $ω, ν \\in R^n$ se define el producto escalar\n",
        "\n",
        " $$ ω ⋅ ν := \\omega_1 \\cdot \\nu_1 + \\omega_2 \\cdot \\nu_2 + ⋯ + \\omega_n \\cdot \\nu_n  = \\sum_1 ^n \\nu_i \\cdot \\omega_i \\text{ con } i \\in \\{1,2,...,n\\}  $$\n",
        "\n",
        "Cabe denotar que el resultado de dicho producto no es otro vector, si no un escalar (un elemento del espacio que, en este caso es un número real)."
      ]
    },
    {
      "cell_type": "code",
      "execution_count": 66,
      "metadata": {
        "colab": {
          "base_uri": "https://localhost:8080/"
        },
        "id": "go1Fxca9cPaa",
        "outputId": "784f7755-f67b-44d7-bad7-41cd5991d917"
      },
      "outputs": [
        {
          "name": "stdout",
          "output_type": "stream",
          "text": [
            "26\n"
          ]
        }
      ],
      "source": [
        "w = [1, 2, 3]\n",
        "v = [3, 4, 5]\n",
        "vw=0\n",
        "for i in range(len(w)):\n",
        "  vw+= w[i]*v[i]\n",
        "print(vw)"
      ]
    },
    {
      "cell_type": "markdown",
      "metadata": {
        "id": "vRgih-hZ3ErK"
      },
      "source": [
        "Para el producto escalar se cumplen las siguientes propiedades:\n",
        "1. $A \\cdot B = B \\cdot A$\n",
        "\n",
        "2. $A,B,C \\in R^n ⇒ A \\cdot (B+C) = A \\cdot B + A ⋅ C =(B+C) \\cdot A$\n",
        "\n",
        "2. Si $x \\in R$ y $A,B \\in R^n ⇒ xA \\cdot B = x(A⋅B) = A \\cdot xB$\n",
        "\n",
        "4. Si A=0 (el vector nulo $(0,0,..,0)) ⇒ A \\cdot A = 0$\n"
      ]
    },
    {
      "cell_type": "code",
      "execution_count": 67,
      "metadata": {
        "id": "RgcNrdq33C_X"
      },
      "outputs": [],
      "source": [
        "#Se propone como ejercicio para el lector la comprobación mediante ejemplos para el espacio R2 y R3"
      ]
    },
    {
      "cell_type": "markdown",
      "metadata": {},
      "source": [
        "#### Norma de un vector"
      ]
    },
    {
      "cell_type": "markdown",
      "metadata": {},
      "source": [
        "\n",
        "\n",
        "\n",
        "Dado, lo que podemos entender como un vector, reduciedo al espacio de trabajo de este curso, un segmento de recta en el plano, es natural preguntarse si es posible conocer la medida o longitud de dicho vector.\n",
        "Suponiendo un vector 2 dimensional $(a,b)4 utilizando el teorema de pitágoras:\n",
        "\n",
        "\n",
        "![image.png](data:image/png;base64,iVBORw0KGgoAAAANSUhEUgAAAmMAAAHNCAYAAABSNnx+AAAAAXNSR0IArs4c6QAAAARnQU1BAACxjwv8YQUAAAAJcEhZcwAADsMAAA7DAcdvqGQAAEckSURBVHhe7d0HfFTF2sfxJ7SE0JuCoqKIBQVEQSmC9CK9SQcVRbGgiK9eGxZEAcu9SK9SFESa9CYg5ao0BQuWS7GASJEaetk3z+zssgkBAil7ztnf9/M5ZmY2kp78d2bOM1G+eAIAAICwyGBfAgAAIAwIYwAAAGFEGAMAAAgjwhgAAEAYEcYAAADCiDAGAAAQRoQxAACAMCKMAQAAhBFhDAAAIIwIYwAAAGFEGAMAAAgjwhgAAEAYEcYAAADCiDAGAAAQRoQxAACAMCKMAQAAhBFhDAAAIIwIYwAAAGFEGAMAAAgjwhgAAEAYEcYAAADCiDAGAAAQRoQxAACAMCKMAQAAhBFhDAAAIIwIYwAAAGFEGAMAAAgjwhgAAEAYEcYAAADCiDAGAAAQRoQxAACAMCKMAQAAhBFhDAAAIIwIYwAAAGFEGAMAAAgjwhgAAEAYEcYAAADCiDAGAAAQRoQxOMqaNWtk/PjxtgcAgPcRxuAYx48flx49eki7du3kscces6MAAHhblC+ebQNhdfjwYSldurT8+uuvkjlzZhPOAADwOmbG4BixsbFSv3592wMAIDIwMwbHOHjwoFx33XWye/duZsYAABGDmTE4xunTp00QAwAgkhDGAAAAwogwBgAAEEaEMQAAgDAijAEAAIQRYQwAACCMCGMAAABhRBgDAAAII8IYAABAGBHGAAAAwogwBgAAEEaEMTiGHhTesGFD2wMAIDIQxuAYejj49ddfb3sAAEQGwhgAAEAYEcbgGIcPH5bZs2fbHgAAkSHKF8+2gbDav3+/5M6d27R1yfL48eOmDQCAlzEzBgAAEEaEMQAAgDAijMExoqKiJFu2bLYHAOe2e/duefjhh+WRRx6RgwcP2lHAnQhjcIycOXOaX6wAcD4axKpXry4jRoyQYcOGmTbgZoQxOMaRI0dk0aJFtgcAZ5s0aZIJX999950dEVm9erVj78SOi4sz4TFw6V3jQGKEMTiG3j35888/2x4AJKRh5s0330wQxAI0kDnNrl27pGLFilKgQIHgVaNGDenatau59u7da56EAoQxOEauXLnk8ccftz0AOEODmAaZpIKYU/Xq1eus9/err76S/v37mytv3rxSpUoVmTp1qhw9etS+BiIRYQyOoc8Qly5dansA4PfPP/+YILZ+/Xo74g5vvfWWvPPOO9KzZ09z9q5emTJlso/6rVq1Spo1ayaVK1c2M2WU/oxMhDE4hi5Trl271vYARDoNJhMnTpRq1aqdFcQaNGhgxp1Mw9ezzz4rL7/8shw6dMhcn3/+ufTu3Vtq164t0dHR9jX9y6w6U9atWzc5cOCAHUWkIIzBMfQXk+6vAOA8p06dkhMnTpiX6UGDmN4t2apVqwRLfRpwdLZpxowZrjw+7Z577pHnn39e5s2bZ5YmdfYsdLasX79+8sILLzBDFmE4DgmOod+K3bt3l3//+98ch4SLFvqrLKlfa/oHfcqUKbaXUNWqVWXJkiW2h6R8/fXXZlanbNmyZlYn4Pbbb5cmTZrYXurQr58Gsc6dO9uRMzSs6OZ3pWEma9aspv3qq6/Ka6+9Ztpus2LFCjPLp2E3YMKECdKyZUtTfxERIP6bHnCEffv26V9Qc8WHMTsKXFj8HzNfrVq1fPFhyzdgwIDg9xFX8i79eYsPM76KFSsmGO/Ro4cvQ4YMvpdeesk8Hh0dHXysSpUq5uWYMWPsVyH1DB06NPh2AldsbKxv5cqV9jX8jhw5Enxc3z+3q1evXoKPefz48fYReB0zY3AMDgrHpdKTG7R+05NPPmlmTvr06SNdunSRjRs3ymeffSZPP/205MmTx7xufFgzJQfUDTfcIG3btpVNmzbJ2LFjpUiRIvLAAw&Yx1KbzrzpDJxTxYcuMyMV&idBZ2W0ry/1On36tH3k7MdSS3wQk0cffdT2/PTrqzUI77rrLjvi55WZsQD9fDZq1EhmzpxpR0S2bt0qV155pe3BqwhjcAzCGC5F3759zR4c9emnn0qLFi1MG&6jIVmX63744Qc7IpI9e3ZZuHChlCtXzo6c4bUwpjTw5suXT/bt22f6uiysH7&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)\n",
        "\n",
        "\n",
        "\n",
        "Es posible ver que coindide, justamente con la la raíz cuadrada de el vector con sí mismo, el cual denotaremos $||A||$.\n",
        "Es decir:\n",
        "sea $A = (a,b) \\in R^2$ se tiene:\n",
        "$$ ||A|| = \\sqrt{A \\cdot A} = \\sqrt{a \\cdot a + b \\cdot b} = \\sqrt{a^2 + b^2}$$\n",
        "\n",
        "Es análogo para casos de dimensiones superiores, por lo que se pude extender para el caso $R^n$.\n",
        "\n",
        "\n",
        "Sea $ω \\in R^n, ||ω|| = \\sqrt{\\sum_{i=1} ^n ω_i^2}$  t.q. $ _{i \\in \\{1,2,...,n\\}}$\n"
      ]
    },
    {
      "cell_type": "code",
      "execution_count": 68,
      "metadata": {},
      "outputs": [
        {
          "name": "stdout",
          "output_type": "stream",
          "text": [
            "14.071247279470288\n"
          ]
        }
      ],
      "source": [
        "# Sea el vector\n",
        "v = (13,2,5)\n",
        "# Para el cálculo de su norma y, aunque en el paquete de symbolic math pythom (Sympy) existe una función para raíz cuadrada\n",
        "# Para simplificar y evitar la inclusión de paquetes se usará su equivalente que es potencia (1/2 = 0.5)\n",
        "# Por lo que la norma del vector ve sería:\n",
        "norma = (13**2 + 2**2 + 5**2)**(0.5)\n",
        "print(norma)\n"
      ]
    },
    {
      "cell_type": "markdown",
      "metadata": {},
      "source": [
        "Para el caso de la norma es trivial que se cumple que:\n",
        "\n",
        "$$ ||A|| = ||-A||$$"
      ]
    },
    {
      "cell_type": "markdown",
      "metadata": {},
      "source": [
        "A partir de este punto se tomará un cambio leve respecto a la orientación anterior.\n",
        "\n",
        "\n",
        "Dado que el álgebra lineal, lleva en su nombre la palabra lineal por la relación (y extensión) con las propiedades de las funciones lineales las cuales, desde un perspectiva geométrica dibujan una línea recta, junto con otros elementos de la aritmética como la solución a ecuaciones (lineales).\n",
        "\n",
        "Se puede extender el concepto anteriomente mencionado de vector, como un segmento de una recta, y, con ello estudiar cómo estos pueden afectar rectas en el espacio."
      ]
    },
    {
      "cell_type": "markdown",
      "metadata": {
        "id": "7sRRNRhzLkxV"
      },
      "source": [
        "## La Recta\n",
        "\n"
      ]
    },
    {
      "cell_type": "markdown",
      "metadata": {},
      "source": [
        "Se asume que el lector tiene relación con el concepto visual de una recta, por lo que se abordará desde la perspectiva de formulación matemática.\n",
        "\n",
        "### Ecuación de la recta\n",
        "Una recta es un conjunto de puntos (infinito) que soluciona la siguiente ecuación (la ecuación de la recta)\n",
        "\n",
        "$$ y = m \\cdot x +b$$\n",
        "\n",
        "donde $x,y$ son valores variables donde $y$ depende de los valores aleatrios que tome la variable $x$ y $b,m$ son valores fijos, en particular $m$ es llamado pendiente, y simboliza la orientación e inclinación de la recta."
      ]
    },
    {
      "cell_type": "code",
      "execution_count": 69,
      "metadata": {
        "colab": {
          "base_uri": "https://localhost:8080/",
          "height": 239
        },
        "id": "zqIk3xg8ZqSt",
        "outputId": "abe5eecf-2cdd-4a0f-c237-3e406af035bb"
      },
      "outputs": [
        {
          "data": {
            "image/png": "[encoded data removed]",
            "text/plain": [
              "<Figure size 640x480 with 1 Axes>"
            ]
          },
          "metadata": {},
          "output_type": "display_data"
        }
      ],
      "source": [
        "# The following code gives a graph using matplotlib for the function y= 2x+4\n",
        "\n",
        "import matplotlib.pyplot as plt\n",
        "\n",
        "x = range(-10, 11)\n",
        "y = [2*i + 4 for i in x]\n",
        "\n",
        "plt.plot(x, y)\n",
        "\n",
        "plt.axhline(0, color='grey', alpha=0.4)\n",
        "plt.axvline(0, color='grey', alpha=0.4)\n",
        "\n",
        "plt.xlabel('x')\n",
        "plt.ylabel('y')\n",
        "\n",
        "plt.show()"
      ]
    },
    {
      "cell_type": "markdown",
      "metadata": {
        "id": "58fsHcb2rnM1"
      },
      "source": [
        "la recta, representación de funciones lineales, lleva consigo un conjunto de propiedades que serán abarcadas posteriormente.\n",
        "\n",
        "\n",
        "Para generar una introducción más amena a uno de los objetos de estudio del álgebra lineal el cual son los sistemas de ecuaciones lineales y sus soluciones."
      ]
    },
    {
      "cell_type": "markdown",
      "metadata": {},
      "source": [
        "## Sistemas de ecuaciones"
      ]
    },
    {
      "cell_type": "markdown",
      "metadata": {
        "id": "PichwrhgWLOx"
      },
      "source": [
        "\n",
        "Entenderemos un sistema de ecuaciones lineales como un conjunto de ecuaciones lineales con una interacción entre cada ecuación que lo compone.\n",
        "\n",
        "\n",
        "\n",
        "\n",
        "\n",
        "\n",
        "\n"
      ]
    },
    {
      "cell_type": "markdown",
      "metadata": {},
      "source": [
        "### Caracterización de sistemas de ecuaciones\n"
      ]
    },
    {
      "cell_type": "markdown",
      "metadata": {},
      "source": [
        "\n",
        "\n",
        "Los sistemas de ecuaciones lineas se caracterizan o nombran de la forma $nxm$ basado en la cantidad de ecuaciones ($n$) y la cantidad de incognitas ($m$). A este \"producto\" $nxm$ nos referiremos como la dimensión del sistema de ecuaciones; dicha dimensión con llevan a propiedades sobre el tipo de sistema de ecuaciones, aunque no son exclusivas (presentan un indicio pero no son determinadoras) dichos tipos son separados por su solución (formalmente su conjunto solución) y serán ejemplificados posteriormente."
      ]
    },
    {
      "cell_type": "markdown",
      "metadata": {},
      "source": [
        "### Tipos de sistemas de ecuaciones"
      ]
    },
    {
      "cell_type": "markdown",
      "metadata": {},
      "source": [
        "\n",
        "  Los tipos de sistemas de ecuaciones son:\n",
        "\n",
        "\n",
        "*   Sistema con solución única.\n",
        "*   Sistema con infinitas soluciones.\n",
        "*   Sistema sin solución.\n",
        "\n"
      ]
    },
    {
      "cell_type": "markdown",
      "metadata": {},
      "source": [
        "### Sistemas de ecuaciones lineales de 2 incognitas (y 2 ecuaciones)"
      ]
    },
    {
      "cell_type": "markdown",
      "metadata": {},
      "source": [
        "\n",
        "\n",
        "Un de los sistemas más elementales en el estudio del álgebra lineal son los sistemas de ecuaciones de $2x2$, que en términos generales se presenta:\n",
        "\n",
        "\n",
        "$$\n",
        "\\begin{matrix}\n",
        "a_{11}x + a_{21}y &= b_{1}\\\\\n",
        "a_{21}x + a_{22}y &= b_{2}\\\\\n",
        "\\end{matrix} $$\n",
        "\n",
        "\n",
        "Donde $a_{ii},b_{i} \\in \\mathbb{R}$ y $x,y$ son, también números reales\n",
        "\n",
        "En el entendimiento de sistemas de ecuaciones lineales, la búsqueda de sus soluciones en una pieza fundamental por lo que, para ello presentaremos propiedades del álgebra elemental que ayudan a definir metodologías para encontrar estas soluciones:\n",
        "$$ \\text{Propiedad A: si } a=b \\text{ y } c =d \\Rightarrow a+c= b+d$$\n",
        "$$ \\text{Propiedad B: si } a=b \\text{ y }  c\\in \\mathbb{R} \\Rightarrow c\\cdot a= c \\cdot b $$\n",
        "\n",
        "\n",
        "De estas propiedades obtenemos que la suma de 2 ecuaciones da origen a una tercera ecuación que válida que preserva valores y que al multiplicar ambos lados de la ecuación la ecuación obtenida es también válida.\n",
        "  \n",
        "  A continuación se presentarán ejemplos que ayudarán a presentar los tipos de sistemas de ecuaciones mencionados anteriormente"
      ]
    },
    {
      "cell_type": "markdown",
      "metadata": {},
      "source": [
        "\n",
        "\n",
        "#### Ejemplos:"
      ]
    },
    {
      "cell_type": "markdown",
      "metadata": {
        "id": "5i2VnVaRxEv9"
      },
      "source": [
        "\n",
        "\n",
        "\n",
        "\n",
        "\n",
        "\n",
        "1.   Sistema con solución única.\n",
        "Consideremos el suigiente sistema:    \n",
        "        $$\n",
        "        \\begin{matrix}\n",
        "            3x - 2y &= 4 (i)\\\\\n",
        "            5x + 2y &= 12 (ii)\\\\\n",
        "            \\end{matrix} $$\n",
        "\n",
        "Para la solución se comenzará por sumar ambas ecuaciones:\n",
        "$ 8x+= 16 \\Rightarrow x = 2$, ahora este valor puede ser reemplzado en cualquier ecuación para obtener el valor de la variable $y$. Para ello se reemplazará $x$ en la ecuación $(i)$:\n",
        "$$3(2) - 2y = 4 \\\\\n",
        "6 - 2y = 4\\\\\n",
        "-2y = 4 -6 \\\\\n",
        "-2y = -2\\\\\n",
        "2y = 2\\\\\n",
        "y =1$$\n",
        "\n",
        "de este par de soluciones obtenemos un punto de la forma $(x,y)$ el cual es $(2,1)$ que, se comprobará posteriormente, soluciona amabs ecuaciones y coincide con el punto de intersección de las rectas descritas por ambas ecuaciones. \n",
        "\n",
        "\n",
        "Para comprobar dichas se hará uso de python:\n",
        "\n",
        "\n",
        "\n",
        "\n",
        "\n",
        "\n",
        "\n",
        "\n",
        "\n",
        "\n"
      ]
    },
    {
      "cell_type": "code",
      "execution_count": 94,
      "metadata": {
        "id": "McKWj8Wo4ion"
      },
      "outputs": [
        {
          "name": "stdout",
          "output_type": "stream",
          "text": [
            "{x: 2, y: 1}\n"
          ]
        }
      ],
      "source": [
        "#escribimos el sistema de ecuaciones en la función solve de sympy:\n",
        "from sympy import symbols, Eq, solve\n",
        "\n",
        "# Definir las variables\n",
        "x, y = symbols('x y', real=True)\n",
        "\n",
        "# Definir las ecuaciones\n",
        "eq1 = Eq(3*x -2*y, 4)\n",
        "eq2 = Eq(5*x + 2*y, 12)\n",
        "\n",
        "# Resolver el sistema de ecuaciones\n",
        "sol = solve([eq1, eq2], [x, y])\n",
        "print(sol)"
      ]
    },
    {
      "cell_type": "markdown",
      "metadata": {},
      "source": [
        "    \n",
        "2.   Sistema con infinitas soluciones.\n",
        "\n",
        "Consideremos el suigiente sistema:    \n",
        "        $$\n",
        "        \\begin{matrix}\n",
        "            x - y &= 7 (i)\\\\\n",
        "            2x - 2y &= 14 (ii)\\\\\n",
        "            \\end{matrix} $$\n",
        "\n",
        "¿por qué no tiene solución este sistema? \n",
        "Se puede notar que al dividir la ecuación $(ii)$ entre 2 (multiplicar por $\\frac{1}{2}$) se obtiene la ecuación $(i)$\n",
        "Por lo que cualquier punto que solucione la ecuación $(i)$ también solucionará $(ii)$\n"
      ]
    },
    {
      "cell_type": "code",
      "execution_count": 71,
      "metadata": {},
      "outputs": [
        {
          "name": "stdout",
          "output_type": "stream",
          "text": [
            "{x: y + 7}\n"
          ]
        }
      ],
      "source": [
        "#¿Qué pasa con los sistemas sin solución en sympy?\n",
        "#escribimos el sistema de ecuaciones en la función solve de sympy:\n",
        "from sympy import symbols, Eq, solve\n",
        "\n",
        "# Definir las variables\n",
        "x, y = symbols('x y', real=True)\n",
        "\n",
        "# Definir las ecuaciones\n",
        "eq1 = Eq(x - y, 7)\n",
        "eq2 = Eq(2*x - 2*y, 14)\n",
        "\n",
        "# Resolver el sistema de ecuaciones\n",
        "sol = solve([eq1, eq2], [x, y])\n",
        "print(sol)"
      ]
    },
    {
      "cell_type": "markdown",
      "metadata": {},
      "source": [
        "\n",
        "3.   Sistema sin solución.\n",
        "\n",
        "Consideremos el suigiente sistema:    \n",
        "        $$\n",
        "        \\begin{matrix}\n",
        "            x - y &= 7 (i)\\\\\n",
        "            2x - 2y &= 13 (ii)\\\\\n",
        "            \\end{matrix} $$\n",
        "\n",
        "Para este caso, se procederá a multiplicar la ecuación por 2, se obtiene \n",
        "$2x - 2y = 14$ si restamos dichas ecuaciones obtendriamos: \n",
        "$2x -2y -(2x-2y) = 13 - 14 \\Rightarrow 0 = -1$, lo cual es falso en $\\mathbb{R}$ por lo que, se puede afirmar, que no existe un punto que solucione dichas ecuaciones. Este sistema es también llamado inconsistente.\n",
        "\n",
        "\n",
        "\n",
        "\n",
        "\n"
      ]
    },
    {
      "cell_type": "code",
      "execution_count": 95,
      "metadata": {},
      "outputs": [
        {
          "name": "stdout",
          "output_type": "stream",
          "text": [
            "[]\n"
          ]
        }
      ],
      "source": [
        "#¿Qué pasa con los sistemas de infinitas soluciones n en sympy?\n",
        "#escribimos el sistema de ecuaciones en la función solve de sympy:\n",
        "from sympy import symbols, Eq, solve\n",
        "\n",
        "# Definir las variables\n",
        "x, y = symbols('x y', real=True)\n",
        "\n",
        "# Definir las ecuaciones\n",
        "eq1 = Eq(x - y, 7)\n",
        "eq2 = Eq(2*x - 2*y, 13)\n",
        "\n",
        "# Resolver el sistema de ecuaciones\n",
        "sol = solve([eq1, eq2], [x, y])\n",
        "print(sol)"
      ]
    },
    {
      "cell_type": "markdown",
      "metadata": {},
      "source": [
        "La vista geometrica de cada uno de estos casos ayuda a ver como guarda relacion con el conjunto solucion:"
      ]
    },
    {
      "cell_type": "code",
      "execution_count": 96,
      "metadata": {},
      "outputs": [
        {
          "data": {
            "image/png": "[encoded data removed]",
            "text/plain": [
              "<Figure size 1500x500 with 3 Axes>"
            ]
          },
          "metadata": {},
          "output_type": "display_data"
        }
      ],
      "source": [
        "import matplotlib.pyplot as plt\n",
        "import numpy as np\n",
        "\n",
        "\n",
        "# Valores del eje X para el gráfico\n",
        "x = np.linspace(-10, 15, 100)\n",
        "\n",
        "# Se deben reescribir las funciones en funcion de una variable:\n",
        "eq1 = lambda x: (4 - 3*x)/-2\n",
        "eq2 = lambda x: (12 -5*x)/2\n",
        "\n",
        "# Evaluar las funciones en los valores de X\n",
        "y1 = eq1(x)\n",
        "y2 = eq2(x)\n",
        "fig, (ax1, ax2,ax3) = plt.subplots(1, 3, figsize=(15, 5))\n",
        "\n",
        "# Graficar la primera función en el primer subplot\n",
        "ax1.plot(x, y1, label='f(x)= (4 - 3x)/-2')\n",
        "ax1.plot(x, y2, label='f(x)=(12 -5x)/2')\n",
        "ax1.plot(2,1, marker=\"o\",label='Punto solucion')\n",
        "ax1.set_xlabel('x')\n",
        "ax1.set_ylabel('y')\n",
        "ax1.set_title('Solucion Unica')\n",
        "ax1.axhline(0, color='grey', alpha=0.4)\n",
        "ax1.axvline(0, color='grey', alpha=0.4)\n",
        "ax1.legend()\n",
        "\n",
        "# Se deben reescribir las funciones en funcion de una variable:\n",
        "eq1 = lambda x: -7+x\n",
        "eq2 = lambda x: (14 -2*x)/-2\n",
        "\n",
        "# Evaluar las funciones en los valores de X\n",
        "y1 = eq1(x)\n",
        "y2 = eq2(x)\n",
        "# Graficar la segunda función en el segundo subplot\n",
        "ax2.plot(x, y1, label='f(x) = -7 + x', color='orange')\n",
        "ax2.plot(x, y2, label='f(x) = (14 -2x)/-2', color='blue')\n",
        "ax2.set_xlabel('x')\n",
        "ax2.set_ylabel('y')\n",
        "ax2.set_title('Caso infinitas soluciones')\n",
        "ax2.axhline(0, color='grey', alpha=0.4)\n",
        "ax2.axvline(0, color='grey', alpha=0.4)\n",
        "ax2.legend()\n",
        "\n",
        "# Se deben reescribir las funciones en funcion de una variable:\n",
        "eq1 = lambda x: -7+x\n",
        "eq2 = lambda x: (13 -2*x)/-2\n",
        "\n",
        "# Evaluar las funciones en los valores de X\n",
        "y1 = eq1(x)\n",
        "y2 = eq2(x)\n",
        "# Graficar la segunda función en el segundo subplot\n",
        "ax3.plot(x, y1, label='f(x) = -7 + x', color='orange')\n",
        "ax3.plot(x, y2, label='f(x) = (13 -2x)/-2', color='blue')\n",
        "ax3.set_xlabel('x')\n",
        "ax3.set_ylabel('y')\n",
        "ax3.set_title('Caso sin solucion')\n",
        "ax3.axhline(0, color='grey', alpha=0.4)\n",
        "ax3.axvline(0, color='grey', alpha=0.4)\n",
        "ax3.legend()\n",
        "\n",
        "# Ajustar los subplots y mostrar la figura\n",
        "plt.tight_layout()\n",
        "plt.show()"
      ]
    },
    {
      "cell_type": "markdown",
      "metadata": {},
      "source": [
        "De este apartado gráfico se ve la relación entre cada una de las tipologías y da pie a la definición del llamado conjunto solución, el cual no es más que el conjunto de puntos que satisfacen el sistema de ecuaciones. \n",
        "\n",
        "Para el caso de única solución, el conjunto solución $\\mathbb{S}$ contiene solo un elemento $(2,1)$, formalmente se escribe: $\\mathbb{S} : \\{(2,1)\\}$.\n",
        "\n",
        "Para el caso de infinitas soluciones el conjunto solucion tiene infinitos elementos, por lo que escribimos los elementos que tienen dicha forma, formalmente se escribe: $\\mathbb{S}: \\{(x,x-7)| x \\in \\mathbb{R}\\}$\n",
        "\n",
        "Para el caso sin solucion o inconsistente, el conjunto solucion es vacio, por lo que formalmente se escribe: $\\mathbb{S}: \\{\\phi \\}$"
      ]
    },
    {
      "cell_type": "markdown",
      "metadata": {},
      "source": [
        "**Teorema** \n",
        "\n",
        "Dado el sistema \n",
        "$$ a_{11}x + a{12}y = b_1 \\\\\n",
        "a_{21}x + a{22}y = b_2 $$ \n",
        "\n",
        "1. Tiene solución única si y solo si $ a_{11} \\cdot a_{22} - a_{12} \\cdot a_{21} \\neq 0$\n",
        "2. No tiene solución o es de soluciones infinitas si $ a_{11} \\cdot a_{22} - a_{12} \\cdot a_{21} = 0$"
      ]
    },
    {
      "cell_type": "markdown",
      "metadata": {},
      "source": [
        "#### Ejercicios\n"
      ]
    },
    {
      "cell_type": "markdown",
      "metadata": {},
      "source": [
        "Encuentra la solucion, si existe, para cada sistema en caso de que exista, verificar utilizando el teorema"
      ]
    },
    {
      "cell_type": "markdown",
      "metadata": {},
      "source": [
        "1. $\\begin{matrix} 2x &+& 3y &= 12 \\\\ 4x &-& 2y &= -6 \\end{matrix}$\n",
        "\n",
        "\n",
        "2. $\\begin{matrix} 3x &+& 4y &= 10 \\\\ 2x &-& y &= -5 \\end{matrix}$\n",
        "3. $\\begin{matrix} 2x &+& 3y &= 8 \\\\ 4x &-& 2y &= -10 \\end{matrix}$\n",
        "4. $\\begin{matrix} 2x &+& 3y &= 10 \\\\ 4x &-& 2y &= -8 \\end{matrix}$\n",
        "5. $\\begin{matrix} 2x &+& 3y &= 10 \\\\ 4x &-& 2y &= -10 \\end{matrix}$\n",
        "6. $\\begin{matrix} x &+& 2y &= 6 \\\\ 3x &-& y &= -4 \\end{matrix}$\n",
        "7. $\\begin{matrix} x &+& 2y &= 6 \\\\ 3x &-& y &= -4 \\end{matrix}$"
      ]
    },
    {
      "cell_type": "markdown",
      "metadata": {},
      "source": [
        "### Sistemas de $m$ ecuaciones con $n$ incognitas\n"
      ]
    },
    {
      "cell_type": "markdown",
      "metadata": {},
      "source": [
        "En esta sección se presentará una extensión a sistemas con mayores ecuaciones e incógnitas que en la sección anterior y se buscará presentar una metedología para brindar solución a ellos (en caso de que exista).\n",
        "\n",
        "Se sienta como base que los sistemas de $m \\times n$ cumplen las mismas 3 clasificaciones (unica solución, infinitas soluciones, o sin solución) que para el caso de $2 \\times 2$"
      ]
    },
    {
      "cell_type": "markdown",
      "metadata": {},
      "source": [
        "#### Ejemplos "
      ]
    },
    {
      "cell_type": "markdown",
      "metadata": {},
      "source": [
        "\n",
        "Con la finalidad de introducir esta metodología de solución se presentarán ejemplos para facilitar dicha introducción.\n",
        "Para facilitar la escritura (y omitir el problema de falta de letras para variables, se utilizaran las variables $x_{ii}$)\n",
        "\n",
        "1. Considere el sistema \n",
        "\n",
        "$$ \\begin{matrix}\n",
        " 2x_1  &+& 4x_2 &+ & 6x_3 & = 18\\\\\n",
        " 4x_1 &+ & 5x_2 &+ & 6x_3 & = 24 \\\\\n",
        " 3x_1 &+ & x_2 &- & 2x_3  & =  4 \n",
        " \\end{matrix}\n",
        " $$\n",
        "\n",
        "Igual que en la sección anterior se busca encontrar tales números $x_1,x_2,x_3$ que den solución a las 3 ecuaciones. \n",
        "\n",
        "\n",
        "Se comenzará por dividir la primera ecuación entre 2 (i.e. multiplicar por $\\frac{1}{2}$), lo cual es posible pues se preservan las propiedades. \n",
        "\n",
        "Quedaría: \n",
        "\n",
        "$$ \\begin{matrix}\n",
        " x_1  &+& 2x_2 &+ & 3x_3 &= 9\\\\\n",
        " 4x_1 &+ & 5x_2 &+ & 6x_3 &= 24 \\\\\n",
        " 3x_1 &+ & x_2 &- & 2x_3  &=  4 \n",
        " \\end{matrix}\n",
        " $$\n",
        "\n",
        "Otra funcionalidad proveniente de la preservación de propiedades es utilizarlas simultaneamente i.e. mupliciar una ecuación por un número y operarla con otra, utilizando ello se procede a multiplicar la primera ecuación por $-4$y sumarla con la segunda (dejando dicho resultado en la segunda ecuación), haciendo el paso por paso: \n",
        "\n",
        "$-4x_1 - 8x_2 - 12x_3 = -36$ \n",
        "luego hacemos la suma de dichas ecuaciones: \n",
        "$$ \\begin{matrix}\n",
        "    -4x_1 &-& 8x_2 &-& 12x_3 &= -36 \\\\ \n",
        "    4x_1 &+ & 5x_2 &+ & 6x_3 &= 24\\\\\n",
        "   \\\\\n",
        "     &-& 3x_2 &-&6x_3 &= -12\n",
        "     \\end{matrix}\n",
        "\n",
        "$$\n",
        "\n",
        "Por lo que nuestro sistema de ecuaciones seria: \n",
        "\n",
        "$$ \\begin{matrix}\n",
        " x_1  &+& 2x_2 &+ & 3x_3 &= 9\\\\\n",
        " &-& 3x_2 &-&6x_3 &= -12 \\\\\n",
        " 3x_1 &+ & x_2 &- & 2x_3  &=  4 \n",
        " \\end{matrix}\n",
        " $$\n",
        "\n",
        "Se multiplica la segunda ecuación por  $\\frac{-1}{3}$: \n",
        "\n",
        "$$ \\begin{matrix}\n",
        " x_1  &+& 2x_2 &+ & 3x_3 &= 9\\\\\n",
        " && x_2 &+&2x_3 &= 4 \\\\\n",
        " 3x_1 &+ & x_2 &- & 2x_3  &=  4 \n",
        " \\end{matrix}\n",
        " $$\n",
        "\n",
        "Sumamos la primera ecuación multiplicada por $-3$ con la tercera ecuación:\n",
        "\n",
        "\n",
        "$$ \\begin{matrix}\n",
        " x_1  &+& 2x_2 &+ & 3x_3 &= 9\\\\\n",
        " && x_2 &+&2x_3 &= 4 \\\\\n",
        "  &- & 5x_2 &- & 11x_3  &=  -23 \n",
        " \\end{matrix}\n",
        " $$\n",
        "\n",
        "\n",
        "Ahora se suma la segunda ecuación multiplicada por $-2$ con la primera ecuación: \n",
        "\n",
        "$$ \\begin{matrix}\n",
        " x_1  &&  &- & x_3 &= 1\\\\\n",
        " && x_2 &+&2x_3 &= 4 \\\\\n",
        "  &- & 5x_2 &- & 11x_3  &=  -23 \n",
        " \\end{matrix}\n",
        " $$\n",
        "\n",
        "Ahora sumamos la segunda ecuación multiplicada por $-5$ con la tercera ecuación: \n",
        "\n",
        "$$ \\begin{matrix}\n",
        " x_1  &&  &- & x_3 &= 1\\\\\n",
        " && x_2 &+&2x_3 &= 4 \\\\\n",
        "  & &  & & x_3  &=  3 \n",
        " \\end{matrix}\n",
        " $$\n",
        "\n",
        "\n",
        "Ahora se suma la tercera con la primera ecuación: \n",
        "\n",
        "$$ \\begin{matrix}\n",
        " x_1  &&  & &  &= 4\\\\\n",
        " && x_2 &+&2x_3 &= 4 \\\\\n",
        "  & &  & & x_3  &=  3 \n",
        " \\end{matrix}\n",
        " $$\n",
        "\n",
        "Por último se suma la tercera ecuación multiplicada por $-2$ con la tercera ecuación: \n",
        "\n",
        "$$ \\begin{matrix}\n",
        " x_1  &&  & &  &= 4\\\\\n",
        " && x_2 & & &= -2 \\\\\n",
        "  & &  & & x_3  &=  3 \n",
        " \\end{matrix}\n",
        " $$\n",
        "\n",
        "\n",
        "Esta reducción del sistema de ecuaciones da una separación de el valor acorde a cada variable, que corresponde a la terna ordenada $(x_1,x_2,x_3) = (4,-2,3)$\n",
        "\n"
      ]
    },
    {
      "cell_type": "markdown",
      "metadata": {},
      "source": [
        "¿Cómo Resolvemos este sistema utilizando sympy? "
      ]
    },
    {
      "cell_type": "code",
      "execution_count": 97,
      "metadata": {},
      "outputs": [
        {
          "name": "stdout",
          "output_type": "stream",
          "text": [
            "{x1: 4, x2: -2, x3: 3}\n"
          ]
        }
      ],
      "source": [
        "from sympy import Eq, symbols, solve\n",
        "\n",
        "# Declarar las variables\n",
        "x1, x2, x3 = symbols('x1, x2, x3')\n",
        "\n",
        "# Define la ecuación 1\n",
        "eq1 = Eq(2*x1 + 4*x2 + 6*x3 ,18)\n",
        "\n",
        "# Define la ecuación 2\n",
        "eq2 = Eq(4*x1 + 5*x2 + 6*x3 , 24)\n",
        "\n",
        "# Define la ecuación 3\n",
        "eq3 = Eq(3*x1 + x2 - 2*x3 , 4)\n",
        "\n",
        "# Solucionar el sistema de ecuaciones utilizando la función solve de Sympy\n",
        "sol = solve([eq1, eq2, eq3], [x1, x2, x3])\n",
        "\n",
        "print(sol)\n"
      ]
    },
    {
      "cell_type": "code",
      "execution_count": 98,
      "metadata": {},
      "outputs": [
        {
          "name": "stdout",
          "output_type": "stream",
          "text": [
            "EL resultado para la ecuación x1+ 2x2 + 3x3 es  9\n",
            "EL resultado para la ecuación 4x1+ 5x2 + 6x3 es  24\n",
            "EL resultado para la ecuación 3x1 + x2 -2x3 es  4\n",
            "\n",
            "EL resultado para la ecuación x1+ 2x2 + 3x3 es  9\n",
            "EL resultado para la ecuación 4x1+ 5x2 + 6x3 es  24\n",
            "EL resultado para la ecuación 3x1 + x2 -2x3 es  4\n"
          ]
        }
      ],
      "source": [
        "#Para comprobar dicha solución creamos las funciones lambda: \n",
        "eq1 = lambda x1,x2,x3: x1 + 2*x2 + 3*x3 \n",
        "eq2 = lambda x1,x2,x3: 4*x1 + 5*x2 + 6*x3 \n",
        "eq3 = lambda x1,x2,x3: 3*x1 + x2 - 2*x3\n",
        "\n",
        "\n",
        "#Reemplazamos en cada ecuación los valores correspondientes e imprimimos el resultado: \n",
        "\n",
        "print(\"EL resultado para la ecuación x1+ 2x2 + 3x3 es \", eq1(4,-2,3))\n",
        "print(\"EL resultado para la ecuación 4x1+ 5x2 + 6x3 es \", eq2(4,-2,3))\n",
        "print(\"EL resultado para la ecuación 3x1 + x2 -2x3 es \", eq3(4,-2,3))\n",
        "\n",
        "# También se puede entregar los valores llamandolos desde el diccionario entregado por la función solve:\n",
        "print()\n",
        "print(\"EL resultado para la ecuación x1+ 2x2 + 3x3 es \", eq1(sol[x1],sol[x2],sol[x3]))\n",
        "print(\"EL resultado para la ecuación 4x1+ 5x2 + 6x3 es \", eq2(sol[x1],sol[x2],sol[x3]))\n",
        "print(\"EL resultado para la ecuación 3x1 + x2 -2x3 es \", eq3(sol[x1],sol[x2],sol[x3]))\n",
        "\n",
        "\n"
      ]
    },
    {
      "cell_type": "markdown",
      "metadata": {},
      "source": [
        "Se puede observar que dichos resultados satisfacen cada una de las equivalencias en las ecuaciones del sistema presentado.\n",
        "\n",
        "Dicha metología se conoce como reducción por método de Gauss-Jordan. \n",
        "Con la finalidad de facilitar la escritura en el proceso de reducción por metodo Gauss-Jordan se introducirá la notación matricial. \n",
        "La definición y propiedades de matrices se realizará en la siguiente sección, para este caso, se utilizarán matrices que respresentan sistemas de ecuaciones y se llamarán **Matriz de coeficientes** y **Matriz aumentada**"
      ]
    },
    {
      "cell_type": "markdown",
      "metadata": {},
      "source": [
        "### Matriz (definición preliminar)\n"
      ]
    },
    {
      "cell_type": "markdown",
      "metadata": {},
      "source": [
        "\n",
        "llamaremos matriz a un arreglo de números distribuidos entre filas $m$ y columnas $n$ mediante las cuales se pueden representar los sistemas de ecuaciones\n"
      ]
    },
    {
      "cell_type": "markdown",
      "metadata": {},
      "source": [
        "#### Matriz de coeficientes"
      ]
    },
    {
      "cell_type": "markdown",
      "metadata": {},
      "source": [
        "Esta matriz se utilza para representar los coeficientes que acompañan a las incognitas $x_i$ de un sistema de ecuaciones, estos últimos se omiten al momento de su escritura. \n",
        "Este tipo de notación es usual en sistemas de ecuaciones homogeneos (los cuales se abordarán posteriormente). \n",
        "1. considere el sistema de ecuaciones: \n",
        "$$ \\begin{matrix}\n",
        " 2x_1  &+& 4x_2 &+ & 6x_3 & = 18\\\\\n",
        " 4x_1 &+ & 5x_2 &+ & 6x_3 & = 24 \\\\\n",
        " 3x_1 &+ & x_2 &- & 2x_3  & =  4 \n",
        " \\end{matrix}\n",
        " $$\n",
        "\n",
        "su matriz de coeficientes asociada es: \n",
        "\n",
        "$$ \\begin{pmatrix}\n",
        " 2 & 4 & 6\\\\\n",
        " 4 & 5 & 6 \\\\\n",
        " 3 & 1 & -2 \n",
        " \\end{pmatrix}\n",
        " $$"
      ]
    },
    {
      "cell_type": "markdown",
      "metadata": {},
      "source": [
        "#### Mariz Aumentada\n"
      ]
    },
    {
      "cell_type": "markdown",
      "metadata": {},
      "source": [
        "esta forma tiene la finalidad de mostrar los valores completos del sistema de ecuaciones y se utilizará en métodos posteriores para solucionar el sistema con métodos que se presentarán posteriormente. \n",
        "\n",
        "Suponga que se tiene el sistema de ecuaciones anterior, su mátriz ampliada sería: \n",
        "\n",
        "\n",
        "$$ \\begin{pmatrix}\n",
        " 2 & 4 & 6 &| 18\\\\\n",
        " 4 & 5 & 6 &24\\\\\n",
        " 3 & 1 & -2 &|4 \n",
        " \\end{pmatrix}\n",
        " $$"
      ]
    },
    {
      "cell_type": "markdown",
      "metadata": {},
      "source": [
        "Note que la existencia de dichas matrices solo tiene sentido cuando tienen relación con un sistema de ecuaciones, pero su uso ayuda a la introducción de notación que facilita la expresión para las operaciones entre filas utilizada anteriormente para solucionar sistemas de ecuaciones"
      ]
    },
    {
      "cell_type": "markdown",
      "metadata": {},
      "source": [
        "#### Operaciones elementales entre renglones"
      ]
    },
    {
      "cell_type": "markdown",
      "metadata": {},
      "source": [
        "A continuación se presentarán 3 operaciones que es posible realizar en las ecuaciones (que ahora llamaremos renglones) de un sistema de ecuaciones (que ahora llamaremos matriz aumentada):\n",
        "1. Multiplicar un renglón por un número diferente de 0. \n",
        "2. Sumar un multiplo de un renglón por otro.\n",
        "3. Intercambio de renglones.\n",
        "\n",
        "Las 2 primeras propiedades fueron utilizadas anteriormente para solucionar el sistema de ecuaciones, la tercera propiedad es útil para ciertos casos y matiene sus sentido pues las soluciones de los sistemas de ecuaciones recaen en la relación entre cada una de las ecuaciones que lo compone y no la posición donde se encuentre cada una, es decir los sistemas\n",
        "$$ \\begin{matrix}\n",
        " 2x_1  &+& 4x_2 &+ & 6x_3 & = 18\\\\\n",
        " 4x_1 &+ & 5x_2 &+ & 6x_3 & = 24 \\\\\n",
        " 3x_1 &+ & x_2 &- & 2x_3  & =  4 \n",
        " \\end{matrix}\n",
        " $$\n",
        "\n",
        " y \n",
        "$$ \\begin{matrix}\n",
        " 4x_1 &+ & 5x_2 &+ & 6x_3 & = 24 \\\\\n",
        " 3x_1 &+ & x_2 &- & 2x_3  & =  4\\\\\n",
        " 2x_1  &+& 4x_2 &+ & 6x_3 & = 18\n",
        "\n",
        " \\end{matrix}\n",
        " $$\n",
        "comparten la misma solución $(x_1,x_2,x_3) = (4,-2,3)$"
      ]
    },
    {
      "cell_type": "markdown",
      "metadata": {},
      "source": [
        "#### Notación "
      ]
    },
    {
      "cell_type": "markdown",
      "metadata": {},
      "source": [
        "1. $R_i \\rightarrow cR_i$ quiere decir: Se reemplaza el renglón en la posición $i$ por el mismo multiplucado por $c$\n",
        "2. $R_j \\rightarrow R_j + cR_i$ Quiere decir:  Se reemplaza el renglón $j$ por la suma de dicho renglón más el renglón $i$ multiplicado por c.  \n",
        "3. $R_i \\leftrightarrow R_j$ Queire decir: Se intercambia el renglón $i$ con el renglón $j$\n",
        "\n",
        "\n",
        "Aplicaremos dicha notación en el sistema anterior para facilitar el entendimiento de su uso y mostrar la reducción en escrituria:\n"
      ]
    },
    {
      "cell_type": "markdown",
      "metadata": {},
      "source": [
        "##### Ejemplos"
      ]
    },
    {
      "cell_type": "markdown",
      "metadata": {},
      "source": [
        "1. Utilizaremos el sistema anterior\n",
        "\n",
        "$ \\begin{pmatrix}\n",
        " 2 & 4 & 6 &| 18\\\\\n",
        " 4 & 5 & 6 &| 24\\\\\n",
        " 3 & 1 & -2 &|  4\n",
        " \\end{pmatrix}\n",
        " \\xrightarrow{R_1 \\rightarrow \\frac{1}{2} R_1}\n",
        " \\begin{pmatrix}\n",
        " 1 & 2 & 3 &| 9\\\\\n",
        " 4 & 5 & 6 &| 24\\\\\n",
        " 3 & 1 & -2 &|  4\n",
        " \\end{pmatrix}\n",
        " \\xrightarrow[ R_3 \\rightarrow R_3 - 3R_1 ]{R_2 \\rightarrow R_2 - 4R_1}\n",
        " \\begin{pmatrix}\n",
        " 1 & 2 & 3 &| 9\\\\\n",
        " 0 & -3 & -6 &| -12\\\\\n",
        " 0 & -5 & -11 &|  -23\n",
        " \\end{pmatrix}\\\\\n",
        " \\xrightarrow{R_2 \\rightarrow -\\frac{1}{3} R_2}\n",
        " \\begin{pmatrix}\n",
        " 1 & 2 & 3 &| 9\\\\\n",
        " 0 & 1 & 2 &| 4\\\\\n",
        " 0 & -5 & -11 &|  -23\n",
        " \\end{pmatrix}\n",
        " \\xrightarrow[ R_3 \\rightarrow R_3 - 5R_2 ]{R_1 \\rightarrow R_1 - 2R_2}\n",
        " \\begin{pmatrix}\n",
        " 1 & 0 & -1 &| 1\\\\\n",
        " 0 & 1 & 2 &| 4\\\\\n",
        " 0 & 0 & -1 &|  -3\n",
        " \\end{pmatrix}\n",
        " \\xrightarrow{R_3 \\rightarrow -R_3}\n",
        " \\begin{pmatrix}\n",
        " 1 & 0 & -1 &| 1\\\\\n",
        " 0 & 1 & 2 &| 4\\\\\n",
        " 0 & 0 & 1 &| 3\n",
        " \\end{pmatrix}\\\\\n",
        " \\xrightarrow[ R_2 \\rightarrow R_2 - 2R_3 ]{R_1 \\rightarrow R_1 + R_3}\n",
        " \\begin{pmatrix}\n",
        " 1 & 0 & 0 &| 4\\\\\n",
        " 0 & 1 & 0 &| -2\\\\\n",
        " 0 & 0 & 1 &| 3\n",
        " \\end{pmatrix}\n",
        "$ "
      ]
    },
    {
      "cell_type": "markdown",
      "metadata": {},
      "source": [
        "Si se reescribimos dicha matriz en forma de sistema de ecuaciones obtenemos: \n",
        "$$ \\begin{matrix}\n",
        " x_1   &= 4\\\\\n",
        " x_2  &= -2 \\\\\n",
        "  x_3  &=  3 \n",
        " \\end{matrix}\n",
        " $$\n",
        "\n",
        "el cual es justamente la estructura de que da las soluciones al sistema de ecuaciones encontrado anteriormente.\n"
      ]
    },
    {
      "cell_type": "code",
      "execution_count": 99,
      "metadata": {},
      "outputs": [
        {
          "name": "stdout",
          "output_type": "stream",
          "text": [
            "{x1: 4, x2: -2, x3: 3}\n"
          ]
        }
      ],
      "source": [
        "from sympy import Eq, symbols, solve\n",
        "\n",
        "x1, x2, x3 = symbols('x1 x2 x3', real=True)\n",
        "eq1 = Eq(2*x1 + 4*x2 + 6*x3, 18)\n",
        "eq2 = Eq(4*x1 + 5*x2 + 6*x3, 24)\n",
        "eq3 = Eq(3*x1 + x2 - 2*x3, 4)\n",
        "sol = solve([eq1, eq2, eq3], [x1, x2, x3])\n",
        "\n",
        "print(sol)\n"
      ]
    },
    {
      "cell_type": "markdown",
      "metadata": {},
      "source": [
        "Si tomamos la matriz de coeficientes podemos es de la forma \n",
        "$$\\begin{pmatrix}\n",
        " 1 & 0 & 0 \\\\\n",
        " 0 & 1 & 0 \\\\\n",
        " 0 & 0 & 1 \n",
        " \\end{pmatrix}$$\n",
        "\n",
        "El cual es llamada matriz Identidad (se presentará posteriormente), la cual es la que se busca llegar utilizando el método de Gauss-Jordan. \n",
        "\n",
        "Ahora presentaremos un ejemplo de una un sistema de ecuaciones en el que no es posible alcanzar dicha forma, pues tiene soluciones infinitas: \n"
      ]
    },
    {
      "cell_type": "markdown",
      "metadata": {},
      "source": [
        "\n",
        "2.  Considere el sistema:\n",
        "\n",
        "$$ \\begin{matrix}\n",
        "2x_1 &+& 4x_2 &+& 6x_3 &=18 \\\\\n",
        "4x_1 &+& 5x_2 &+& 6x_3 &= 24\\\\\n",
        "2x_1 &+& 7x_2 &+& 12x_3 &= 30\n",
        "\\end{matrix}$$\n",
        "\n",
        "Se escribe en su forma matricial aumentada:\n",
        "\n",
        "$$ \\begin{pmatrix} \n",
        "2 & 4 & 6 &| 18\\\\\n",
        "4 & 5 & 6 &| 24\\\\\n",
        "2 & 7 & 12 &| 30\n",
        "\\end{pmatrix}$$\n",
        "\n",
        "Para solucionar: \n",
        "\n",
        "$\n",
        "\\xrightarrow{R_1 \\rightarrow \\frac{1}{2}R_1} \n",
        "\\begin{pmatrix} \n",
        "1 & 2 & 3 &| 9\\\\\n",
        "4 & 5 & 6 &| 24\\\\\n",
        "2 & 7 & 12 &| 30\n",
        "\\end{pmatrix}\n",
        "\\xrightarrow[R_3 \\rightarrow R_3 - 2R_1]{R_2 \\rightarrow R_2 - 4R_1} \n",
        "\\begin{pmatrix} \n",
        "1 & 2 & 3 &| 9\\\\\n",
        "0 & -3 & -6 &| -12\\\\\n",
        "0 & 3 & 6 &| 12\n",
        "\\end{pmatrix}\n",
        "\\xrightarrow{R_2 \\rightarrow -\\frac{1}{2}R_2} \n",
        "\\begin{pmatrix} \n",
        "1 & 2 & 3 &| 9\\\\\n",
        "0 & 1 & 2 &| 4\\\\\n",
        "0 & 3 & 6 &| 12\n",
        "\\end{pmatrix}\n",
        "\\xrightarrow[R_1 \\rightarrow R_1 - 2R_2]{R_3 \\rightarrow R_3 - 3R_2} \n",
        "\\begin{pmatrix} \n",
        "1 & 0 & -1 &| 1\\\\\n",
        "0 & 1 & 2 &| 4\\\\\n",
        "0 & 0 & 0 &| 0\n",
        "\\end{pmatrix}\n",
        "$\n",
        "\n",
        "Reescribiendola a modo de sistemas de Ecuaciones: \n",
        "\n",
        "$$\n",
        "\\begin{matrix}\n",
        "x_1 & &-& x_3 & = 1\\\\\n",
        "& x_2 &+& 2x_3 & = 4\n",
        "\\end{matrix}\n",
        "$$\n",
        "\n",
        "Para escribirlo en modo de conjunto solucion, utilizamos $x_3$ pues se encuentra en ambas ecuaciones y se despeja en torno a dicha variable $x_1,x_2$ obteniendo las ecuaciones: \n",
        "$x_1 = 1 -x_3$, $x_2 = 4-x_3$, por lo que el conjunto solución sería $S:\\{(1 -x, 4-x, x) | x \\in \\mathbb{R}\\}$ "
      ]
    },
    {
      "cell_type": "code",
      "execution_count": 100,
      "metadata": {},
      "outputs": [
        {
          "name": "stdout",
          "output_type": "stream",
          "text": [
            "{x1: x3 + 1, x2: 4 - 2*x3}\n"
          ]
        }
      ],
      "source": [
        "#Usando Sympy\n",
        "from sympy import Eq, symbols, solve\n",
        "\n",
        "x1, x2, x3 = symbols('x1 x2 x3', real=True)\n",
        "eq1 = Eq(2*x1 + 4*x2 + 6*x3, 18)\n",
        "eq2 = Eq(4*x1 + 5*x2 + 6*x3, 24)\n",
        "eq3 = Eq(2*x1 + 7*x2 + 12*x3, 30)\n",
        "sol = solve([eq1, eq2, eq3], [x1, x2, x3])\n",
        "\n",
        "print(sol)\n"
      ]
    },
    {
      "cell_type": "markdown",
      "metadata": {},
      "source": [
        "3. Considere el sistema: \n",
        "\n",
        "$$ \\begin{matrix}\n",
        "& & 2x_2 &+& 3_3 &= 4\\\\ \n",
        "2x_1 &-& 6x_2 &+& 7x_3 &=15\\\\\n",
        "x_1 &-& 2x_2 &+&5x_3 &= 10\n",
        "\\end{matrix}\n",
        "$$\n",
        "\n",
        "\n",
        "Lo escribimos en su forma de matriz aumentada: \n",
        "\n",
        "$$ \n",
        "\n",
        "\\begin{pmatrix}\n",
        "0 & 2 & 3&|4\\\\\n",
        "2 & -6 & 7 &|15\\\\\n",
        "1 & -2 & 5 &|10\n",
        "\\end{pmatrix}\n",
        "\n",
        "$$\n",
        "\n",
        "Dado que al multiplicar por 0 todo número se hace cero, se empieza por intercambiar la primera fila.\n",
        "\n",
        "\n",
        "\n",
        "$\n",
        "\\xrightarrow{R_1 \\leftrightarrow R_3}\n",
        "\\begin{pmatrix}\n",
        "1 & -2 & 5 &|10\\\\\n",
        "2 & -6 & 7 &|15\\\\\n",
        "0 & 2 & 3&|4\n",
        "\\end{pmatrix}\n",
        "\\xrightarrow{R_2 \\rightarrow R_2 - 2R_1}\n",
        "\\begin{pmatrix}\n",
        "1 & -2 & 5 &|10\\\\\n",
        "0 & -2 & -3 &|-5\\\\\n",
        "0 & 2 & 3&|4\n",
        "\\end{pmatrix}\n",
        "\\xrightarrow[R_1 \\rightarrow R_1 -R_2]{R_3 \\rightarrow R_3 + R_2}\n",
        "\\begin{pmatrix}\n",
        "1 & 0 & 2 &|5\\\\\n",
        "0 & -2 & -3 &|-5\\\\\n",
        "0 & 0 & 0&|-1\n",
        "\\end{pmatrix}\\\\\n",
        "\\xrightarrow{R_2 \\rightarrow -\\frac{1}{2}R_2}\n",
        "\\begin{pmatrix}\n",
        "1 & 0 & 2 &|5\\\\\n",
        "0 & 1 & -\\frac{3}{2} &|-\\frac{5}{2}\\\\\n",
        "0 & 0 & 0&|-1\n",
        "\\end{pmatrix}\n",
        "$\n",
        "\n",
        "De la última ecuación se denota que $0x_1 + 0x_2 + 0x_3 =-1$ lo cual no es posible de realizar, por lo que dicho sistema es incosistente. \n",
        "\n",
        "\n"
      ]
    },
    {
      "cell_type": "markdown",
      "metadata": {},
      "source": [
        "\n",
        "### Método Gauss-jordan"
      ]
    },
    {
      "cell_type": "markdown",
      "metadata": {},
      "source": [
        "Ahora es posible denotar la eliminación de Gauss-Jordan:\n",
        "\n",
        "\n",
        "\n",
        "Sea la matriz aumentada de un sistema de ecuaciones:\n",
        "\n",
        "\n",
        "$$ \n",
        "\\begin{pmatrix}\n",
        "a_{11} &  \\cdots & a_{1n}& | b_{1}\\\\\n",
        "\\vdots & \\ddots & \\vdots & |\\vdots \\\\\n",
        "a_{n1} & \\cdots & a_{nn} & | b{n}\n",
        "\\end{pmatrix}\n",
        "$$\n",
        "\n",
        "\n",
        "El metodo de gaus jordan busca que, mediante el uso de operaciones elementales entre renglones de una matriz esta sea de la forma \n",
        "$$\n",
        "\\begin{pmatrix}\n",
        "1 &  \\cdots & 0& | c_{1}\\\\\n",
        "\\vdots & \\ddots & \\vdots & |\\vdots \\\\\n",
        "0 & \\cdots & 1 & | c{n}\n",
        "\\end{pmatrix}\n",
        "$$\n",
        "\n",
        "donde $c_{i} \\in \\mathbb{R}$. A esta forma se le llama forma escalonada reducida de una matriz. \n",
        "\n",
        "\n",
        "Otra metodología de solución similar es la eliminiación gaussiana."
      ]
    },
    {
      "cell_type": "markdown",
      "metadata": {},
      "source": [
        "### Eliminación Gaussiana"
      ]
    },
    {
      "cell_type": "markdown",
      "metadata": {},
      "source": [
        "Dada la matriz ampliada: \n",
        "\n",
        "$\n",
        "\\begin{pmatrix}\n",
        "2 & 4 & 6 & |18\\\\\n",
        "4 & 5 & 6 &|24\\\\\n",
        "3 & 1 & -2 &|4\n",
        "\\end{pmatrix}\n",
        "\\xrightarrow{R_1 \\rightarrow \\frac{1}{2} R_1}\n",
        "\\begin{pmatrix}\n",
        "1 & 2 & 3 & |9\\\\\n",
        "4 & 5 & 6 &|24\\\\\n",
        "3 & 1 & -2 &|4\n",
        "\\end{pmatrix}\n",
        "\\xrightarrow[R_2 \\rightarrow R_2 - 4R_1]{R_3 \\rightarrow R_3 - 3R_1}\n",
        "\\begin{pmatrix}\n",
        "1 & 2 & 3 & |9\\\\\n",
        "0 &-3 & -6 &|-12\\\\\n",
        "0 & -5 & -11 &|-23\n",
        "\\end{pmatrix}\n",
        "\\xrightarrow{R_2 \\rightarrow -\\frac{1}{3} R_2}\n",
        "\\begin{pmatrix}\n",
        "1 & 2 & 3 & |9\\\\\n",
        "0 & 1 & 2 &|4\\\\\n",
        "0 & -5 & -11 &|-23\n",
        "\\end{pmatrix}\n",
        "\\xrightarrow{R_3 \\rightarrow R_3 +5 R_2}\n",
        "\\begin{pmatrix}\n",
        "1 & 2 & 3 & |9\\\\\n",
        "0 & 1 & 2 &|4\\\\\n",
        "0 & 0 & -1 &|-3\n",
        "\\end{pmatrix}\n",
        "\\xrightarrow{R_3 \\rightarrow - R_3}\n",
        "\\begin{pmatrix}\n",
        "1 & 2 & 3 & |9\\\\\n",
        "0 & 1 & 2 &|4\\\\\n",
        "0 & 0 & 1 &|3\n",
        "\\end{pmatrix}\n",
        "$\n",
        "\n",
        "Ahora se tiene el sistema: \n",
        "$$\n",
        "\\begin{matrix}\n",
        "x_1 &+& 2x_2 &+& 3x_3 &=9\\\\\n",
        " & & x_2 &+& 2x_3 &=4\\\\\n",
        " & & & & x_3 &= 3\n",
        "\\end{matrix}\n",
        "$$\n",
        "\n",
        "basta con reemplaza $x_3$ en la segunda ecuación para obtener $X_2$\n",
        "\n",
        "$x_2 +2(3) = 4 \\Rightarrow x_2 = -2$\n",
        "\n",
        "Luego $x_3$ y el valor hallado de $X_2$ en la primera ecuacion\n",
        "\n",
        "$x_1 + 2(-2) +3(3)=9 \\Rightarrow x_1 = 4$\n",
        "\n",
        "por lo que la solucion es la tupla $(4,-2,3)$\n",
        "\n",
        "El método de eliminación gaussiana tiene sentido su uso desde una perspectiva computacional pues, aunque no entrega directamente la solución del sistema de ecuaciones como pasa en el métodod e Gauss-Jordan, es computacionalmente más óptimo, pues mientras que el método de Gauss-Jordan para un sistema de $n\\times n$ ecuaciones requiere $\\frac{n^3}{2}$ pasos mientras que, para el método de eliminación Gaussiana solo se reqieren $\\frac{n^3}{3}$ pasos.\n",
        "Dado que el objetivo de este curso es computacional se hará énfasis en el uso de la eliminación gaussiana y sus álgoritmo. "
      ]
    },
    {
      "cell_type": "markdown",
      "metadata": {},
      "source": [
        "El ejemplo siguiente tiene la finalidad de mostrar cómo realizar operaciones elementales en filas de una matriz para el proceso de eliminación gaussiana para resolver sistemas de ecuaciones. \n",
        "Posteriormente se extenderá un modulo sobre cómo realizar este proceso de una forma más optima y también cómo hacerlo mediante el paquete de sympy.\n",
        "\n",
        "1. Suponga que se tiene la siguiente matriz\n",
        "\n",
        "$\\begin{matrix}\n",
        " 9x_1 &+& 9x_2 &+& 7x3 &= 6\\\\\n",
        " 27x_1 & &  &-& 3x3 &= -10\\\\\n",
        " 9x_1 &+& 6x_2 &-& 8x_3 &= 45\n",
        " \\end{matrix}$"
      ]
    },
    {
      "cell_type": "code",
      "execution_count": 101,
      "metadata": {},
      "outputs": [
        {
          "name": "stdout",
          "output_type": "stream",
          "text": [
            "⎡9   9  7    6 ⎤\n",
            "⎢              ⎥\n",
            "⎢27  0  -3  -10⎥\n",
            "⎢              ⎥\n",
            "⎣9   6  -8  45 ⎦\n",
            "\n",
            "[9  9  7  6]\n"
          ]
        }
      ],
      "source": [
        "# Escribimos la matriz ampliada en sympy. \n",
        "#Para ello se entregará una lista donde cada elemento es una lista con los números por fila de la matrix:\n",
        "\n",
        "from sympy import Matrix,pprint\n",
        "#la matriz ampliada\n",
        "A= Matrix([[9,9,7,6],[27,0,-3,-10],[9,6,-8,45]])\n",
        "\n",
        "#Usando el la propiedad .row(i) de una matriz de sympy podemos aplicar operaciones sobre renglones.\n",
        "#Estos se enumeran desde 0 hasta n-1  es decir el priemr renglon es el renglon 0\n",
        "#Se utilizará pprint que permite imprimir las matrices de forma más comoda.\n",
        "\n",
        "pprint(A)\n",
        "#y si quieremos mostrar la priemra fila de A:\n",
        "print()\n",
        "pprint(A.row(0))"
      ]
    },
    {
      "cell_type": "code",
      "execution_count": 102,
      "metadata": {},
      "outputs": [
        {
          "name": "stdout",
          "output_type": "stream",
          "text": [
            "\n",
            " R1 -> 1/9 R1\n",
            " \n",
            "⎡1   1  7/9  2/3⎤\n",
            "⎢               ⎥\n",
            "⎢27  0  -3   -10⎥\n",
            "⎢               ⎥\n",
            "⎣9   6  -8   45 ⎦\n",
            "\n",
            " R2 -> R2 -27R1 \n",
            "\n",
            "⎡1   1   7/9  2/3⎤\n",
            "⎢                ⎥\n",
            "⎢0  -27  -24  -28⎥\n",
            "⎢                ⎥\n",
            "⎣9   6   -8   45 ⎦\n",
            "\n",
            " R3 -> R3 -9R1 \n",
            "\n",
            "⎡1   1   7/9  2/3⎤\n",
            "⎢                ⎥\n",
            "⎢0  -27  -24  -28⎥\n",
            "⎢                ⎥\n",
            "⎣0  -3   -15  39 ⎦\n"
          ]
        }
      ],
      "source": [
        "# Se replicarán las operaciones realizadas \n",
        "from sympy import Matrix,pprint\n",
        "#la matriz ampliada\n",
        "A= Matrix([[9,9,7,6],[27,0,-3,-10],[9,6,-8,45]])\n",
        "print('\\n R1 -> 1/9 R1\\n ')\n",
        "#Dado que sympy no permite realizar operaciones directamente sobre las filas, se puede tomar una fila operarla e insertarla\n",
        "A= A.row_insert(0,A.row(0)*1/9)\n",
        "#Y como se agrega una fila se elimina la fila siguiente para mantener la matrix equivalente.\n",
        "A.row_del(1)\n",
        "pprint(A)\n",
        "print('\\n R2 -> R2 -27R1 \\n')\n",
        "A= A.row_insert(1,A.row(1)- 27*A.row(0))\n",
        "A.row_del(2)\n",
        "pprint(A)\n",
        "print('\\n R3 -> R3 -9R1 \\n')\n",
        "A= A.row_insert(2,A.row(2)- 9*A.row(0))\n",
        "A.row_del(3)\n",
        "pprint(A)\n",
        "\n"
      ]
    },
    {
      "cell_type": "code",
      "execution_count": 103,
      "metadata": {},
      "outputs": [
        {
          "name": "stdout",
          "output_type": "stream",
          "text": [
            "\n",
            " R2 -> -1/27R2 \n",
            "\n",
            "⎡1  1   7/9  2/3⎤\n",
            "⎢               ⎥\n",
            "⎢            28 ⎥\n",
            "⎢0  1   8/9  ── ⎥\n",
            "⎢            27 ⎥\n",
            "⎢               ⎥\n",
            "⎣0  -3  -15  39 ⎦\n",
            "\n",
            " R3 -> R3 +3R2 \n",
            "\n",
            "⎡1  1   7/9    2/3 ⎤\n",
            "⎢                  ⎥\n",
            "⎢              28  ⎥\n",
            "⎢0  1   8/9    ──  ⎥\n",
            "⎢              27  ⎥\n",
            "⎢                  ⎥\n",
            "⎣0  0  -37/3  379/9⎦\n"
          ]
        }
      ],
      "source": [
        "print('\\n R2 -> -1/27R2 \\n')\n",
        "A= A.row_insert(1,A.row(1)*-1/27)\n",
        "A.row_del(2)\n",
        "pprint(A)\n",
        "print('\\n R3 -> R3 +3R2 \\n')\n",
        "A= A.row_insert(2,A.row(2)+ 3*A.row(1))\n",
        "A.row_del(3)\n",
        "pprint(A)"
      ]
    },
    {
      "cell_type": "code",
      "execution_count": 104,
      "metadata": {},
      "outputs": [
        {
          "name": "stdout",
          "output_type": "stream",
          "text": [
            "\n",
            " R3 -> -3/37R3 \n",
            "\n",
            "⎡1  1  7/9   2/3 ⎤\n",
            "⎢                ⎥\n",
            "⎢            28  ⎥\n",
            "⎢0  1  8/9   ──  ⎥\n",
            "⎢            27  ⎥\n",
            "⎢                ⎥\n",
            "⎢           -379 ⎥\n",
            "⎢0  0   1   ─────⎥\n",
            "⎣            111 ⎦\n",
            "\n",
            " R2 -> R2 -8/9R3 \n",
            "\n",
            "⎡1  1  7/9   2/3 ⎤\n",
            "⎢                ⎥\n",
            "⎢            452 ⎥\n",
            "⎢0  1   0    ─── ⎥\n",
            "⎢            111 ⎥\n",
            "⎢                ⎥\n",
            "⎢           -379 ⎥\n",
            "⎢0  0   1   ─────⎥\n",
            "⎣            111 ⎦\n"
          ]
        }
      ],
      "source": [
        "print('\\n R3 -> -3/37R3 \\n')\n",
        "A= A.row_insert(2,A.row(2)*-3/37)\n",
        "A.row_del(3)\n",
        "pprint(A)\n",
        "print('\\n R2 -> R2 -8/9R3 \\n')\n",
        "A= A.row_insert(1,A.row(1)-A.row(2)*8/9)\n",
        "A.row_del(2)\n",
        "pprint(A)\n",
        "\n"
      ]
    },
    {
      "cell_type": "code",
      "execution_count": 105,
      "metadata": {},
      "outputs": [
        {
          "name": "stdout",
          "output_type": "stream",
          "text": [
            "\n",
            " R1 ->R1 -7/9R3 \n",
            "\n",
            "⎡         3319 ⎤\n",
            "⎢1  1  0  ──── ⎥\n",
            "⎢         999  ⎥\n",
            "⎢              ⎥\n",
            "⎢          452 ⎥\n",
            "⎢0  1  0   ─── ⎥\n",
            "⎢          111 ⎥\n",
            "⎢              ⎥\n",
            "⎢         -379 ⎥\n",
            "⎢0  0  1  ─────⎥\n",
            "⎣          111 ⎦\n",
            "\n",
            " R1 ->R1 -R2\n",
            "\n",
            "⎡         -749 ⎤\n",
            "⎢1  0  0  ─────⎥\n",
            "⎢          999 ⎥\n",
            "⎢              ⎥\n",
            "⎢          452 ⎥\n",
            "⎢0  1  0   ─── ⎥\n",
            "⎢          111 ⎥\n",
            "⎢              ⎥\n",
            "⎢         -379 ⎥\n",
            "⎢0  0  1  ─────⎥\n",
            "⎣          111 ⎦\n"
          ]
        }
      ],
      "source": [
        "print('\\n R1 ->R1 -7/9R3 \\n')\n",
        "A= A.row_insert(0,A.row(0) -A.row(2)*7/9)\n",
        "A.row_del(1)\n",
        "pprint(A)\n",
        "print('\\n R1 ->R1 -R2\\n')\n",
        "A= A.row_insert(0,A.row(0) -A.row(1))\n",
        "A.row_del(1)\n",
        "pprint(A)"
      ]
    },
    {
      "cell_type": "markdown",
      "metadata": {},
      "source": [
        "De aquí se obtiene la solución al sistema, el cuál es el punto $(\\frac{-749}{999},\\frac{452}{111},\\frac{-379}{111})$"
      ]
    },
    {
      "cell_type": "code",
      "execution_count": 106,
      "metadata": {},
      "outputs": [
        {
          "data": {
            "text/plain": [
              "{x: -749/999, y: 452/111, z: -379/111}"
            ]
          },
          "execution_count": 106,
          "metadata": {},
          "output_type": "execute_result"
        }
      ],
      "source": [
        "#Podemos comprobarlo con la solución del sistema con sympy creando las ecuaciones:\n",
        "\n",
        "from sympy import *\n",
        "x, y, z = symbols('x y z', real=True)\n",
        "eq1 = Eq(9*x + 9*y + 7*z, 6)\n",
        "eq2 = Eq(27*x -3*z, -10)\n",
        "eq3 = Eq(9*x + 6*y - 8*z, 45)\n",
        "solve([eq1, eq2, eq3], [x, y, z])\n"
      ]
    },
    {
      "cell_type": "code",
      "execution_count": 107,
      "metadata": {},
      "outputs": [
        {
          "data": {
            "text/latex": [
              "$\\displaystyle \\left[\\begin{matrix}- \\frac{749}{999}\\\\\\frac{452}{111}\\\\- \\frac{379}{111}\\end{matrix}\\right]$"
            ],
            "text/plain": [
              "Matrix([\n",
              "[-749/999],\n",
              "[ 452/111],\n",
              "[-379/111]])"
            ]
          },
          "execution_count": 107,
          "metadata": {},
          "output_type": "execute_result"
        }
      ],
      "source": [
        "#Para estecaso se utiliza la notación de sistema de ecuaciones expresado como producto de matrices\n",
        "#Ax=b, donde x es un vector de incognitas y A la matrix asociada.\n",
        "#Esta notación se explicará y utilizará en secciones posteriores. \n",
        "A= Matrix([[9,9,7],[27,0,-3],[9,6,-8]])\n",
        "b= Matrix([6,-10,45])\n",
        "\n",
        "A.solve(b)\n"
      ]
    },
    {
      "cell_type": "markdown",
      "metadata": {},
      "source": [
        "Note que la finalidad de la ejemplificación a través de operacionse de renglones en matrices con sympy tiene laf inalida de explicar el funcionamiento de los procesos que realiza la función de solve para solucionar sistemas de ecuacionse y que, además, esta solución pueda ser impementada en otros sistemas."
      ]
    },
    {
      "cell_type": "markdown",
      "metadata": {},
      "source": [
        "##### Ejercicios"
      ]
    },
    {
      "cell_type": "markdown",
      "metadata": {},
      "source": [
        "1. utilize sympy para halllar las soluciones de las siguiente matrices ampliadas:\n",
        "\n",
        "a. $\\begin{pmatrix}\n",
        "    6 & 4 & 7 & 5 & 15 &|9\\\\\n",
        "    8 & 5 & 9 & 10 & 10 &|8\\\\\n",
        "    4 & 5 & 7 & 7 & -1 &|7\\\\\n",
        "    8 & 3 & 7 & 6 & 22 &|8\\\\\n",
        "    3 & 2 & \\frac{7}{2} & 9 & 12 &|-2\n",
        "\\end{pmatrix}$ \n",
        "$\\hspace{1cm}$\n",
        "b. $\\begin{pmatrix}\n",
        "    1 & 2 & -2 & 0 &|1\\\\\n",
        "    2 & 3 & -1 & 0 &|-4\\\\\n",
        "    -3 & -6 & 12 & 2 &|-12\\\\\n",
        "    1 & 2 & -2 & -4 &|-5\n",
        "\\end{pmatrix}$ \n",
        "$\\hspace{1cm}$\n",
        "c. $\\begin{pmatrix}\n",
        "1 &  2 & 3 & 4  &| 3 \\\\\n",
        "5 & 6 & 7 & 8  &| 0 \\\\\n",
        "9 & 10 & 11 & 12 &|5 \\\\\n",
        "13 & 14 & 15 & 16 &1 \\\\\n",
        "\\end{pmatrix}$\n",
        "\n",
        "d. \n",
        "$\n",
        "\\begin{pmatrix}\n",
        "3 & 7 & 2 & 9 &| 4 \\\\\n",
        "5 & 1 & 8 & 6 &| 0 \\\\\n",
        "2 & 3 & 7 & 5 &| 9 \\\\\n",
        "8 & 4 & 6 & 1 &| 3 \\\\\n",
        "\\end{pmatrix}\n",
        "$\n",
        "$\\hspace{1cm}$\n",
        "e. $\n",
        "\\begin{pmatrix}\n",
        "6 & 1 & 8 & 3 & 5 &|13\\\\\n",
        "9 & 2 & 7 & 4 & 0 &|1\\\\\n",
        "1 & 6 & 3 & 8 & 2 &|67\\\\\n",
        "4 & 7 & 9 & 5 & 1 &|0\\\\\n",
        "2 & 8 & 4 & 6 & 7 &|9\n",
        "\\end{pmatrix}$\n",
        "$\\hspace{1cm}$\n",
        "f. $\n",
        "\\begin{pmatrix}\n",
        "5 & 2 & 9 &| 8\\\\\n",
        "8 & 6 & 1 &| 0\\\\\n",
        "7 & 5 & 2 &| 3\\\\\n",
        "\\end{pmatrix}$\n",
        "\n"
      ]
    },
    {
      "cell_type": "code",
      "execution_count": 1,
      "metadata": {},
      "outputs": [],
      "source": [
        "#Inserte el codigo aqui"
      ]
    },
    {
      "cell_type": "markdown",
      "metadata": {},
      "source": [
        "2. Tome la matrix del punto f y haga su reduccion por Gauss-Jordan"
      ]
    },
    {
      "cell_type": "code",
      "execution_count": 2,
      "metadata": {},
      "outputs": [],
      "source": [
        "#Inserte el codigo aqui"
      ]
    },
    {
      "cell_type": "markdown",
      "metadata": {},
      "source": [
        "### Sistemas homogéneos de ecuaciones"
      ]
    },
    {
      "cell_type": "markdown",
      "metadata": {},
      "source": [
        "En general un sistema de $m \\times n$ ecuaciones lineales se llama homogéneo si y solo si todas las constantes $b_1,b_2 ...,b_n$ son $0$, es decir: \n",
        "$$\n",
        "\\begin{matrix}\n",
        "a_{11}x_1 &+& a_{12}x_2 &+& \\cdots &+& a_{1n}x_n &=0\\\\\n",
        "a_{21}x_1 &+& a_{22}x_2 &+& \\cdots &+& a_{2n}x_n &=0\\\\\n",
        "\\vdots & & \\vdots & & & & \\vdots & \\vdots \\\\\n",
        "a_{n1}x_1 &+& a_{n2}x_2 &+& \\cdots &+& a_{nn}x_n &=0\\\\\n",
        "\\end{matrix}\n",
        "$$\n",
        "\n",
        "Dichos sistemas surgen en diferentes problemas de modelado, ahora dado que dichos sistemas poseen siempre la solución $(0,0,...,0)$, también llamada solución trivial, estos nunca serán inconsistentes, por lo que el interés en estos sistemas tiene más relación a las soluciones no nulas, es decir distintas de cero, también llamadas soluciones no triviales. \n",
        "Para la representación matricial de estos sistemas se utilizará la matriz de coeficientes reducida, puesto que el uso de la matriz ampliada no aporta información relevante al desarrollo o búsqueda de soluciones."
      ]
    },
    {
      "cell_type": "markdown",
      "metadata": {},
      "source": [
        "#### Ejemplos \n",
        "1. Dado el sistema de ecuaciones: \n",
        "$$\n",
        "\\begin{matrix}\n",
        "2x_1 &+& 4x_2 &+& 6x_3 & = 0\\\\\n",
        "4x_1 &+& 5x_2 &+& 6x_3 & =0\\\\\n",
        "3x_1 &+& x_2 &-& 2x_3 &=0\n",
        "\\end{matrix}\n",
        "$$\n",
        "\n",
        "Tomamos la matriz de coeficientes y operamos: \n",
        "$\n",
        "\\begin{pmatrix}\n",
        "1 & 2& 3\\\\\n",
        "4 & 5 &6\\\\\n",
        "3 & 1&-2\n",
        "\\end{pmatrix}\n",
        "\\xrightarrow[R_2 \\rightarrow R_2 -4R_1]{R_3 \\rightarrow R_3 - 3R_1}\n",
        "\\begin{pmatrix}\n",
        "1 & 2& 3\\\\\n",
        "0 & -3 &-3\\\\\n",
        "0 & -5&-11\n",
        "\\end{pmatrix}\n",
        "\\xrightarrow{R_2 \\rightarrow -\\frac{1}{3}R_2}\n",
        "\\begin{pmatrix}\n",
        "1 & 2& 3\\\\\n",
        "0 & 1 &1\\\\\n",
        "0 & -5&-11\n",
        "\\end{pmatrix}\n",
        "\\xrightarrow[R_1 \\rightarrow R_1 -2R_2]{R_3 \\rightarrow R_3 +5R_2}\n",
        "\\begin{pmatrix}\n",
        "1 & 0 & 1\\\\\n",
        "0 &1 & 1\\\\\n",
        "0 & 0 &-6\n",
        "\\end{pmatrix}\n",
        "\\xrightarrow{R_3 \\rightarrow -\\frac{1}{6}R_3}\n",
        "\\begin{pmatrix}\n",
        "1 & 0 & 1\\\\\n",
        "0 &1 & 1\\\\\n",
        "0 & 0 &1\n",
        "\\end{pmatrix}\n",
        "\\xrightarrow[R_1 \\rightarrow R_1 -R_3]{R_2 \\rightarrow R_2 -R_3}\n",
        "\\begin{pmatrix}\n",
        "1&0&0\\\\\n",
        "0&1&0\\\\\n",
        "0&0&1\n",
        "\\end{pmatrix}\n",
        "$\n",
        "\n",
        "Por lo que la unica solución de este sistema es la anteriormente mencionada solución trivial $(0,0,0)$\n",
        "\n",
        "2. Dado el sistema homogeneo:\n",
        "\n",
        "$$\n",
        "\\begin{matrix}\n",
        "x_1 &+& 2x_2 &-& x_3 &= 0\\\\\n",
        "3x_1 &-& 3x_2 &+& 2x_3 &=0\\\\\n",
        "-x_1 &-&11x_2 &+& 6x_3 &=0\n",
        "\\end{matrix}\n",
        "$$\n",
        "\n",
        "Tomamos la matriz de coeficientes:\n",
        "\n",
        "$\n",
        "\\begin{pmatrix}\n",
        "1 & 2 & -1\\\\\n",
        "3 & -3 &2 \\\\\n",
        "-1 & -11 & 6\n",
        "\\end{pmatrix}\n",
        "\\xrightarrow[R_2 \\rightarrow R_2 -3R_1]{R_3 \\rightarrow R_3 -R_1}\n",
        "\\begin{pmatrix}\n",
        "1 & 2 & -1\\\\\n",
        "0 & -9 & 5\\\\\n",
        "0 & -9& 5\n",
        "\\end{pmatrix}\n",
        "\\xrightarrow{R_2 \\rightarrow -\\frac{1}{9}R_2}\n",
        "\\begin{pmatrix}\n",
        "1 & 2 & -1\\\\\n",
        "0 & 1 & \\frac{-5}{9}\\\\\n",
        "0 & -9& 5\n",
        "\\end{pmatrix}\n",
        "\\xrightarrow[R_1 \\rightarrow R_1 -2R_2]{R_3 \\rightarrow R_3 -9R_2}\n",
        "\\begin{pmatrix}\n",
        "1 & 0 & \\frac{-1}{9}\\\\\n",
        "0 & 1 & \\frac{-5}{9}\\\\\n",
        "0 &0 & 0\n",
        "\\end{pmatrix}\n",
        "$\n",
        "\n",
        "Dado que la última fila es 0 se obtiene un sistema con infinitas soluciones de la forma: $S\\{(\\frac{-x_3}{9}, \\frac{5x_3}{9},x_3)| x_3 \\in R\\}$."
      ]
    },
    {
      "cell_type": "code",
      "execution_count": 13,
      "metadata": {},
      "outputs": [
        {
          "data": {
            "text/plain": [
              "{x_1: -x_3/9, x_2: 5*x_3/9}"
            ]
          },
          "execution_count": 13,
          "metadata": {},
          "output_type": "execute_result"
        }
      ],
      "source": [
        "#Resolveremos el sistema anterior utilizando sympy\n",
        "from sympy import Eq, symbols, solve\n",
        "x1,x2,x3 = symbols('x_1 x_2 x_3', real=True)\n",
        "eq1=Eq(x1 + 2*x2 -x3,0)\n",
        "eq2=Eq(3*x1 -3*x2 +2*x3,0)\n",
        "eq3=Eq(-x1 -11*x2 +6*x3,0)\n",
        "\n",
        "solucion =solve((eq1,eq2,eq3),(x1,x2,x3))\n",
        "solucion"
      ]
    },
    {
      "cell_type": "markdown",
      "metadata": {},
      "source": [
        "En las soluciones de sistemas homogeneos el foco se encuentra en los que tienen nfinitas soluciones. \n",
        "Como se sabe, los sistemas de ecuaciones tienen una relacion geometrica, por lo que es relevante resaltar como se extienden los pares de puntos de el conjunto solucioon encontrado, esto se vera al graficar las ecuaciones lineales (rectas) que se obtienena partir del conjunto solucion.\n",
        "\n",
        "\n"
      ]
    },
    {
      "cell_type": "code",
      "execution_count": 15,
      "metadata": {},
      "outputs": [
        {
          "data": {
            "image/png": "[encoded data removed]",
            "text/plain": [
              "<Figure size 640x480 with 1 Axes>"
            ]
          },
          "metadata": {},
          "output_type": "display_data"
        }
      ],
      "source": [
        "import matplotlib.pyplot as plt #Usaremos el paquete matplotlit para graficar\n",
        "import numpy as np #sera utilizado para definir los puntos a evaluar en las funciones y crear las graficas\n",
        "\n",
        "# Define el rango de valores de x\n",
        "x_values = np.linspace(-10, 10, 100)\n",
        "\n",
        "# Define la primera función lineal y = mx + b\n",
        "m1 = -1/9  # pendiente obtenida de la el resultado entregado por solve\n",
        "#no agregamos el valor de b, pues en ambos casos en 0\n",
        "y1_values = m1 * x_values \n",
        "\n",
        "# Define la segunda función lineal y = mx + b\n",
        "m2 = 5/9  # pendiente de la segunda línea\n",
        "y2_values = m2 * x_values \n",
        "\n",
        "# Grafica la primera función lineal\n",
        "plt.plot(x_values, y1_values, label=f'y ={solucion[x1]}')\n",
        "\n",
        "# Grafica la segunda función lineal\n",
        "plt.plot(x_values, y2_values, label=f'y = {solucion[x2]}')\n",
        "\n",
        "# Agrega etiquetas y una leyenda\n",
        "plt.xlabel('x')\n",
        "plt.ylabel('y')\n",
        "plt.title('Gráfica de dos funciones lineales')\n",
        "plt.legend()\n",
        "\n",
        "# Muestra el gráfico\n",
        "plt.grid(True)\n",
        "plt.axhline(y=0, color='k')\n",
        "plt.axvline(x=0, color='k')\n",
        "plt.show()\n"
      ]
    },
    {
      "cell_type": "markdown",
      "metadata": {},
      "source": [
        "##### Ejercicios"
      ]
    },
    {
      "cell_type": "markdown",
      "metadata": {},
      "source": [
        "Dadas las siguientes matrices reducidas, solucione los sistemas hmogenos y grafique las funciones de su conjunto solucion.\n",
        "\n",
        "\n",
        "1.\n",
        "$\n",
        "\\begin{pmatrix} \n",
        "    2 & - 1\\\\\n",
        "    3 & 4 \n",
        "\\end{pmatrix}\n",
        "\\hspace{1cm}$\n",
        "2. \n",
        "$\\begin{pmatrix}\n",
        "    4 & -1 \\\\\n",
        "    7 & 3 \\\\\n",
        "    -8 & 6\n",
        "\\end{pmatrix}\n",
        "\\hspace{1cm}$\n",
        "3.\n",
        "$\\begin{pmatrix}\n",
        "    1 & -2 & 1 & 1\\\\\n",
        "    3 & 0 & 2 & -2\\\\\n",
        "    0 & 4 & -1 & -1\\\\\n",
        "    5 & 0 & 3 & -1\n",
        "\\end{pmatrix}\n",
        "\\hspace{1cm}$\n"
      ]
    },
    {
      "cell_type": "markdown",
      "metadata": {},
      "source": [
        "## Matrices"
      ]
    },
    {
      "cell_type": "markdown",
      "metadata": {},
      "source": [
        "#### licencia"
      ]
    },
    {
      "cell_type": "markdown",
      "metadata": {},
      "source": [
        "\n",
        "\n",
        "Algunas de las definiciones y estructuras han sido extraídas del repositorio  juguernaut:https://github.com/jugernaut/Prometeo/tree/desarrollo/02_AlgebraLineal/02_Matrices\n",
        "\n",
        "Bajo el uso de licencia creative commons.\n",
        "Trabajo realizado con el apoyo del Programa UNAM-DGAPA-PAPIME PE101019\n",
        "\n",
        "*   Autor: \n",
        "    - Ocampo Nava Maria Fernanda\n",
        "*   Rev: Mar Dic 01 22:03:14 CDT 2020\n",
        "\n",
        "Este sitio puede ser usado libremente, tanto por profesores como por estudiantes, que deseen complementar sus cursos y conocimientos en los temas antes mencionados. Los materiales están bajo una Licencia Creative Commons Atribución-NoComercial-CompartirIgual 4.0 Internacional\n",
        "\n",
        "<a rel=\"license\" href=\"http://creativecommons.org/licenses/by-nc-sa/4.0/\"><img alt=\"Licencia Creative Commons\" style=\"border-width:0\" src=\"https://i.creativecommons.org/l/by-nc-sa/4.0/88x31.png\" /></a><br />Esta obra está bajo una <a rel=\"license\" href=\"http://creativecommons.org/licenses/by-nc-sa/4.0/\">Licencia Creative Commons Atribución-NoComercial-CompartirIgual 4.0 Internacional</a>."
      ]
    },
    {
      "cell_type": "markdown",
      "metadata": {},
      "source": [
        "### **Definición de matriz**"
      ]
    },
    {
      "cell_type": "markdown",
      "metadata": {},
      "source": [
        "\n",
        "\n",
        "Una matriz  $A_{n\\times m}$, de tamaño $n \\times m$ es un arreglo rectangular de $n \\times  m$ números reales (o complejos) ordenados en $n$ filas (renglones) horizontales y $m$ columnas (verticales).\n",
        "\n",
        "Otra manera de pensarla es como un conjunto ordenado en una estructura de filas y columnas, los elementos de este conjunto pueden ser objetos matemáticos de diferentes tipos, sin embargo, trabajaremos exclusivamente con matrices formadas por números reales (aunque puede ser cualquier elemento de un <a href=https://es.wikipedia.org/wiki/Espacio_vectorial>*Espacio Vectorial*</a>, para saber mas de este tema visita nuestro material de <a href=https://colab.research.google.com/github/jugernaut/Prometeo/blob/desarrollo/02_AlgebraLineal/05_Espacios_Vectoriales/05_Espacios_Vectoriales.ipynb>*Espacios Vectoriales*</a>).\n",
        "\n",
        "Cada uno de los números  que conforman la matriz se denomina elemento y se denotan por $(a_{ij})$ donde $i$ representa el número de fila y $j$ el número de la columna en que se encuentra el elemento de la matriz $A$. El número de filas y columnas de una matriz respresenta la  dimensión de una matriz, por ejemplo una matriz A de $n$ filas y $m$ columnas podemos denotarla como $A_{n\\times m}$ ,  es decir: \n",
        "\n",
        "$$ \\begin{equation} A_{n\\times m} =\n",
        "\\begin{pmatrix}\n",
        "a_{11} & a_{21} & \\cdots & a_{1m}\\\\\n",
        "a_{21} & a_{22} & \\cdots & a_{2m}\\\\\n",
        "\\vdots & \\vdots & \\ddots & \\vdots\\\\\n",
        "a_{n1} & a_{n2} & \\cdots & a_{nm}\n",
        "\\end{pmatrix}\n",
        "\\end{equation} $$\n"
      ]
    },
    {
      "cell_type": "markdown",
      "metadata": {},
      "source": [
        "###  **Tipos de matrices**"
      ]
    },
    {
      "cell_type": "markdown",
      "metadata": {},
      "source": [
        "\n",
        "Existen diversos tipos de matrices los cuáles dependen del tipo de elementos que la conforme así como también depende de la dimensión de la matriz, cabe mencionar que todas se pueden crear en jupyter con la paqueteria numpy.\n",
        "\n",
        "Algunas de las matrices que se conocen son las que se mencionan a continuación:\n",
        "\n",
        "\n"
      ]
    },
    {
      "cell_type": "markdown",
      "metadata": {},
      "source": [
        "#### ***Matrices dependiendo el tipo de elementos***\n",
        "\n",
        "* **Matriz nula o matriz cero**: es aquella cuyos elementos son todos cero.\n",
        "* **Matriz identidad**: es aquella que cumple la propiedad de ser el elemento neutro del producto de matrices, es de $n \\times n$ y tiene como elementos el 1 en la diagonal (los elementos que forman parte de la diagonal son  $a_{11}$, $a_{22}$, $a_{33}$,...,$a_{nn}$) y cero en aquellos elementos que no pertenecen a la diagonal.\n",
        "* **Matriz diagonal**:  Una matriz se denomina diagonal si todos los elementos que no se encuentran sobre la diagonal son cero.\n",
        "* **Matriz triangular superior**:  todas sus componentes abajo de la diagonal son cero y los que estan en la diagonal y por encima de esta son casi o todos distintos de cero.\n",
        "* **Matriz real**: todos sus elementos pertenecen a los números reales\n",
        "* **Matriz compleja**: todos sus elementos pertenecen a los números complejos.\n",
        "\n"
      ]
    },
    {
      "cell_type": "markdown",
      "metadata": {},
      "source": [
        "\n",
        "\n",
        "#### ***Matrices dependiendo el orden***\n",
        "* **Matriz cuadrada**: es aquella que cumple la condición de que $n=m$, en este caso se denota $A_{n}$\n",
        "* **Matriz rectangular**: aquella que cumple la condición de que $n \\neq m$ que fue el caso inical.\n",
        "\n",
        "La igualdad de matrices se presenta cuando para dos matrices $A,B$ se cumple siempre que $a_{ij}$=$b_{ij}$ para todo $(i,j)$."
      ]
    },
    {
      "cell_type": "markdown",
      "metadata": {},
      "source": [
        "### **Operaciones con matrices**\n"
      ]
    },
    {
      "cell_type": "markdown",
      "metadata": {},
      "source": [
        "#### **Suma  y Resta de matrices** "
      ]
    },
    {
      "cell_type": "markdown",
      "metadata": {},
      "source": [
        "\n",
        "\n",
        "Para llevar a cabo estas operaciones es importante verificar que las matrices con las que se trabajará tengan el mismo orden, también es importante saber que se obtendrá como resultado una matriz con exactamente ese orden al realizar las operaciones.\n",
        "\n",
        "La suma o resta se lleva a cabo elemento por elemento, por ejemplo, sean A y B dos matrices que deseamos sumar, entonces se obtendrá una nueva matriz C cuyos elementos serán: $c_{ij}$=$a_{ij}+b_{ij}$, para hacer la resta solo le aplica la operación correspondiente.\n",
        "\n",
        "De manera gráfica, podemos verlo de la siguiente manera para la suma:\n",
        "\n",
        "$$ \\begin{equation} A_{n\\times m} = \n",
        "\\begin{pmatrix}\n",
        "a_{11} & a_{12} & \\cdots & a_{1m}\\\\\n",
        "a_{21} & a_{22} & \\cdots & a_{2m}\\\\\n",
        "\\vdots & \\vdots & \\ddots & \\vdots\\\\\n",
        "a_{n1} & a_{n2} & \\cdots & a_{nm}\n",
        "\\end{pmatrix}\n",
        "\\end{equation} $$\n",
        "\n",
        "\n",
        "$$ \\begin{equation} B_{n\\times m} = \n",
        "\\begin{pmatrix}\n",
        "b_{11} & b_{12} & \\cdots & b_{1m}\\\\\n",
        "b_{21} & b_{22} & \\cdots & b_{2m}\\\\\n",
        "\\vdots & \\vdots & \\ddots & \\vdots\\\\\n",
        "b_{n1} & b_{n2} & \\cdots & b_{nm}\n",
        "\\end{pmatrix}\n",
        "\\end{equation}$$\n",
        "\n",
        "\n",
        "$$ \\begin{equation} C=A+B =\n",
        "\\begin{pmatrix}\n",
        "a_{11}+b_{11} & a_{12}+b_{12} & \\cdots & a_{1m}+b_{1m}\\\\\n",
        "a_{21}+b_{21} & a_{22}+b_{22} & \\cdots & a_{2m}+ b_{2m}\\\\\n",
        "\\vdots & \\vdots & \\ddots & \\vdots\\\\\n",
        "a_{n1}+b_{n1} & a_{n2}+b_{n2} & \\cdots & a_{nm}+b_{nm}\n",
        "\\end{pmatrix}\n",
        "\\end{equation}$$\n",
        "\n"
      ]
    },
    {
      "cell_type": "code",
      "execution_count": null,
      "metadata": {},
      "outputs": [],
      "source": []
    },
    {
      "cell_type": "code",
      "execution_count": 85,
      "metadata": {},
      "outputs": [
        {
          "name": "stdout",
          "output_type": "stream",
          "text": [
            "⎡19  22⎤\n",
            "⎢      ⎥\n",
            "⎣43  50⎦\n"
          ]
        }
      ],
      "source": [
        "from sympy import Matrix, pprint\n",
        "\n",
        "# Create two 4x4 matrices\n",
        "A = Matrix([[1, 2], [3, 4]])\n",
        "B = Matrix([[5, 6], [7, 8]])\n",
        "\n",
        "# Multiply the two matrices\n",
        "C = A * B\n",
        "\n",
        "pprint(C)\n"
      ]
    },
    {
      "cell_type": "markdown",
      "metadata": {},
      "source": [
        "#### **Escalar por una matriz**"
      ]
    },
    {
      "cell_type": "markdown",
      "metadata": {},
      "source": [
        "\n",
        "\n",
        "En este caso lo que se hace es multiplicar un número escalar por la matriz, es decir $\\tau$*$A_{n\\times m}$ y el resultado será una matriz del mismo orden pero con cada uno de sus elementos múltiplicado por el escalar,es decir: \n",
        "\n",
        "\n",
        "  $$\\begin{equation} \\tau*A_{n\\times m}=\n",
        "\\begin{pmatrix}\n",
        "\\tau*a_{11} & \\tau*a_{12} & \\cdots & \\tau*a_{1m}\\\\\n",
        "\\tau*a_{21} & \\tau*a_{12} & \\cdots & \\tau*a_{2m}\\\\\n",
        "\\vdots & \\vdots & \\ddots & \\vdots\\\\\n",
        "\\tau*a_{n1} & \\tau*a_{n2} & \\cdots & \\tau*a_{nm}\n",
        "\\end{pmatrix}\n",
        "\\end{equation}$$\n",
        "\n",
        "Cabe mencionar que esta operación es distributiva respecto a la suma de escalares y a la suma de matrices, además es conmutativa y asociativa respecto al producto punto de escalares.\n",
        "A continuación se muestra un ejemplo de esta operación.\n"
      ]
    },
    {
      "cell_type": "markdown",
      "metadata": {},
      "source": [
        "#### **Producto de un vector por una matriz**"
      ]
    },
    {
      "cell_type": "markdown",
      "metadata": {},
      "source": [
        "\n",
        "\n",
        "Si tenemos una matriz $A_{n\\times m}$ y queremos obtener el producto de esta matriz con un vector, lo primero que se debe verificar es que el número de columnas de la matriz coincida con el número de filas del vector, el resultado de esto nos dara una nueva matriz $C_{n\\times 1}$.\n",
        "\n",
        "Los elementos que conformarán esta nueva matriz serán el resultado de sumar los productos de los elementos de la fila i por el vector, es decir:\n",
        "\n",
        "Sea la matriz:\n",
        "\n",
        " $$ \\begin{equation}  A_{n\\times m} =\n",
        "\\begin{pmatrix}\n",
        "a_{11} & a_{12} & \\cdots & a_{1m}\\\\\n",
        "a_{21} & a_{12} & \\cdots & a_{2m}\\\\\n",
        "\\vdots & \\vdots & \\ddots & \\vdots\\\\\n",
        "a_{n1} & a_{n2} & \\cdots & a_{nm}\n",
        "\\end{pmatrix}\n",
        "\\end{equation}$$\n",
        "\n",
        "Definiremos el vector:\n",
        "\n",
        "  $$\\begin{equation}  V_{m\\times 1} =\n",
        "\\begin{pmatrix}\n",
        "v_{11} \\\\\n",
        "v_{21} \\\\\n",
        "\\vdots \\\\\n",
        "v_{m1} \n",
        "\\end{pmatrix}\n",
        "\\end{equation}$$\n",
        "\n",
        "\n",
        "Entonces el producto de estos será la nueva matriz $C_{nx1}$ cuyas entradas serán:\n",
        "\n",
        " \n",
        "$$\n",
        "\\begin{equation}\n",
        "  C_{i1} = \\sum_{k} (a_{ik}*v_{k,1})\n",
        "\\end{equation}$$"
      ]
    },
    {
      "cell_type": "markdown",
      "metadata": {},
      "source": [
        "#### **Producto de Matrices**"
      ]
    },
    {
      "cell_type": "markdown",
      "metadata": {},
      "source": [
        "\n",
        "\n",
        "Si tenemos una matriz $A_{n\\times m}$ y queremos obtener el producto de esta matriz con una $B_{m\\times l}$, lo primero que se debe verificar es que el número de columnas de la matriz $A$ coincida con el número de filas de la matriz $B$, el resultado de esto nos dara una nueva matriz $C_{n\\times l}$.\n",
        "\n",
        "Los elementos que conformarán esta nueva matriz serán el resultado de sumar los productos de los elementos de la fila $i$ por la columna $j$, es decir:\n",
        "\n",
        "$$\\begin{equation}\n",
        "  C_{ij} = \\sum_{k} (a_{ik}*b_{k,j})\n",
        "\\end{equation}$$\n",
        "\n",
        "por ejemplo si tenemos las siguientes matrices:\n",
        "\n",
        "\n",
        "$$ \\begin{equation} A_{2\\times 3}=\n",
        "\\begin{pmatrix}\n",
        "2 & 3 & 1 \\\\\n",
        "0 & -1 & -2 \n",
        "\\end{pmatrix}\n",
        "\\end{equation}$$\n",
        "\n",
        "\n",
        "$$ \\begin{equation} B_{3 \\times 2}=\n",
        "\\begin{pmatrix}\n",
        " 1 & 0 \\\\\n",
        "-1 & 2  \\\\\n",
        "-2 & 3\n",
        "\\end{pmatrix}\n",
        "\\end{equation}$$\n",
        "\n",
        "\n",
        "$$\\begin{equation} C_{2 \\times 2}=\n",
        "\\begin{pmatrix}\n",
        " (2*1)+(-1*3)+(-2*1)   & (0*2)+(2*3) +(3*1) \\\\\n",
        " (1*0)+(-1*-1)+(-2*-2) & (0*0)+(2*-1)+(3*-2)\n",
        "\\end{pmatrix}\n",
        "\\end{equation}$$\n",
        "\n",
        "\n",
        "\n",
        "$$\\begin{equation} =\n",
        "\\begin{pmatrix}\n",
        " -3 & 9 \\\\\n",
        "  5 & -8\n",
        " \\end{pmatrix}\n",
        " \\end{equation}$$\n",
        " \n",
        " \n",
        " Esta operación cumple con la asociatividad, es distributiva respecto a la suma de matrices, no siempre es conmutativo, y  si $AB=AC$  no necesariamente se cumple que $B=C$."
      ]
    },
    {
      "cell_type": "markdown",
      "metadata": {},
      "source": [
        "#### **Multiplicacion de matrices por bloques**"
      ]
    },
    {
      "cell_type": "markdown",
      "metadata": {},
      "source": [
        "En ceiertas situaciones puedes ser conveniente manejar las matrices como partes de la misma llamadas submatrices o bloques, y posteriormente multiplicar cada uno de los bloques, en lugar de hacerlo directamente. \n"
      ]
    },
    {
      "cell_type": "markdown",
      "metadata": {},
      "source": [
        "##### Ejemplo:\n",
        "Dado el producto de matrices:\n",
        "\n",
        "$$AB=\n",
        "\\begin{pmatrix}\n",
        "1 & -1 & 2 & 4 \\\\\n",
        "2 & 0 & 4 & 5 \\\\\n",
        "1 & 1& 2 &-3\\\\\n",
        "-2&3&5&0\n",
        "\\end{pmatrix}\n",
        "\\begin{pmatrix}\n",
        "1 & 4&3\\\\\n",
        "2&-1&9\\\\\n",
        "3&2&1\\\\\n",
        "0&1&2\n",
        "\\end{pmatrix}\n",
        "$$\n",
        "Se realiza una particion de dichas matrices:\n",
        "$$\n",
        "AB = \\left( \\begin{array}{cc|cc}\n",
        "1 & -1 & 2 & 4 \\\\\n",
        "2 & 0 & 4 & 5 \\\\\n",
        "\\hline\n",
        "1 & 1 & 2 & -3 \\\\\n",
        "-2 & 3 & 5 & 0 \n",
        "\\end{array} \\right)\n",
        "\\left( \\begin{array}{cc|c}\n",
        "1 & 4 & 3 \\\\\n",
        "2& -1&0\\\\\n",
        "\\hline\n",
        "-3&2&1\\\\\n",
        "0&1&2\n",
        "\\end{array} \\right)\n",
        "= \n",
        "\\left( \\begin{array}{c|c}\n",
        "C&D\\\\\n",
        "\\hline\n",
        "E&F\n",
        "\\end{array} \\right)\n",
        "\\left( \\begin{array}{c|c}\n",
        "G&H\\\\\n",
        "\\hline\n",
        "J&K\n",
        "\\end{array} \\right)$$\n",
        "\n",
        "Se asume la verificacon de los productos entre matrices, por lo que se procede con el producto de las submatrices,se obtiene:\n",
        "\n",
        "$$AB = \\left( \n",
        "    \\begin{array}{cc}\n",
        "    C & D \\\\\n",
        "    E & F\n",
        "    \\end{array}\n",
        "    \\right)\n",
        "    \\left( \n",
        "    \\begin{array}{cc}\n",
        "    G &H\\\\\n",
        "    J&K\n",
        "    \\end{array}\n",
        "    \\right)\n",
        "    =\n",
        "    \\left(\n",
        "        \\begin{array}{c|c}\n",
        "        CG+DJ & CH+DK\\\\\n",
        "        \\hline\n",
        "        EG+FJ & EH+EK\n",
        "        \\end{array}\n",
        "    \\right)\n",
        "    $$\n",
        "\n",
        "\n",
        "Hacemos los productos de las submatrices:\n",
        "\n",
        "$CD = \n",
        "\\begin{pmatrix}\n",
        "    1 & -1\\\\\n",
        "    2 & 0\n",
        "\\end{pmatrix}\n",
        "\\begin{pmatrix}\n",
        "    1 &4\\\\\n",
        "    2&-1\n",
        "\\end{pmatrix} =\n",
        "\\begin{pmatrix}\n",
        "    -1 &5\\\\\n",
        "    2&8\n",
        "\\end{pmatrix},\n",
        "DJ=\n",
        "\\begin{pmatrix}\n",
        "    2&4\\\\\n",
        "    4&5\n",
        "\\end{pmatrix}\n",
        "\\begin{pmatrix}\n",
        "    -3&2\\\\\n",
        "    0&1\n",
        "\\end{pmatrix}=\n",
        "\\begin{pmatrix}\n",
        "    -6&8\\\\\n",
        "    -12&13\n",
        "\\end{pmatrix}\n",
        "$ \n",
        "\n",
        "y $CG+DJ=\n",
        "    \\begin{pmatrix}\n",
        "        -7&13\\\\\n",
        "        -10&21\n",
        "    \\end{pmatrix}\n",
        "    $\n",
        "\n",
        "\n",
        "Similar:\n",
        "\n",
        "$EH=\n",
        "\\begin{pmatrix}\n",
        "    1&1\\\\\n",
        "    -2&3\n",
        "\\end{pmatrix}\n",
        "\\begin{pmatrix}\n",
        "3\\\\\n",
        "0\n",
        "\\end{pmatrix}=\n",
        "\\begin{pmatrix}\n",
        "3\\\\\n",
        "-6\n",
        "\\end{pmatrix},\n",
        "FK=\n",
        "\\begin{pmatrix}\n",
        "2&-3\\\\\n",
        "5&0\n",
        "\\end{pmatrix}\n",
        "\\begin{pmatrix}\n",
        "1\\\\\n",
        "2\n",
        "\\end{pmatrix}=\n",
        "\\begin{pmatrix}\n",
        "-4\\\\\n",
        "5\n",
        "\\end{pmatrix}\n",
        "$\n",
        "\n",
        "y $EH+FK = \n",
        "\\begin{pmatrix}\n",
        "-1\\\\\n",
        "-1\n",
        "\\end{pmatrix}$\n",
        "\n",
        "ademas:\n",
        "$CH=\n",
        "\\begin{pmatrix}\n",
        "    1 & -1\\\\\n",
        "    2 & 0\n",
        "\\end{pmatrix}\n",
        "\\begin{pmatrix}\n",
        "3\\\\\n",
        "0\n",
        "\\end{pmatrix}=\n",
        "\\begin{pmatrix}\n",
        "3\\\\\n",
        "6\n",
        "\\end{pmatrix},\n",
        "DK=\n",
        "\\begin{pmatrix}\n",
        "    2&4\\\\\n",
        "    4&5\n",
        "\\end{pmatrix}\n",
        "\\begin{pmatrix}\n",
        "1\\\\\n",
        "2\n",
        "\\end{pmatrix}=\n",
        "\\begin{pmatrix}\n",
        "10\\\\\n",
        "14\n",
        "\\end{pmatrix},\n",
        "CH+DK=\n",
        "\\begin{pmatrix}\n",
        "13\\\\\n",
        "20\\end{pmatrix}\n",
        "$\n",
        "\n",
        "\n",
        "\n",
        "De esta manera:\n",
        "\n",
        "$$AB = \\left( \n",
        "    \\begin{array}{cc}\n",
        "    C & D \\\\\n",
        "    E & F\n",
        "    \\end{array}\n",
        "    \\right)\n",
        "    \\left( \n",
        "    \\begin{array}{cc}\n",
        "    G &H\\\\\n",
        "    J&K\n",
        "    \\end{array}\n",
        "    \\right)\n",
        "    =\n",
        "    \\left(\n",
        "        \\begin{array}{c|c}\n",
        "        CG+DJ & CH+DK\\\\\n",
        "        \\hline\n",
        "        EG+FJ & EH+EK\n",
        "        \\end{array}\n",
        "    \\right)=\n",
        "    \\left(\n",
        "        \\begin{array}{cc|c}\n",
        "            -7 & 13 7 13\\\\\n",
        "            -10 & 21 & 20\\\\\n",
        "            \\hline\n",
        "            -3 & 4 &-1\\\\\n",
        "            -11 & -1 & -1\n",
        "            \\end{array}\n",
        "    \\right)=\n",
        "    \\begin{pmatrix}\n",
        "    -7 & 13 & 13 \\\\\n",
        "    -10 & 21 & 20\\\\\n",
        "    -3 & 4 & -1 \\\\\n",
        "    -11 & -1 & -1\n",
        "    \\end{pmatrix}\n",
        "    $$"
      ]
    },
    {
      "cell_type": "markdown",
      "metadata": {},
      "source": [
        "### **Matriz Inversa**\n",
        "\n",
        "\n",
        "\n"
      ]
    },
    {
      "cell_type": "markdown",
      "metadata": {},
      "source": [
        "Una matriz cuadrada $A_{n\\times n}$ tiene inversa denotada como $A^{-1}$ si se cuemple que:\n",
        "\n",
        "$$AA^{-1}=A^{-1}A=I$$\n",
        "\n",
        "De donde I es la matriz identidad de tamaño n la cuál tiene unos en su diagonal y ceros en todas las demas entradas.\n",
        "\n",
        "Las matrices que tienen inversa son llamadas matrices invertibles o regulares.\n",
        "\n",
        "La matriz inversa debe cumplir:\n",
        " * Es única \n",
        " * $(A^{-1})^{-1}$ = $A$\n",
        " * $(A B)^{-1}$ = $B^{-1}$$A^{-1}$\n",
        " * $(\\alpha*A)^{-1}$=$\\frac{1}{\\alpha}$*$A^{-1}$   con $\\alpha$ distinto de 0\n",
        "\n",
        "\n",
        "#### Matriz Identidad\n",
        "\n",
        "Como se mostro en la definición de matriz inversa, Se mencionó la matriz Identidad. Ahora se define formalmente:\n",
        "$I_n$, de $n \\times n$  cumple que \n",
        "$$ I_n = (b_{ij}) \\text{ donde }  b_{ij} = \\left\\{ \\begin{matrix} 1 \\text{ si } i=j\\\\ 0 \\text{ si } i\\neq j \\end{matrix} \\right\\} $$"
      ]
    },
    {
      "cell_type": "markdown",
      "metadata": {},
      "source": [
        "##### Ejemplos\n"
      ]
    },
    {
      "cell_type": "markdown",
      "metadata": {},
      "source": [
        "Sean $A=\n",
        " \\begin{pmatrix}\n",
        " 2 & 5\\\\\n",
        " 1 & 3\n",
        " \\end{pmatrix}\n",
        "$  y\n",
        "$B=\n",
        "\\begin{pmatrix}\n",
        "3 & -5\\\\\n",
        "-1 & 2\n",
        "\\end{pmatrix}\n",
        "$.\n",
        "\n",
        "Al multiplicarlas notamos que \n",
        "$AB=\n",
        "\\begin{pmatrix}\n",
        " 2 & 5\\\\\n",
        " 1 & 3\n",
        " \\end{pmatrix}\n",
        " \\begin{pmatrix}\n",
        "3 & -5\\\\\n",
        "-1 & 2\n",
        "\\end{pmatrix}=\n",
        "\\begin{pmatrix}\n",
        "6-5 &-10 + 10\\\\\n",
        "3-3 & -5+6\n",
        "\\end{pmatrix}=\n",
        "\\begin{pmatrix}\n",
        "1 & 0 \\\\\n",
        "0&1\n",
        "\\end{pmatrix}\n",
        "$\n",
        "Se deja al lector comprobar que $BA=I$. \n",
        "\n",
        "El resultado obtenido es justamaente la llamada matrix identidad, por lo que se puede decir, es que B es la inversa de $A$, o $B=A^{-1}$\n"
      ]
    },
    {
      "cell_type": "markdown",
      "metadata": {},
      "source": [
        "#### Teorema "
      ]
    },
    {
      "cell_type": "markdown",
      "metadata": {},
      "source": [
        "Si $A$ es una matriz invertible, entonces su inversa es única.\n",
        "\n",
        "**Demostración**\n",
        "\n",
        "Suponga que $B$ y $C$ son inversas de $A$. Por definición se tiene que $AB=BA=I$ y tambien $AC=CA=I$. Entonces: \n",
        "\n",
        "$$ B= BI = B(AC) = (BA)C = IC = C$$ \n",
        "\n",
        "Por lo tanto $B=C$. "
      ]
    },
    {
      "cell_type": "markdown",
      "metadata": {},
      "source": [
        "Dada esta información tiene completo sentido preguntarnos si existe una forma  para hallar la inversa dada una matriz. \n",
        "\n",
        "##### Ejemplo. \n",
        "\n",
        "Sea $A = \n",
        "\\begin{pmatrix} \n",
        "    2 & -3\\\\\n",
        "    -4 & 5\n",
        "\\end{pmatrix}\n",
        "$ Calcule $A^{-1}$:\n",
        "\n",
        "\n",
        "Supongamos que existe y es de la forma$A^{-1}=\n",
        "\\begin{pmatrix} \n",
        "    x & y\\\\\n",
        "    w & z\n",
        "\\end{pmatrix}\n",
        "$ usando que $AA^{-1} = I$ tenemps: \n",
        "\n",
        "\n",
        "$$ AA^{-1} = \n",
        "\\begin{pmatrix} \n",
        "    2 & -3\\\\\n",
        "    -4 & 5\n",
        "\\end{pmatrix}\n",
        "\\begin{pmatrix} \n",
        "    x & y\\\\\n",
        "    w & z\n",
        "\\end{pmatrix}=\n",
        "\\begin{pmatrix} \n",
        "\n",
        "     2x + -3z & 2y -4w\\\\\n",
        "     -4x +5z & -4y +5w\n",
        "\\end{pmatrix}=\n",
        "\\begin{pmatrix}\n",
        "1 & 0 \\\\\n",
        "0 & 1\n",
        "\\end{pmatrix}$$\n",
        "\n",
        "De aquí se tiene el siguietne sistema: \n",
        "\n",
        "$\\begin{matrix}\n",
        "    2x& & &-&3z & & &= 1\\\\\n",
        "    & & 2y & & &-&3w &=0\\\\\n",
        "    4x & & &+&5z & & &=0\\\\\n",
        "    &-&4y & & &+& 5w &=1\n",
        "\\end{matrix}$\n",
        "\n",
        "Aunque este sistema es de 4 ecuaciones y cuatro incognitas, es observable que 2 ecuaciones contienen a $x$ y $z$, y otras 2 que contienen a $y$ y $w$ que cumplen com la estructura de sistema de ecuaciones, por lo que son separables en 2 sistemas de 2 ecuaciones con 2 incognitas cada uno, escribiendolo en forma de matriz aumentada:\n",
        "\n",
        "$$\\begin{pmatrix}\n",
        "2 & -3 & | 1\\\\\n",
        "-4 & 5 &|0\n",
        "\\end{pmatrix}\\hspace{3cm}(i)\\\\\n",
        "\\begin{pmatrix}\n",
        "2 & -3 & | 0\\\\\n",
        "-4 & 5 &|1\n",
        "\\end{pmatrix}\\hspace{3cm}(ii)$$\n",
        "\n",
        "Se sabe que al resolver dichos sistemas mediante metodo de Gauss-Jordan en la ecuacion $(i)$ obtendemos un resultado de la forma: \n",
        "$$\\begin{pmatrix}\n",
        "1 & 0 &|x\\\\\n",
        "0 & 1 &|z\n",
        "\\end{pmatrix}\n",
        "$$\n",
        "obteniendo el par $(x,z)$ que satisface las ecuaciones $2x -3z =1$ y $ -4x + 5z =0$. \n",
        "De manera analoga para el la matrix $(ii)$ se obtendra un par de elementos $(y,w)$ que satisface las ecuaciones  $2y -3w =1$ y $-4x+5z-0$.\n",
        "\n",
        "\n",
        "Ahora, como las matrices de coeficientes de cada sistema son iguales, quiere decir que las operaciones elementales por renglones aplicadas en cada proceso son las mismas, por lo que perimitimos reducirla a expresarla de esta forma: \n",
        "\n",
        "$$ \n",
        "\\begin{pmatrix}\n",
        "2 & -3 &|&1 & 0\\\\\n",
        "-4 & 5 &|& 0 &1\n",
        "\\end{pmatrix}\n",
        "$$\n",
        "\n",
        "Ahora si $A$ es invertible entonces la solución a este sístema es única y, además, esta dada por las soluciones de los sistemas de ecuaciones mencionados anteriormente. Es decir posterior a la reducción por método de Gauss-Jordan tendríamos que: \n",
        "\n",
        "$$\n",
        "\\begin{pmatrix}\n",
        "1 & 0 &|& x & y \\\\\n",
        "0 & 1 &|& z & w\n",
        "\\end{pmatrix}\n",
        "$$\n",
        "\n",
        "Sabiendo esto, hallemos los valores correspondientes a las variables $x,y,z,w$. Para ello colocamos la matriz al lado izquierdo y al derecho la matriz identica y aplicamos operaciones elementales:\n",
        "\n",
        "\n",
        "$\n",
        "\\begin{pmatrix}\n",
        "2 & -3 &|&1 & 0\\\\\n",
        "-4 & 5 &|& 0 &1\n",
        "\\end{pmatrix}\n",
        "\\xrightarrow{R_1 \\rightarrow \\frac{1}{2}R_1}\n",
        "\\begin{pmatrix}\n",
        "1 & \\frac{-3}{2} &|& \\frac{1}{2} & 0\\\\\n",
        "-4 &5&|& 0 & 1 \n",
        "\\end{pmatrix}\n",
        "\\xrightarrow{R_2 \\rightarrow R_2 + 4R_1}\n",
        "\\begin{pmatrix}\n",
        "1 & \\frac{-3}{2}  &|& \\frac{1}{2} & 0\\\\\n",
        "0 & -1 &|& 2 & 1\\\\\n",
        "\\end{pmatrix}\n",
        "\\xrightarrow{R_2 \\rightarrow -R_2}\n",
        "\\begin{pmatrix}\n",
        "1 & \\frac{-3}{2}  &|& \\frac{1}{2} & 0\\\\\n",
        "0 & 1 &|& -2 & -1\\\\\n",
        "\\end{pmatrix}\n",
        "\\xrightarrow{R_1 \\rightarrow R_1 + \\frac{3}{2}R_2}\n",
        "\\begin{pmatrix}\n",
        "1 & 0 &|&\\frac{-5}{2}&\\frac{-3}{2}\\\\\n",
        "0 & 1&|& -2 & -1\n",
        "\\end{pmatrix}\n",
        "$\n",
        "\n",
        "Aqui se comprueba que la matriz es invertible y que su inversa es justamente $A^{-1} = \\begin{pmatrix}\\frac{-5}{2}&\\frac{-3}{2}\\\\-2 & -1 \\end{pmatrix}$.\n",
        "\n",
        "\n",
        "Para comprobarlo se realiza la multiplicación de las matrices:\n",
        "$AA^{-1} =\n",
        "\\begin{pmatrix}\n",
        "2 & -3\\\\\n",
        "-4 & 5\n",
        "\\end{pmatrix}\n",
        "\\begin{pmatrix}\n",
        "\\frac{-5}{2} & \\frac{-3}{2}\\\\\n",
        "-2 & -1\n",
        "\\end{pmatrix}=\n",
        "\\begin{pmatrix}\n",
        "2\\cdot \\frac{-5}{2} + (-3\\cdot -2) & (2 \\cdot \\frac{-3}{2} + (-3 \\cdot -1)  \\\\\n",
        "(-4 \\cdot \\frac{-5}{2}) + (5 \\cdot -2) & (-4 \\cdot \\frac{-3}{2})+(5 \\cdot -1)\n",
        "\\end{pmatrix}=\n",
        "\\begin{pmatrix}\n",
        "    -5 + 6 & -3 +3 \\\\ \n",
        "    10 -10 & 6-5\n",
        "\\end{pmatrix}= \n",
        "\\begin{pmatrix}\n",
        "1 & 0\\\\\n",
        "0 & 1\n",
        "\\end{pmatrix}\n",
        "$\n"
      ]
    },
    {
      "cell_type": "markdown",
      "metadata": {},
      "source": [
        "**Teorema** \n",
        "Sea una matrix $A$ de $n \\times n$ \n",
        "1. $A$ es invertible si y solo si $A$ es equivalente por renglones a la matriz identidad, i.e. si la forma escalonada reducida de $A$ es $I_n$\n",
        "2. $A$ es invertible si y solo si el sistema $Ax=b$ donde $x$ es un vector columna de incógnitas, y $b$ un vector columna de resultadom,  tiene solución unica. \n",
        "3. Si $A$ es invertible entonces la solución del sistema $Ax=b$ está dada por $x= A^{-1}b$.\n",
        "4. $A$ es invertible si solo si su forma escalonada reducida tiene $n$ pivotes i.e. $\\forall a_{ii} \\in A, a_{ii}=1$  "
      ]
    },
    {
      "cell_type": "markdown",
      "metadata": {},
      "source": [
        "### **Matriz Transpuesta**"
      ]
    },
    {
      "cell_type": "markdown",
      "metadata": {},
      "source": [
        "Sea $A=(a_{ij})$ una matriz de $m \\times n$. Entonces la transpuesta de $A$ denotada $A^T$, es una matriz de $n \\times m$ que se obtiene al intercambias las filas por las columnas de la matriz. En otras palabras:\n",
        "\n",
        "$$ A=\n",
        "\\begin{pmatrix}\n",
        "    a_{11} & a_{12} & \\cdots & a_{1n}\\\\\n",
        "    a_{21} & a_{22} & \\cdots & a_{2n}\\\\\n",
        "    \\vdots & \\vdots & \\ddots & \\vdots\\\\\n",
        "    a_{m1} & a_{m2} & \\cdots & a_{mn}\n",
        "\\end{pmatrix},\n",
        "A^T =\n",
        "\\begin{pmatrix}\n",
        "    a_{11} & a_{21} & \\cdots & a_{m1}\\\\\n",
        "    a_{12} & a_{22} & \\cdots & a_{m2}\\\\\n",
        "    \\vdots & \\vdots & \\ddots & \\vdots\\\\\n",
        "    a_{1n} & a_{2n} & \\cdots & a_{mn}\n",
        "\\end{pmatrix}\n",
        "$$\n",
        "\n",
        "\n",
        "**Teorema**\n",
        "Suponga qur $A=(a_{ij})$  de $n \\times m$ y %B=(b_{ij})$ de $m \\times p$ entonces:\n",
        "1. $(A^T)^T = A$\n",
        "2. (AB)^T =B^TA^T\n",
        "3. si $A$ y $B$ son matrices $n \\times m$ entonces $(A +B)^T = A^T = B^R$\n",
        "4. Si $A$ es inverible entonces $A^T$ es invertible y $(A^T)^{-1} = (A^{-1})^T$"
      ]
    },
    {
      "cell_type": "markdown",
      "metadata": {},
      "source": [
        "### Matriz simétrica"
      ]
    },
    {
      "cell_type": "markdown",
      "metadata": {},
      "source": [
        "dada una matriz cuadrada $A$, es decir, $n \\times n$, se denomina simátrica si $A^T = A$ es decir si las columnas de la matriz son exactamente las filas de matriz. \n",
        " "
      ]
    },
    {
      "cell_type": "markdown",
      "metadata": {},
      "source": [
        "### Triangular superior (o inferior)"
      ]
    },
    {
      "cell_type": "markdown",
      "metadata": {},
      "source": [
        "Una matriz $A$ de $n \\times n$ se demona triangular superior si $\\forall a_{ij} \\in A$ donde $i<j, a_{ij} = 0$\n",
        "\n",
        "\n",
        "Para el caso de triangular inferior basta con cambiar la definición a $i>j$"
      ]
    },
    {
      "cell_type": "markdown",
      "metadata": {},
      "source": [
        "### Matriz elemental"
      ]
    },
    {
      "cell_type": "markdown",
      "metadata": {},
      "source": [
        "Una matriz cuadrada $E$ de $n \\times n$ se denomina matriz elemental si se puede obtener a partir de la matriz identidad $I_n$ mediante una sola operación elemental por renglones. "
      ]
    },
    {
      "cell_type": "markdown",
      "metadata": {},
      "source": [
        "Dichas definiciones anteriores tienen la finalidad de ayudarnos a introducir el siguiente método. "
      ]
    },
    {
      "cell_type": "markdown",
      "metadata": {},
      "source": [
        "### Factorización LU de una matriz.\n"
      ]
    },
    {
      "cell_type": "markdown",
      "metadata": {},
      "source": [
        "En este proceso se introducirá una forma de mostrar que una matriz cuadrada puede ser escrita como el producto de una matriz $L$ triangular inferior con una matriz $U$ triangular superior.\n",
        "\n",
        "Para el proósito de esta sección se utilizará un proceso similar a la eliminación Gaussiana (la cual provee una matriz triangular superior) pero con la particularidad de que no es de nuestro interés que la diagola de la matriz está compuesta únicamente por 1s."
      ]
    },
    {
      "cell_type": "markdown",
      "metadata": {},
      "source": [
        "#### Ejemplo\n",
        "1. dada la matriz:\n",
        "\n",
        "$$ A=\n",
        "\\begin{pmatrix}\n",
        "    2 & 3& 2& 4\\\\\n",
        "    4 & 10 & -4 & 0 \\\\\n",
        "    -3 & -2 & -5 & -2 \\\\\n",
        "    -2 & 4 & 4 & -7\n",
        "\\end{pmatrix}\n",
        "$$\n",
        "Para escribirla como el producto de una triagular inferior por una superior o aplicar factorizacion LU, se proceden a buscar hacer 0 los elementos debajo de la diagonal si, necesariamente multiplicar la diagonal por sus inversos:\n",
        "\n",
        "\n",
        "$\n",
        "\\begin{pmatrix}\n",
        "    2 & 3& 2& 4\\\\\n",
        "    4 & 10 & -4 & 0 \\\\\n",
        "    -3 & -2 & -5 & -2 \\\\\n",
        "    -2 & 4 & 4 & -7\n",
        "\\end{pmatrix}\n",
        "\\xrightarrow[R_2 \\rightarrow R_2 -2R_1]{\\begin{matrix} R_3 &\\rightarrow& R_3 &+& \\frac{3}{2}R_1\\\\ R_4 &\\rightarrow & R_4 &+& R_1\\end{matrix}}\n",
        "\\begin{pmatrix}\n",
        "    2 & 3 & 2 & 4\\\\\n",
        "    0 & 4 & -8 & -8 \\\\\n",
        "    0 & \\frac{5}{2} & -2 & 4\\\\\n",
        "    0 &7 & 6 & -3\n",
        "\\end{pmatrix}\n",
        "\\xrightarrow[R_3 \\rightarrow R_3 -\\frac{5}{8}R_2]{R_4 \\rightarrow R_4 -\\frac{7}{4}R_2}\n",
        "\\begin{pmatrix}\n",
        "    2 & 3 & 2 & 4 \\\\\n",
        "    0 & 4 & -8 & -8 \\\\\n",
        "    0 & 0 & 3 & 9 \\\\\n",
        "    0 & 0 & 20 & 11 \n",
        "\\end{pmatrix}\n",
        "\\xrightarrow{R_4 \\rightarrow R_4 - \\frac{20}{3}R_3}\n",
        "\\begin{pmatrix}\n",
        "    2 & 3 & 2 & 4 \\\\\n",
        "    0 & 4 &-8 & -8 \\\\\n",
        "    0 & 0 & 3 & 9 \\\\\n",
        "    0 & 0 & 0 & -49\n",
        "\\end{pmatrix}\n",
        "$\n",
        "\n",
        "Ahora utilizando cada una de las operaciones elementales haciendo las matrices elementales se tiene:\n",
        "\n",
        "$A=\n",
        "\\begin{pmatrix}\n",
        "    1 & 0 & 0 & 0 \\\\\n",
        "    2 & 1 & 0 & 0 \\\\\n",
        "    0 & 0 & 1 & 0 \\\\\n",
        "    0 & 0 & 0 & 1\n",
        "\\end{pmatrix}\n",
        "\\begin{pmatrix}\n",
        "    1 & 0 & 0 & 0 \\\\\n",
        "    0 & 1 & 0 & 0 \\\\\n",
        "    \\frac{-3}{2} & 0 & 1 &0 \\\\\n",
        "    0 & 0 & 0 1\n",
        "\\end{pmatrix}\n",
        "\\begin{pmatrix}\n",
        "    1 & 0 & 0 & 0 \\\\\n",
        "    0 & 1 & 0 & 0 \\\\\n",
        "    0 & 0 & 1 & 0 \\\\\n",
        "    -1 & 0 & 0 & 1\n",
        "\\end{pmatrix} \n",
        "\\begin{pmatrix}\n",
        "    1 & 0 & 0 &0 \\\\\n",
        "    0 & 1 & 0 & 0 \\\\\n",
        "    0 & \\frac{5}{8} & 1 & 0 \\\\\n",
        "    0 & 0 & 0 & 1\n",
        "\\end{pmatrix}\n",
        "\\begin{pmatrix}\n",
        "    1 & 0 & 0 & 0 \\\\\n",
        "    0 & 1 & 0 & 0 \\\\\n",
        "    0 & 0 & 1 & 0 \\\\\n",
        "    0 & 0 & \\frac{20}{3} & 1 \n",
        "\\end{pmatrix}U$\n",
        "\n",
        "\n",
        "Se ha reescrito la matriz $A$ como el producto, al realizar el producto de las matrices elementales. \n",
        "\n",
        "\n",
        "$L = \n",
        "\\begin{pmatrix}\n",
        "    1 & 0 & 0 & 0 \\\\\n",
        "    2 & 1 & 0 & 0 \\\\\n",
        "    \\frac{-3}{2} & \\frac{5}{8} & 1 & 0 \\\\\n",
        "    -1 & \\frac{7}{4} & \\frac{20}{3} & 1\n",
        "\\end{pmatrix}\n",
        "$\n",
        "la cual se puede notar que corresponde a una matriz inferior que, particularmente, tiene unos en su diagonal principal. \n",
        "\n",
        "Por lo que se puede reescribir $A=LU$, por lo que este par de matrices es llamado la descomposicion $LU$ de la matrix $A$.\n",
        "\n",
        "\n",
        "\n",
        "\n",
        "\n",
        "\n",
        "\n"
      ]
    },
    {
      "cell_type": "markdown",
      "metadata": {},
      "source": [
        "**Teorema** \n",
        "El producto de matrices triangulares inferiores con 1 en la diagonal principal es una matriz triangular inferior con unos en la diagonal principal. "
      ]
    },
    {
      "cell_type": "markdown",
      "metadata": {},
      "source": [
        "**Teorema**\n",
        "\n",
        "Sea $A$ una matriz cuadrada de $n \\times n$ y suponga que $A$ se puede reducir por renglones a una matriz triangular superior $U$ sin hacer permutaciones entre filas. Entonces existe una matriz triangular inferior $L$, que es invertible, con unos en la diagonal principal tal que $A = LU$ si, además, $A$ es invertible, ($U$ tiene $n$ pivotes) entonces dicha descomposición es única.  "
      ]
    },
    {
      "cell_type": "markdown",
      "metadata": {},
      "source": [
        "\n",
        "Ahora la presentación de dicha descomposición tiene sentido pues tiene aplicaciones en la solución de sistemas de ecuaciones."
      ]
    },
    {
      "cell_type": "markdown",
      "metadata": {},
      "source": [
        "#### Uso de la factorización $LU$ para resolver sistemas. "
      ]
    },
    {
      "cell_type": "markdown",
      "metadata": {},
      "source": [
        "Suponga que se tiene el sistema $Ax =b$ donde \n",
        "\n",
        "$$A=\n",
        "\\begin{pmatrix}\n",
        "    2 & 3 & 2 & 4\\\\\n",
        "    4 & 10 & -4 & 0\\\\\n",
        "    -3 & -2 & -5 & -2 \\\\\n",
        "    -2 & 4 & 4 & -7\n",
        "\\end{pmatrix}\n",
        "\\text{ y }\n",
        "b=\n",
        "\\begin{pmatrix}\n",
        "4 \\\\\n",
        "-8\\\\\n",
        "-4\\\\\n",
        "-1\n",
        "\\end{pmatrix}\n",
        "$$\n",
        "\n",
        "\n",
        "dicha matriz se puede descomponer en $LU$ donde: \n",
        "\n",
        "$$\n",
        "L = \n",
        "\\begin{pmatrix}\n",
        "    1 & 0 & 0 & 0 \\\\\n",
        "    2 & 1 & 0 & 0 \\\\\n",
        "    \\frac{-3}{2} & \\frac{5}{8} & 1 & 0 \\\\\n",
        "    -1 & \\frac{7}{4} & \\frac{20}{3} & 1\n",
        "\\end{pmatrix}\n",
        "\\text{ y } \n",
        "U=\n",
        "\\begin{pmatrix}\n",
        "    2 & 3 & 2 & 4 \\\\\n",
        "    0 & 4 &-8 & -8 \\\\\n",
        "    0 & 0 & 3 & 9 \\\\\n",
        "    0 & 0 & 0 & -49\n",
        "\\end{pmatrix}$$\n",
        "\n",
        "\n",
        "De aqui se construye el sistema de ecuaciones $Ly=b$\n",
        "$$\n",
        "\\begin{matrix}\n",
        "y_1& & & & & & & =4\\\\\n",
        "2y_1 &+& y_2 & & & & &=-8\\\\\n",
        "-\\frac{3}{2}y_1 &+&\\frac{5}{8}y_2 &+&y_3 & & &=-4\\\\\n",
        "-y_1 &+& \\frac{7}{4}y_2 &+& \\frac{20}{3}y_3 &+& y_4 &=-1\\\\\n",
        "\\end{matrix}$$\n",
        "\n",
        "De donde \n",
        "\n",
        "$$\n",
        "\\begin{matrix}\n",
        "    y_1 &=& 4\\\\ \n",
        "    y_2 &=&-4 -2_y = -16\\\\\n",
        "    y_3 &=& -4 +\\frac{3}{2}y_1 +\\frac{5}{8}y_2=12\\\\\n",
        "    y_4 &=& -1 + y_1 - \\frac{7}{4}y_2-\\frac{20}{3}y_3=49  \n",
        "\\end{matrix}\n",
        "$$\n",
        " \n",
        "Ahora de $Ux = y$ se obtiene:\n",
        "$$\\begin{matrix}\n",
        "    2x_1 &+& 3x_2 &+& 2x_3 &+& 4x_4 &=4\\\\\n",
        "    & & 4x_2 &-& 8x_3 &-&8x_4 &=-16\\\\\n",
        "    & & & &3x_3 &+& 9x_4 &=12\\\\\n",
        "    & & & & & & 49x_4& =4\\\\\n",
        "\\end{matrix}$$\n",
        "\n",
        "De donde \n",
        "\n",
        "$$\n",
        "\\begin{matrix}\n",
        "    x_4 &=& 1\\\\ \n",
        "    3x_3 &=& 12 - 9x_4 = 3 & \\Rightarrow x_3 =1\\\\\n",
        "    4x_2 &=& -16 +8x_3 +8x_4 =0 &\\Rightarrow x_2 =0\\\\\n",
        "    2x_1 &=& 4 -3x_2 -2x_3 4x_4 = -2 &\\Rightarrow x_1 = -1\n",
        "\\end{matrix}\n",
        "$$\n",
        "\n",
        "Obtendiendo que la solucion es: \n",
        "\n",
        "$$ \n",
        "\\begin{pmatrix}\n",
        "-1\\\\\n",
        "0\\\\\n",
        "1\\\\\n",
        "1\n",
        "\\end{pmatrix}\n",
        "$$\n",
        "\n",
        "\n",
        "\n"
      ]
    },
    {
      "cell_type": "markdown",
      "metadata": {},
      "source": [
        "#### La factorizacion $PA = LU$"
      ]
    },
    {
      "cell_type": "markdown",
      "metadata": {},
      "source": [
        "Suponga que con el proppósito de reducir una matriz $A$ a una matriz triangular se requiere alguna permutación. Una matriz de permutación elemental es una matriz elemental asociada con la operación intercambio con renglones $R_i \\leftrightarrow R_j$, Suponga que, de momento, se sabe por anticipado cuáles permutaciones deben realizarse. Cada permutación se lleva a cabo multiplicando $A$ por la izquiera por una matriz de permutación elemental denotada por $P_i$, suponga que en la reducción pro renglones se realizan $n$ permutaciones. Sea: \n",
        "\n",
        "$$P= P_nP_{n-1}...P_2P_1$$\n",
        "El producto de las matrices de permutaciones elementales que se llamará matriz de permutación. \n",
        "De formar alternativa, una matriz de permutación es una matriz $n \\times n$ cuyos renglones son renglones de $I_n$ pero no necesariamente en el mismo orden. \n",
        "\n",
        "Ahora, hacer las $n$ permutaciones de antemano es equivalente a multiplicar $A$ por la izquer por $P$, es decir: \n",
        "\n",
        "$PA$ es una matriz que debe ser reducida por renglones a una matriz triangular superior sin realizar permutaciones adicionales.\n"
      ]
    },
    {
      "cell_type": "markdown",
      "metadata": {},
      "source": [
        "##### Ejemplo:"
      ]
    },
    {
      "cell_type": "markdown",
      "metadata": {},
      "source": [
        "1. Dada la matriz \n",
        "\n",
        "$$ A =\n",
        "\\begin{pmatrix}\n",
        "    0 & 2 & 3\\\\\n",
        "    2  & -4 & 7\\\\\n",
        "    1 & -2 & 5\n",
        "\\end{pmatrix}\n",
        "$$\n",
        "\n",
        "Para realizar la reduccion se realizaron 2 permutaciones, primero se intercambian filo 1 con fila 3 y luego fila 2 con la fila 3:\n",
        "\n",
        "\n",
        "$\\begin{pmatrix}\n",
        "    0 & 2 & 3\\\\\n",
        "    2  & -4 & 7\\\\\n",
        "    1 & -2 & 5\n",
        "\\end{pmatrix}\n",
        "\\xrightarrow{R_1 \\leftrightarrow R_3}\n",
        "\\begin{pmatrix}\n",
        "    1 & -2 & 5\\\\\n",
        "    2  & -4 & 7\\\\\n",
        "    0 & 2 & 3\n",
        "\\end{pmatrix}\n",
        "\\xrightarrow{R_2 \\rightarrow R_2 -2R_1}\n",
        "\\begin{pmatrix}\n",
        "    1 & -2 & 5\\\\\n",
        "    0 & 0& -3 \\\\\n",
        "    0 & 2 &3 \n",
        "\\end{pmatrix}\n",
        "\\xrightarrow{R_2 \\leftrightarrow R_3}\n",
        "\\begin{pmatrix}\n",
        "    1 & -2 & 5\\\\\n",
        "    0 & 2 & 3\\\\\n",
        "    0 & 0 7 3\n",
        "\\end{pmatrix}\n",
        "$\n",
        "\n",
        "de aqui \n",
        "\n",
        "$$P_1=\n",
        "\\begin{pmatrix}\n",
        "    0 & 0 &1\\\\\n",
        "    0 &1 & 0\\\\\n",
        "    1 & 0& 0\n",
        "\\end{pmatrix}\n",
        "\\text{ y }\n",
        "P_2=\n",
        "\\begin{pmatrix}\n",
        "    1 & 0 & 0\\\\\n",
        "    0 & 0 & 1\\\\\n",
        "    0 & 1 & 0\n",
        "\\end{pmatrix}\n",
        "$$\n",
        "\n",
        "Se tiene: \n",
        "\n",
        "$$P_1=\n",
        "\\begin{pmatrix}\n",
        "    0 & 0 &1\\\\\n",
        "    0 &1 & 0\\\\\n",
        "    1 & 0& 0\n",
        "\\end{pmatrix}\n",
        "\\begin{pmatrix}\n",
        "    1 & 0 & 0\\\\\n",
        "    0 & 0 & 1\\\\\n",
        "    0 & 1 & 0\n",
        "\\end{pmatrix}\n",
        "=\n",
        "\\begin{pmatrix}\n",
        "    0 & 0 & 1 \\\\\n",
        "    1 & 0 & 0 \\\\\n",
        "    0 & 1 & 0\n",
        "\\end{pmatrix}\n",
        "$$\n",
        "\n",
        "Si operamos con la matriz $A$:\n",
        "\n",
        "$PA=\n",
        "\\begin{pmatrix}\n",
        "    0 & 0 & 1 \\\\\n",
        "    1 & 0 & 0 \\\\\n",
        "    0 & 1 & 0\n",
        "\\end{pmatrix}\n",
        "\\begin{pmatrix}\n",
        "    0 & 2 & 3\\\\\n",
        "    2  & -4 & 7\\\\\n",
        "    1 & -2 & 5\n",
        "\\end{pmatrix}=\n",
        "\\begin{pmatrix}\n",
        "    1 & -2 & 5\\\\\n",
        "    0 & 2 & 3\\\\\n",
        "    2 & -4 & 7\n",
        "\\end{pmatrix}\n",
        "$\n",
        "\n"
      ]
    },
    {
      "cell_type": "markdown",
      "metadata": {},
      "source": [
        "**Teorema**\n",
        "\n",
        "Sea $A$ una matriz inveritble de $n \\times n$ Entonces existe una matriz de permutación $P$ tal que: \n",
        "\n",
        "$$ PA=LU $$\n",
        "donde L es una matriz triangular inferior con unos en la diagonal y $U es triangular superior. Para cada $P$ las matrices $L$ y $U$ son únicas. "
      ]
    },
    {
      "cell_type": "markdown",
      "metadata": {},
      "source": []
    },
    {
      "cell_type": "markdown",
      "metadata": {},
      "source": [
        "### Determinantes"
      ]
    },
    {
      "cell_type": "markdown",
      "metadata": {},
      "source": [
        "Sea $A=\n",
        "\\begin{pmatrix}\n",
        " a_{11} & a_{12}\\\\\n",
        " a_{21} & a_{22}\n",
        " \\end{pmatrix}$ una matriz de $2 \\times 2$ se define el determinante de A como:\n",
        "\n",
        " $$ det(A)= a_{11}\\cdot a_{22} - a_{21}\\cdot a_{21}$$\n",
        "\n",
        " Con frecuencia denotado con $|\\cdot|$:\n",
        "\n",
        "$$ |A| = \n",
        "\\begin{array}{|cc|}\n",
        "    a_{11} & a_{12}\\\\\n",
        "    a_{21} & a_{22}\n",
        "\\end{array}\n",
        "$$\n",
        "\n",
        "Se probó que $A$ es invertible si y solo si $det(A) \\neq 0$. Como se verá más aelante, este importante teorema es válido para matrices de $n \\times n$.\n",
        "\n",
        "\n"
      ]
    },
    {
      "cell_type": "markdown",
      "metadata": {},
      "source": [
        "#### Ejemplo.\n",
        "1. considere la matriz:\n",
        "\n",
        "$$A=\n",
        "\\begin{pmatrix}\n",
        "    2 & 1 \\\\\n",
        "    1 & 4\n",
        "\\end{pmatrix}\n",
        "$$\n",
        "entonces: $det(A)=(2 \\cdot 4)- (1 \\cdot 1) = 8 -1 = 7$\n"
      ]
    },
    {
      "cell_type": "markdown",
      "metadata": {},
      "source": [
        "A continuación se presentarán y desarrollarán propiedades importantes de los determinantes y cómo se pueden utilizar para el cálculo de la inversa de una matriz y solucionar sistemas de ecuaciones de $n \\times n$. "
      ]
    },
    {
      "cell_type": "markdown",
      "metadata": {},
      "source": [
        "### Propiedades de determinantes"
      ]
    },
    {
      "cell_type": "markdown",
      "metadata": {},
      "source": [
        "1. Sea $t \\in \\mathbb{R}$ se tiene que: \n",
        "\n",
        "$\\begin{array}{|cc|}\n",
        "    a_{11} & ta_{12}\\\\\n",
        "    a_{21} & ta_{22}\n",
        "\\end{array} = t \\cdot \\begin{array}{|cc|}\n",
        "    a_{11} & a_{12}\\\\\n",
        "    a_{21} & a_{22}\n",
        "\\end{array} = t \\cdot(a_{11}\\cdot a_{22} - a_{21}\\cdot a_{21}) $\n",
        "\n",
        "2. Sean $b,c \\in \\mathbb{R}$:\n",
        "\n",
        "$\\begin{array}{|cc|}\n",
        "    a_{11} & a_{12}+b\\\\\n",
        "    a_{21} & a_{22}+c\n",
        "\\end{array}=\n",
        "\\begin{array}{|cc|}\n",
        "    a_{11} & a_{12}\\\\\n",
        "    a_{22} &a_{22}\n",
        "\\end{array} + \n",
        "\\begin{array}{|cc|}\n",
        "    a_{11} & b\\\\\n",
        "    a_{21} & c\n",
        "\\end{array}\n",
        "$\n",
        "\n",
        "3. El intercambio de filas cambia el signo del determinante i.e.:\n",
        "\n",
        "\n",
        "$\n",
        "\\begin{array}{|cc|}\n",
        "    a_{11} & a_{12}\\\\\n",
        "    a_{21} & a_{22}\n",
        "\\end{array}=\n",
        "-\\begin{array}{|cc|}\n",
        "    a_{21} & a_{22}\\\\\n",
        "    a_{11} & a_{12}\n",
        "\\end{array}\n",
        "$\n"
      ]
    },
    {
      "cell_type": "markdown",
      "metadata": {},
      "source": [
        "A partir de aquí es natural la pregunta respecto a la existencia de determinantes en matrices superiores, es decir matrices de $n \\times n \\text{ con } n\\in \\mathbb{R} $.\n",
        "\n",
        "Se definira de manera inductiva, es decir el determinante para una matriz de $ 3 \\times 3$ se hará sobre el caso de $2 \\times 2$ que ya se definió.\n",
        "\n",
        "Sea:\n",
        "\n",
        "\n",
        "$$ A = (a_{ij}) = \n",
        "\\begin{pmatrix}\n",
        "    a_{11} & a_{12} & a_{13}\\\\\n",
        "    a_{21} & a_{22} & a_{23}\\\\\n",
        "    a_{31} & a_{32} & a_{32}\n",
        "\\end{pmatrix}$$\n",
        "\n",
        "De aquí su determinante se calcula basado en expansión por filas.\n",
        "\n",
        "$$det(A)=\n",
        "a_{11}\n",
        "\\begin{array}{|cc|}\n",
        "    a_{22} & a_{23}\\\\\n",
        "    a_{32} & a_{33}\n",
        "\\end{array}-\n",
        "a_{12}\n",
        "\\begin{array}{|cc|}\n",
        "    a_{21} & a_{23}\\\\\n",
        "    a_{31} & a_{33}\n",
        "\\end{array}+\n",
        "a_{13}\n",
        "\\begin{array}{|cc|}\n",
        "    a_{21} & a_{22}\\\\\n",
        "    a_{31} & a_{32}\n",
        "\\end{array}=\n",
        "\\begin{array}{|ccc|}\n",
        "    a_{11} & a_{12} & a_{13}\\\\\n",
        "    a_{21} & a_{22} & a_{23}\\\\\n",
        "    a_{31} & a_{32} & a_{32}\n",
        "\\end{array}\n",
        "$$\n",
        "\n",
        "Si $A_{ij}$ es la matriz obtenida eliminando la fila $i$ y la columna $j$ de la matriz A entonces $det(A) = a_{11}\\cdot det(A_{11}) - a_{12}\\cdot det(A_{12})+ a_{13} \\cdot det(A_{13})$\n",
        "    "
      ]
    },
    {
      "cell_type": "markdown",
      "metadata": {},
      "source": [
        "#### Ejemplo.\n",
        "\n",
        "1. Sea $A= \n",
        "\\begin{pmatrix}\n",
        "    4 & 7 & -2 \\\\\n",
        "    3 & -5 & 1 \\\\\n",
        "    -8 & 6 & 9 \n",
        "\\end{pmatrix}$ para calcular $det(A)$:\n",
        "\n",
        "$|A|=\n",
        "\\begin{array}{|ccc|}\n",
        "    4 & 7 & -2 \\\\\n",
        "    3 & -5 & 1 \\\\\n",
        "    -8 & 6 & 9 \n",
        "\\end{array} = \n",
        "4 \\cdot \n",
        "\\begin{array}{|cc|}\n",
        "    -5 & 1 \\\\\n",
        "    6 & 9\n",
        "\\end{array}\n",
        "-7\n",
        "\\begin{array}{|cc|}\n",
        "    3 & 1 \\\\\n",
        "    -8 & 9\n",
        "\\end{array}\n",
        "-2\n",
        "\\begin{array}{|cc|}\n",
        "    3 & -5 \\\\\n",
        "    -8 & 6\n",
        "\\end{array}\\\\\n",
        "=4 ((-5 \\cdot 9)-(6 \\cdot 1)) -7((3 \\cdot 9) - (-8 \\cdot 1)) -2 ((3 \\cdot 6)-(-8 \\cdot -5))=\n",
        "4 \\cdot(-45 - 6) -7(27 + 8) -2(18 -40)= 4\\cdot -51 -7\\cdot35 -2\\cdot-22= -204 -245 + 44 = -405\n",
        "$"
      ]
    },
    {
      "cell_type": "markdown",
      "metadata": {},
      "source": [
        "#### Cofactor \n"
      ]
    },
    {
      "cell_type": "markdown",
      "metadata": {},
      "source": [
        "\n",
        "Con el fin de generalizar el calculo de determinantes,si $A$ es una matriz de $ n \\times n$ diremos que, utlizando la notación anterior, $A_{ij}$ es el cofactor $ij$ de la matriz $A$. Se puede definir el determinante para $A$ así: $$det(A) = \\sum_{i = 1}^{n} (-1)^{n+1} a_{1i}\\cdot det(A_{1i})$$\n",
        "\n",
        "\n",
        "Ahora se presentarán algunos teoremas obtenidos a partir de la definición del determinante de  una matriz.\n",
        "\n",
        "\n",
        "**Teorema** \n",
        "\n",
        "Si a $a una matriz riangular superior (o inferior) entonces\n",
        "$$det(A) = \\prod_{i=1}^{n} a_{ii}$$\n",
        "\n",
        "Es decir, es el producto de los elementos de su diagonal.\n",
        "\n",
        "**Teorema**\n",
        "\n",
        "Sea $T$ una matriz triangular superior, entonces $T$ es invertible si y sólo si $det(T)\\neq 0$\n",
        "\n",
        "**Teorema** \n",
        "\n",
        "Sean $A$ y $B$ matrices de $n \\times n$ entonces\n",
        "\n",
        "$$det(AB) = det(A) \\cdot det(B)$$\n",
        "\n",
        "\n",
        "**Teorema** \n",
        "\n",
        "Si una matriz cuadrada $A$, es decir de $n \\times n$, tiene factorización $LU$, $A =LU$ donde $L$ tiene unos en su diagonal principal entonces:\n",
        "$$det(A) = det(U) = \\prod_{i=1}^n u_{ii}$$\n",
        "\n",
        "donde $u_{ii}$ son los elementosd e la diagonal de $U$\n",
        "\n",
        "**Teorema** \n",
        "\n",
        "Si $PA = LU$, donde $P$ es la matriz de permutaciones y $L$ y $U$ son matrices diagonal inferior y superior respectivamente, donde $L$ tiene unos en su diagonal principal entonces:\n",
        "$$det(A) = \\frac{det(U)}{det(P)} = \\pm det(U)$$\n",
        "\n",
        "**Teorema**\n",
        "\n",
        "$det(A)=det(A^T)$, donde $A^T$ es la matriz traspuesta de $A$.\n",
        "\n",
        "\n",
        "**Teorema** \n",
        "\n",
        "Si $A$ tiene una columna o fila de ceros, es decir $\\exists i$ tal que $a_{ij}= 0$ para $j = 1,2,...,n$ si es columna $\\exists j$ tal que $a_{ij}= 0$ para $i = 1,2,...,n$ entonces $det(A) =0$.\n",
        "\n",
        "\n",
        "\n",
        "\n",
        "**Propiedad** \n",
        "\n",
        "Si $B$ es una matriz obtenida a partir de multiplicar la fila $i$ o columna $j$ de una matriz $A$ entonces =\n",
        "\n",
        "$$det(B) = |B| = \n",
        "\\begin{vmatrix}\n",
        "    a_{11} & a_{12} & \\cdots & a_{1n}\\\\\n",
        "    a_{21} & a_{22} & \\cdots & a_{2n}\\\\\n",
        "    \\vdots & \\vdots & \\ddots & \\vdots \\\\\n",
        "    ca_{i1} & ca_{i2} & \\cdots & ca_{in}\\\\\n",
        "    \\vdots & \\vdots & \\ddots & \\vdots \\\\\n",
        "    a_{n1} & a_{n2} & \\cdots & a_{nn}\n",
        "\\end{vmatrix}=\n",
        "c\\begin{vmatrix}\n",
        "    a_{11} & a_{12} & \\cdots & a_{1n}\\\\\n",
        "    a_{21} & a_{22} & \\cdots & a_{2n}\\\\\n",
        "    \\vdots & \\vdots & \\ddots & \\vdots \\\\\n",
        "    a_{i1} & a_{i2} & \\cdots & a_{in}\\\\\n",
        "    \\vdots & \\vdots & \\ddots & \\vdots \\\\\n",
        "    a_{n1} & a_{n2} & \\cdots & a_{nn}\n",
        "\\end{vmatrix}\n",
        "=c|A|$$\n",
        "\n",
        "\n",
        "**Propiedad** \n",
        "\n",
        "El intercambio de renglones en el determinante de una matriz la multiplica por $-1$. es decir sea $B$ la matriz obtenida al intercambiar la fila $i$ por la fila $k$ de $A$ entonces:\n",
        "\n",
        "\n",
        "$$|B|=\n",
        "\\begin{vmatrix}\n",
        "    a_{11} & a_{12} & \\cdots & a_{1n}\\\\\n",
        "    a_{21} & a_{22} & \\cdots & a_{2n}\\\\\n",
        "    \\vdots & \\vdots & \\ddots & \\vdots \\\\\n",
        "    a_{j1} & a_{j2} & \\cdots & a_{jn}\\\\\n",
        "    \\vdots & \\vdots & \\ddots & \\vdots \\\\\n",
        "    a_{i1} & a_{i2} & \\cdots & a_{in}\\\\\n",
        "    \\vdots & \\vdots & \\ddots & \\vdots \\\\\n",
        "    a_{n1} & a_{n2} & \\cdots & a_{nn}\n",
        "\\end{vmatrix}=-\n",
        "\\begin{vmatrix}\n",
        "    a_{11} & a_{12} & \\cdots & a_{1n}\\\\\n",
        "    a_{21} & a_{22} & \\cdots & a_{2n}\\\\\n",
        "    \\vdots & \\vdots & \\ddots & \\vdots \\\\\n",
        "    a_{i1} & a_{i2} & \\cdots & a_{in}\\\\\n",
        "    \\vdots & \\vdots & \\ddots & \\vdots \\\\\n",
        "    a_{j1} & a_{j2} & \\cdots & a_{jn}\\\\\n",
        "    \\vdots & \\vdots & \\ddots & \\vdots \\\\\n",
        "    a_{n1} & a_{n2} & \\cdots & a_{nn}\n",
        "\\end{vmatrix} = -|A|$$\n",
        "\n",
        "**Propiedad** \n",
        "\n",
        "Si $A$ tiene 2 filas o columnas que son iguales o una es múltiplo de otra, es decir $a_{ij}=ca_{kj}$ para $k\\neq i$ y $j=1,2,...,n$ entonces $det(A)=0$\n",
        "\n",
        "\n",
        "**Propiedad** \n",
        "\n",
        "Si se suma un múltiplo escalar de una fila o columna a otro de $A$ entonces el determinante de $A$ no cambia. \n",
        "\n",
        "\n",
        "**Teorema** \n",
        "\n",
        "Si $A$ es invertible entonces $det(A) \\neq 0$ y: \n",
        "$$det(A^{-1}) = \\frac{1}{det(A)}$$"
      ]
    },
    {
      "cell_type": "markdown",
      "metadata": {},
      "source": [
        "#### Matriz adjunta"
      ]
    },
    {
      "cell_type": "markdown",
      "metadata": {},
      "source": [
        "Sea $A$ de $n \\times n$, si $B$ es la matriz de cofactores de $A$, es decir:\n",
        "$B=\n",
        "\\begin{pmatrix}\n",
        "    A_{11} & A_{12} & \\cdots & A_{1n}\\\\\n",
        "    A_{21} & A_{22} & \\cdots & A_{2n}\\\\\n",
        "    \\vdots & \\vdots & \\ddots & \\vdots \\\\\n",
        "    A_{n1} & A_{n2} & \\cdots & A_{nn}\n",
        "\\end{pmatrix}$ Entonces definimos la adjunta como:\n",
        "\n",
        "$$adj(A)=B^T=\n",
        "\\begin{pmatrix}\n",
        "    A_{11} & A_{21} & \\cdots & A_{n1} \\\\\n",
        "    A_{21} & A_{22} & \\cdots & A_{n2} \\\\\n",
        "    \\vdots & \\vdots & \\ddots & \\vdots \\\\\n",
        "    A_{n1} & A_{2n} & \\cdots & A_{nn}\n",
        "\\end{pmatrix}$$\n",
        "\n",
        "\n",
        "**Teorema** \n",
        "Sea $A$ una matriz de $ n \\times n$ entonces:\n",
        "\n",
        "$$A \\cdot det(A) = \n",
        "\\begin{pmatrix}\n",
        "    det(A) & 0 & \\cdots & 0 \\\\\n",
        "    0 & det(A) & \\cdots & 0\\\\\n",
        "    0 & 0 & \\ddots & \\vdots \\\\\n",
        "    0 & 0 & \\cdots & det(A)\n",
        "\\end{pmatrix}$$\n",
        "\n",
        "**Teorema**\n",
        "\n",
        "Sea $A$ una matriz de $n \\times n$ Entonces $A$ es invertible si y solo si $det(A) \\neq 0$, entonces :\n",
        "\n",
        "$$A^{-1} = \\frac{1}{det(A)} \\cdot adj(A)$$\n",
        "\n",
        "\n",
        "\n"
      ]
    },
    {
      "cell_type": "markdown",
      "metadata": {},
      "source": [
        "### Regla de Cramer"
      ]
    },
    {
      "cell_type": "markdown",
      "metadata": {},
      "source": [
        "En esta sección se presentará un método para encontrar soluciones a sistemas de ecuaciones cuadrados, es decir $n$ ecuaciones con $n$ incógnitas.  Suponga el sistema:\n",
        "\n",
        "$$\n",
        "\\begin{matrix}\n",
        "    a_{11}x_1 &+& a_{12}x_2 &+& \\cdots &+& a_{1n}x_n &=b_1\\\\\n",
        "    a_{21}x_1 &+& a_{22}x_2 &+& \\cdots &+& a_{2n}x_n &=b_2 \\\\\n",
        "    \\vdots  & & \\vdots & & \\ddots & & \\vdots &= \\vdots\\\\\n",
        "    a_{n1}x_1 &+& a_{n2} &+& \\cdots &+& a_{nn} &= b_n\n",
        "\\end{matrix}$$\n",
        "\n",
        "De forma alterna $$AX=b$$\n",
        "\n",
        "Si se sabe que $det(A)$ entonces el sistem tiene solución única y está dada por $x = A^{-1}b$. se puede desarrollar un método para encontrar dicha solución sin realizar reducción renglones (Gauss-Jordan o eliminación Gaussiana). Sea $d = det(A)$ se definen $n$ nuevas matrices. \n",
        "\n",
        "$$A_1=\n",
        "\\begin{pmatrix}\n",
        "    b_1 & a_{12} & \\cdots & a_{1n}\\\\\n",
        "    b_2 & a_{22} & \\cdots & a_{2n}\\\\\n",
        "    \\vdots & \\vdots & \\ddots & \\vdots\\\\\n",
        "    b_n & a_{n2} & \\cdots & a_{nn}\\\\\n",
        "\\end{pmatrix},\n",
        "A_2=\n",
        "\\begin{pmatrix}\n",
        "    a_{11} & b_1 & \\cdots & a_{1n}\\\\\n",
        "    a_{21} & b_2 & \\cdots & a_{2n}\\\\\n",
        "    \\vdots & \\vdots & \\ddots & \\vdots\\\\\n",
        "    a_{n1} & b_n  & \\cdots & a_{nn}\\\\\n",
        "\\end{pmatrix}, ...,\n",
        "A_n=\n",
        "\\begin{pmatrix}\n",
        "    a_{11} & a_{12} & \\cdots & b_1\\\\\n",
        "    a_{21} & a_{22} & \\cdots & b_2\\\\\n",
        "    \\vdots & \\vdots & \\ddots & \\vdots\\\\\n",
        "    a_{n1} & a_{2n} & \\cdots & b_n\n",
        "\\end{pmatrix}$$\n",
        "\n",
        "Es decir, los $A_i$ son lñas matrices obtenidas reemplazando la columna $i$ de la matriz $A$ por el vector de resultados $b$. Por último, sea $d_i =det(A_i)$. \n",
        "\n",
        "**Teorema** \n",
        "\n",
        "Sea $A$ luna matriz de $n \\times n$  y suponga que $det(A)\\neq 0$. Entonces la solución al sistema $Ax=b$ está dada por:\n",
        "\n",
        "$$x_i = \\frac{d_1}{d}$$\n",
        "\n",
        "Es decir, la incognita $x_i$ corresponde al cociente del determinante de la matriz $A_i$ obtenida al reemplazar la columna $i$ por $b$ y dividirlo entre el determinante de la matriz $A$ "
      ]
    },
    {
      "cell_type": "markdown",
      "metadata": {},
      "source": [
        "#### Ejemplo"
      ]
    },
    {
      "cell_type": "markdown",
      "metadata": {},
      "source": [
        "1. Considere el sistema: \n",
        "\n",
        "$$ \n",
        "\\begin{matrix}\n",
        "    2x_1 &+& 4x_2 &+& 6x_3 &= 18 \\\\\n",
        "    4x_1 &+& 5x_2 &+& 6x_3 &= 23 \\\\\n",
        "    3x_1 &+& x_2 &-& 2x_3 &= 4\n",
        "\\end{matrix} $$\n",
        "\n",
        "Hallamos el determinante de la matriz reducida: \n",
        "\n",
        "$$\n",
        "\\begin{vmatrix}\n",
        "    2 & 4 & 6 \\\\\n",
        "    4 & 5 & 6 \\\\\n",
        "    3 & 1 & -2\n",
        "\\end{vmatrix} = 6 \\neq 0$$\n",
        "\n",
        "Ahora para $x_1$: \n",
        "\n",
        "$d_1 = \n",
        "\\begin{vmatrix}\n",
        "    18 & 4 & 6 \\\\\n",
        "    23 & 5 & 6 \\\\\n",
        "    4 & 1 & -2\n",
        "\\end{vmatrix} = 24$, de aquí $x_1 = \\frac{d_1}{d}= \\frac{24}{6}=4$\n",
        "\n",
        "$d_2=\n",
        "\\begin{vmatrix}\n",
        "    2 & 18 & 6 \\\\\n",
        "    4 & 24 & 6 \\\\\n",
        "    3 & 4 & -2\n",
        "\\end{vmatrix}=-12$, de aquí $x_2 = \\frac{-12}{6}=-2$\n",
        "\n",
        "$d_3=\n",
        "\\begin{vmatrix}\n",
        "    2 & 4 & 18 \\\\\n",
        "    4 & 5 & 24 \\\\\n",
        "    3 & 1 & 4\n",
        "\\end{vmatrix}=18$, de aquí $x_3 = \\frac{18}{6}=3$"
      ]
    },
    {
      "cell_type": "markdown",
      "metadata": {},
      "source": []
    },
    {
      "cell_type": "markdown",
      "metadata": {},
      "source": [
        "## Espacios vectoriales"
      ]
    },
    {
      "cell_type": "markdown",
      "metadata": {},
      "source": [
        "Se define un espacio vectorial $V$ como un conjunto de objetos llamados vectores, equipados con 2 operaciones binatias llamadas suma y múltiplicación por escalary que satisfacen: \n",
        "\n",
        "\n",
        "1. Si $x,y \\in V$, entonces $x+y \\in V$ Axioma de cerradura. \n",
        "2. $\\forall x,y,z \\in V$, se tiene $(x+y)+z = x+(y+z)$ asociatividad de la suma.\n",
        "3. Existe un vectori $v_0 \\in V$ tal que $\\forall x \\in V$ se tiene $x+v_0 = v_0 +x =x$ modulo o identidad aditiva.\n",
        "4. Si $x \\in V$ entonces $\\exists -x \\in V$ tal que $x +(-x) =v_0$  existencia de inversos aditivos.\n",
        "5. Si $x, y \\in V$ entonces $x+y= y+x$ Ley conmutativa.\n",
        "6. Si $x \\in V$ y $\\alpha$ un escalar, entonces $\\alpha x \\in V$ cerradura bajo multiplicación por escalar. \n",
        "7. Si $x \\in V$ y $\\alpha $ es un escalar entonces $\\alpha (y+x) = \\alpha y + \\alpha x$ distributividad.\n",
        "8. Si $x \\in V$ y $\\alpha$ y $\\beta$ son escalaes, entonces $(\\alpha + \\beta)x = \\alpha x + \\beta x$ Distributidad.\n",
        "9. Si $x \\in V$ y $\\alpha$ y $\\beta$ son escalaes, entonces $\\alpha (\\beta x)= (\\alpha \\beta)x$ asociatividad de escalares. \n",
        "10. $\\forall x \\in V$, $1x = x$ \n",
        "\n",
        "Ahora se presenarán algunos ejemplos de espacios vectoriales con el fin de alinear un poco más la teoría anteriomente presentada. \n"
      ]
    },
    {
      "cell_type": "markdown",
      "metadata": {},
      "source": [
        "#### Ejemplos"
      ]
    },
    {
      "cell_type": "markdown",
      "metadata": {},
      "source": [
        "\n",
        "\n",
        "\n",
        "1. El espacio $\\mathbb{R}^n$:\n",
        "\n",
        "Sea $V \\in \\mathbb{R}^n = \n",
        "\\left\\{\n",
        "    \\begin{pmatrix}\n",
        "    x_1\\\\\n",
        "    x_2 \\\\\n",
        "    \\vdots\\\\\n",
        "    x_n\n",
        "\\end{pmatrix}, x_i \\in \\mathbb{R} \\right\\}$ para $i=1,2,..,n $.\n",
        "Cada vectir en $\\mathbb{R}^n$ es una matrix de $n \\times 1$ (o un vector columna) \n",
        "\n",
        "2. El espacio vectorial trivial.\n",
        "\n",
        "Sea $V = \\{0\\}$, donde el único elemento es $0$ cumple todos los axiomas anteriores, es llamado trivial pues cumple claramente todos los axiomas pero no aporta inforamción relevante. \n",
        "\n",
        "\n",
        "3. Puntos en $\\mathbb{R}^2$ que corresponden a una recta que pasa por el origen. \n",
        "\n",
        "Sea $V=\\{(x,y): y=mx\\}$ donde $m,x \\in \\mathbb{R}, m\\neq 0$ fijo. y $x$ arbitrario. \n",
        "es decir dado un $m$ $V$ tiene todos los elementos en la recta que forma dicha ecuación.\n",
        "\n",
        "4. El espacio vectorial $P_n$ \n",
        "Sea $V =P_n$ el conjunto de polinomios con coeficientes reales de grado menor o igual que $n$. Sea $p \\in P_n$ entonces:\n",
        "\n",
        "$$p(x)= a_nx^n + a_{n-1}x^{n-1} + \\cdots + a_1x + a_0$$\n",
        "\n",
        "donde $a_i \\in \\mathbb{R}$. \n",
        "\n",
        "\n",
        "\n",
        "Ahora, algunos ejemplos de casos en lo que no componen un espacio vectorial.\n",
        "\n",
        "5. El caso del conjunto unitario. \n",
        "\n",
        "Sea $V = {1}$, este conjunto no compone un espacio vectorial puesviola el primer axioma, dado que $1+1 =2 \\not \\in V$\n",
        "\n",
        "6. Una recta que no pasa por el origen.\n",
        "\n",
        "Sea $V= \\{(x,y): y=2x+1\\}, x \\in \\mathbb{R}$, es decir $V$ es el conjundo de puntos que están sobre la recta $y=2x+1$. $V$ no es un espacio vectorial porque no cumple la cerradura bajo la suma.\n",
        "\n",
        "\n",
        "7. El Espacio Vectorial $M_{mn}$\n",
        "\n",
        "Si $V=M_{mn}$ denota el conjunto de todas las mtrices de $m \\times n$ con componentes reales, entonces con las propiedades usuales se puede verificar que es un espacio vectorial. \n",
        "\n"
      ]
    },
    {
      "cell_type": "markdown",
      "metadata": {},
      "source": [
        "**Teorema** \n",
        "\n",
        "Sea $V$ un espacio vectorial. Entonces:\n",
        "\n",
        "1. $\\alpha v_0 = v_0, \\forall \\alpha$\n",
        "2. $v_0 \\cdot x = v_0, \\forall x \\in V$\n",
        "3. Si $\\alpha x = v_0$ entonces $a=0$ o $x=v_0$\n",
        "4. $(-1)x = -x \\forall x\\in V $\n",
        "\n",
        "  "
      ]
    },
    {
      "cell_type": "markdown",
      "metadata": {},
      "source": [
        "### Subespacios vectoriales. "
      ]
    },
    {
      "cell_type": "markdown",
      "metadata": {},
      "source": [
        "De los ejemplos anteriores se vio que $V=\\{(x,y):y=mx \\}$ es un espacio vectorial, ahora sabiendo que $\\mathbb{R}^2$ es un espacio vectorial, es claro que $V\\subset \\mathbb{R}^2$ pues para todo $(x,y) \\in V, (x,y) \\in \\mathbb{R}^2$ sin embargo el recíproco no es siempre cierto. de aquí definimos:\n",
        "\n",
        "**Definición**\n",
        "Se dice que $H$ es un subespacio vectorial de un espacio vectorial $V$ si $H \\neq \\varnothing $ y es un subconjunto de $V$, y $H$ es un espacio vectorial bajo las operaciones de suma y multiplicación en $V$\n",
        "\n",
        "**Teorema** \n",
        "Si un subconjunto no vacío $H$ de im espacio vectorial $V$, es un subespacio de $V$ si se cumplen:\n",
        "\n",
        "1. Si $x,y \\in H$ entonces $x+y \\in H$\n",
        "2. Si $x \\in H$ entonces $\\alpha x \\in H$ \n",
        "\n",
        "Es decir, basta con comprobar las propiedades de cerradura, cabe aclarar que cualquier subespacio vectorial contiene $V_0$\n",
        "\n",
        "**Teorema** \n",
        "\n",
        "Sean $H_1$ y $H_2$ dis subespacio de un espacio vectorial $V$ entonces $H_1 \\cap h_2$ es un subespacio de $V$\n",
        "\n",
        "\n"
      ]
    },
    {
      "cell_type": "markdown",
      "metadata": {},
      "source": [
        "### Combinación lineal y espacio generado."
      ]
    },
    {
      "cell_type": "markdown",
      "metadata": {},
      "source": [
        "**definición** \n",
        "\n",
        "Sean $v_1, v_2,...,v_n$ ventores en un espacio vectorial $V$ entonces cualquier vector de la forma:\n",
        "\n",
        "$$a_1v_1+a_2v_2+\\cdots+a_nv_n$$\n",
        "donde $a_i$ son escalares se denomina una combinación lineal de $v_1, v_2,...,v_n$."
      ]
    },
    {
      "cell_type": "markdown",
      "metadata": {},
      "source": [
        "**Definición**\n",
        "\n",
        "Se dice que los vectores $v_1, v_2,...,v_n$ de un espacio vectorial $V$ **generan** a $V$ si para cualquier otro vector $V$ se puede escribir como una combinación lineal de los anteriores, es decir\n",
        "Si $x\\in V$\n",
        "\n",
        "$$x = a_1v_1+a_2v_2+\\cdots+a_nv_n$$\n"
      ]
    },
    {
      "cell_type": "markdown",
      "metadata": {},
      "source": [
        "**Definición** \n",
        "\n",
        "Sea $v_1,v_2,...,v_k$ $k$ vectores de un espacio vectorial $V$, El **espacio generado** por \\{v_1,v_2,...,v_k\\} es el conjunto de todas las combinaciones lineales de dichos vectores, es decir:\n",
        "\n",
        "$$gen(\\{v_1,v_2,...,v_k\\}) = \\{v:= a_1v_1+a_2v_2+\\cdots+a_nkv_k\\}$$\n",
        "\n",
        "**Teorema** \n",
        "\n",
        "Si $v_1,v_2,...,v_k$ vectores de un espacio vectorial $V$, entonces $gen=\\{v_1,v_2,...,v_k\\}$\n",
        " es un subespacio de $V$\n",
        "\n",
        " **Teorema** \n",
        "\n",
        " Sean $v_1,v_2,...,v_n, v_{n+1}$ vectores en un espacio vectorial $V$. Si $v_1,v_2,...,v_n$ generan a $V$ entonces $v_1,v_2,...,v_n, v_{n+1}$ también genera a $V$ es decir al agregar uno o más vectores al conjunto generador se obtiene otro conjunto generador. "
      ]
    },
    {
      "cell_type": "markdown",
      "metadata": {},
      "source": [
        "### Independencia Lineal"
      ]
    },
    {
      "cell_type": "markdown",
      "metadata": {},
      "source": [
        "El enfoque de esta seccón es presentar propiedades y relaciones entre los vectores de un espacio vectorial. \n",
        "\n",
        "Como introducción se buscará entender los resultados de la pregunta: ¿existe una relación espacia entre vectores $v_1 =\n",
        "\\begin{pmatrix}\n",
        "    1 \\\\\n",
        "    2\n",
        "\\end{pmatrix}$ y $v_2 = \n",
        "\\begin{pmatrix}\n",
        "    2\\\\\n",
        "    4\n",
        "\\end{pmatrix}$. Se puede ver que $v_2 = 2v_1$, o de otra forma: $v_2 -2v_1 =v_0$, es decir el vector nulo se puede escribir como una combinación lineal (no trivial i.e. $a \\neq 0$) del vector $v_1$.\n",
        "\n",
        "\n",
        "En el siguiente caso cabe la misma pregunta. sean: \n",
        "\n",
        "$v_1=\n",
        "\\begin{pmatrix}\n",
        "    1 \\\\\n",
        "    2 \\\\\n",
        "    3\n",
        "\\end{pmatrix}, v_2=\n",
        "\\begin{pmatrix}\n",
        "    -4 \\\\\n",
        "    1 \\\\\n",
        "    5\n",
        "\\end{pmatrix}, v_3 =\n",
        "\\begin{pmatrix}\n",
        "    -5\\\\\n",
        "    8\\\\\n",
        "    19\n",
        "\\end{pmatrix}$. Aunque no es tan sencillo de ver, como el caso anterior se puede comprobar que:\n",
        "$v_3 = 3v_1 +2v_2$, que en otras palabras $v_3 -3v_1-2v_2 =v_0$, por lo que, otra vez, se puede reescribir el vector nulo como una combinación lineal no trivial de dichos vectores. \n",
        "De aquí, se presenta la siguiente definición.\n",
        "\n",
        "**Definición**\n",
        "\n",
        "Sean $v_1,v_2,...,v_n$ vectoires de un espacio vectorial $V$. Entonces se dice que los vectores on linealmente independientes si existen $n$ escalares $a_1,a_2,...,a_n$ no todos cero tal que:\n",
        "\n",
        "$$ a_1v_1+a_2v_2+\\cdots+a_nv_n =v_0$$\n",
        "\n",
        "Si los vectores no son linealmente independiente se dice que son lineamente dependientes. \n",
        "\n",
        "**Teorema** \n",
        "\n",
        "Dados dos vectores $v_1,v_2$ son linealmente dependientes si y solo si uno es un multiplo escalar de otro.\n",
        "\n",
        "**teorema**\n",
        "\n",
        "Un conjunto de $n$ vectores en $\\mathbb{R}^m$ es siempre linealmente dependiente si $n>m$.\n",
        "\n",
        "**Corolario** \n",
        "\n",
        "Un conjunto de vectores linealmente independientes en $\\mathbb{R}^n$ contiene a lo más $n$ vectores. \n",
        "\n",
        "\n",
        "**Teorema** \n",
        "\n",
        "Sea $A=\n",
        "\\begin{pmatrix}\n",
        "    a_{11} & a_{12} & \\cdots & a_{1n}\\\\\n",
        "    a_{21} & a_{22} & \\cdots & a_{2n} \\\\\n",
        "    \\vdots & \\vdots & \\ddots & \\vdots \\\\\n",
        "    a_{n1} & a_{2n} & \\cdots & a_{nn}\n",
        "\\end{pmatrix}\n",
        "$\n",
        "Entonces las columnas de $A$ consideradas como vectoires son linealmente dependientes si el sistema $Av=0$ tiene soluciones no triviales, es decir\n",
        "el vector:\n",
        "$$v=\n",
        "\\begin{pmatrix}\n",
        "    v_1\\\\\n",
        "    v_2\\\\\n",
        "    \\vdots\\\\\n",
        "    v_n\n",
        "\\end{pmatrix}\n",
        "$$\n",
        "no todos sus elementos son 0. \n",
        "\n",
        "\n",
        "**Teorema**\n",
        "\n",
        "Sea $v_1,v_2,...,v_n$ vectores en $\\mathbb{R}^n$ y sea $A$ y una matriz de $n \\times n$ cuyas columnas son $v_1,v_2,...,v_n$. Entonces $v_1,v_2,...,v_n$ son linealmente independientes si y solo si  la única solución al sistema $Ax=0$ es la llamada solución trivial $x=v_0$.\n",
        "\n",
        "**Teorema** \n",
        "\n",
        "Sea $A$ una matriz de $n \\times n$. Entonces $det(A) \\neq 0$ si y sólo si las columnas de $A$ son linealmente independientes.\n",
        "\n",
        "\n",
        "**Teorema**\n",
        "\n",
        "Cualquier conjunto de $n$ vectores linealmente independientes en $\\mathbb{R}^n$ genera a $\\mathbb{R}^n$\n",
        "\n",
        "\n",
        "\n"
      ]
    },
    {
      "cell_type": "markdown",
      "metadata": {},
      "source": [
        "### Bases Y dimensión\n"
      ]
    },
    {
      "cell_type": "markdown",
      "metadata": {},
      "source": [
        "**Definición** \n",
        "\n",
        "Dado un conjunto finito de vectores $\\{v_1,v_2,...,v_n\\}$ es una **base** para un espacio vectorial $V$ si \n",
        "1. $\\{v_1,v_2,...,v_n\\}$ es linealmente independiente.\n",
        "2. $\\{v_1,v_2,...,v_n\\}$ genera a $V$\n",
        "\n",
        "\n",
        "**Teorema**\n",
        "\n",
        "Si $\\{v_1,v_2,...,v_n\\}$ es una base para $V$ y si $v \\in V$ entonces existe un conjunto *único* de escalares $a_1,a_2,..., a_n$ tales que $v=a_1v_1+a_2v_2+\\cdots+a_nv_n$\n",
        "\n",
        "\n",
        "**Teorema**\n",
        "\n",
        "Si $\\{v_1,v_2,...,v_n\\}$ y $\\{u_1,u_2,...,u_m\\}$ son bases para un espacio vectorial $V$ entonces $m =n$, es decir cualesquiera 2 bases para un sepacio vectorial $V$ tienen el mismo número de vectores. \n",
        "\n",
        "\n",
        "**Definición**\n",
        "\n",
        "Si el espacio vectorial $V$ tiene una base con un número finito de elementos, entonces la dimensión de $V$ denotado $dim(V)$ es justamente el número de vectores en todas las bases de $V$ y se demonima espacio de dimensión finita. \n",
        "\n",
        "**Teorema**\n",
        "\n",
        "Suponga que $dim(V) = n$. Si $u_1,u_2,..,u_m$ es un conjunto de $m$ vectores linealmente independientes en $V$, entonces $m \\leq n$ \n",
        "\n",
        "**Teorema** \n",
        "\n",
        "Sea $H$ un subespacio de un espaci ovectorial de dimensión finita $V$. Entonces $H$ tiene dinsensión finita y:\n",
        "$$dim(H) \\leq dim(V)$$\n",
        "\n",
        "\n",
        "**teorema**\n",
        "\n",
        "Cualquier conjunto de $n$ vectores linealmente independiente en un espacio vectorial $V$ de dimensión $n$ constituyen una base para $V$.\n",
        "\n",
        "\n",
        "\n"
      ]
    },
    {
      "cell_type": "markdown",
      "metadata": {},
      "source": []
    },
    {
      "cell_type": "code",
      "execution_count": null,
      "metadata": {},
      "outputs": [],
      "source": []
    }
  ],
  "metadata": {
    "colab": {
      "authorship_tag": "ABX9TyOOYAx/jxOWRGbAwKIHiBVT",
      "include_colab_link": true,
      "provenance": []
    },
    "kernelspec": {
      "display_name": "Python 3",
      "name": "python3"
    },
    "language_info": {
      "codemirror_mode": {
        "name": "ipython",
        "version": 3
      },
      "file_extension": ".py",
      "mimetype": "text/x-python",
      "name": "python",
      "nbconvert_exporter": "python",
      "pygments_lexer": "ipython3",
      "version": "3.10.12"
    }
  },
  "nbformat": 4,
  "nbformat_minor": 0
}
